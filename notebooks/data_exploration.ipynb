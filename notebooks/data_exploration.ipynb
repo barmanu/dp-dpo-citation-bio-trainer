{
 "cells": [
  {
   "cell_type": "code",
   "execution_count": 3,
   "metadata": {},
   "outputs": [],
   "source": [
    "import pandas as pd\n",
    "import numpy as np\n",
    "import os"
   ]
  },
  {
   "cell_type": "code",
   "execution_count": 19,
   "metadata": {},
   "outputs": [],
   "source": [
    "home_path = '/nlp/cs_data'\n",
    "dest_path = '/nlp/cs_data_full'"
   ]
  },
  {
   "cell_type": "markdown",
   "metadata": {},
   "source": [
    "### Combine all files into a new folder"
   ]
  },
  {
   "cell_type": "code",
   "execution_count": 41,
   "metadata": {},
   "outputs": [],
   "source": [
    "docs = 0\n",
    "folder_ind = 0\n",
    "file_ind = 0\n",
    "for folder_path in os.listdir(home_path):\n",
    "    full_folder_path = os.path.join(home_path, folder_path)\n",
    "    print(len(os.listdir(full_folder_path)))\n",
    "    docs += len(os.listdir(full_folder_path))\n",
    "    print(full_folder_path)\n",
    "    for path in os.listdir(full_folder_path):\n",
    "        file_ind += 1\n",
    "        ret_cmd = os.system('cp '+os.path.join(full_folder_path,path) + ' '+ dest_path)\n",
    "        if ret_cmd != 0:\n",
    "            print(os.path.join(full_folder_path, path))\n",
    "    folder_ind += 1"
   ]
  },
  {
   "cell_type": "markdown",
   "metadata": {},
   "source": [
    "### Shuffle and split into train-test"
   ]
  },
  {
   "cell_type": "code",
   "execution_count": 89,
   "metadata": {},
   "outputs": [],
   "source": [
    "import random\n",
    "from random import shuffle\n",
    "random.seed(10)"
   ]
  },
  {
   "cell_type": "code",
   "execution_count": 51,
   "metadata": {},
   "outputs": [],
   "source": [
    "files_ls = os.listdir(dest_path)"
   ]
  },
  {
   "cell_type": "code",
   "execution_count": 53,
   "metadata": {},
   "outputs": [],
   "source": [
    "shuffle(files_ls)"
   ]
  },
  {
   "cell_type": "code",
   "execution_count": 54,
   "metadata": {},
   "outputs": [],
   "source": [
    "train_ls = files_ls[0: int(0.8 * len(files_ls))]\n",
    "test_ls  = files_ls[int(0.8 * len(files_ls)):]"
   ]
  },
  {
   "cell_type": "code",
   "execution_count": null,
   "metadata": {},
   "outputs": [],
   "source": [
    "for fpath in train_ls:\n",
    "    os.system('cp '+ os.path.join(dest_path, fpath) + ' '+ os.path.join(dest_path, 'cs_data_train'))"
   ]
  },
  {
   "cell_type": "code",
   "execution_count": 59,
   "metadata": {},
   "outputs": [],
   "source": [
    "for fpath in test_ls:\n",
    "    os.system('cp '+ os.path.join(dest_path, fpath) + ' '+ os.path.join(dest_path, 'cs_data_test'))"
   ]
  },
  {
   "cell_type": "code",
   "execution_count": 96,
   "metadata": {},
   "outputs": [],
   "source": [
    "#len(os.listdir(os.path.join(dest_path, 'cs_data_train')))"
   ]
  },
  {
   "cell_type": "code",
   "execution_count": 95,
   "metadata": {},
   "outputs": [
    {
     "data": {
      "text/plain": [
       "7786"
      ]
     },
     "execution_count": 95,
     "metadata": {},
     "output_type": "execute_result"
    }
   ],
   "source": [
    "#len(os.listdir(os.path.join(dest_path, 'cs_data_test')))"
   ]
  },
  {
   "cell_type": "code",
   "execution_count": null,
   "metadata": {},
   "outputs": [],
   "source": []
  }
 ],
 "metadata": {
  "kernelspec": {
   "display_name": "Python 3",
   "language": "python",
   "name": "python3"
  },
  "language_info": {
   "codemirror_mode": {
    "name": "ipython",
    "version": 3
   },
   "file_extension": ".py",
   "mimetype": "text/x-python",
   "name": "python",
   "nbconvert_exporter": "python",
   "pygments_lexer": "ipython3",
   "version": "3.7.7"
  }
 },
 "nbformat": 4,
 "nbformat_minor": 4
}
