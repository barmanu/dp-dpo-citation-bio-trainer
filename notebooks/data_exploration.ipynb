{
 "cells": [
  {
   "cell_type": "code",
   "execution_count": 1,
   "metadata": {},
   "outputs": [
    {
     "name": "stderr",
     "output_type": "stream",
     "text": [
      "/home/joshib/.cache/pypoetry/virtualenvs/dp-dpo-citation-bio-trainer-FaGiNfZ9-py3.7/lib/python3.7/site-packages/pandas/compat/__init__.py:117: UserWarning: Could not import the lzma module. Your installed Python is incomplete. Attempting to use lzma compression will result in a RuntimeError.\n",
      "  warnings.warn(msg)\n",
      "/home/joshib/.cache/pypoetry/virtualenvs/dp-dpo-citation-bio-trainer-FaGiNfZ9-py3.7/lib/python3.7/site-packages/ipykernel_launcher.py:5: FutureWarning: Passing a negative integer is deprecated in version 1.0 and will not be supported in future version. Instead, use None to not limit the column width.\n",
      "  \"\"\"\n"
     ]
    }
   ],
   "source": [
    "import pandas as pd\n",
    "import numpy as np\n",
    "import os\n",
    "pd.set_option('display.max_rows', None)\n",
    "pd.set_option('display.max_colwidth', -1)"
   ]
  },
  {
   "cell_type": "code",
   "execution_count": 2,
   "metadata": {},
   "outputs": [],
   "source": [
    "home_path = '/nlp/cs_data'\n",
    "dest_path = '/nlp/cs_data_full'"
   ]
  },
  {
   "cell_type": "markdown",
   "metadata": {},
   "source": [
    "### Combine all files into a new folder"
   ]
  },
  {
   "cell_type": "code",
   "execution_count": 3,
   "metadata": {},
   "outputs": [],
   "source": [
    "# docs = 0\n",
    "# folder_ind = 0\n",
    "# file_ind = 0\n",
    "# for folder_path in os.listdir(home_path):\n",
    "#     full_folder_path = os.path.join(home_path, folder_path)\n",
    "#     print(len(os.listdir(full_folder_path)))\n",
    "#     docs += len(os.listdir(full_folder_path))\n",
    "#     print(full_folder_path)\n",
    "#     for path in os.listdir(full_folder_path):\n",
    "#         file_ind += 1\n",
    "#         ret_cmd = os.system('cp '+os.path.join(full_folder_path,path) + ' '+ dest_path)\n",
    "#         if ret_cmd != 0:\n",
    "#             print(os.path.join(full_folder_path, path))\n",
    "#     folder_ind += 1"
   ]
  },
  {
   "cell_type": "markdown",
   "metadata": {},
   "source": [
    "### Shuffle and split into train-test"
   ]
  },
  {
   "cell_type": "code",
   "execution_count": 4,
   "metadata": {},
   "outputs": [],
   "source": [
    "# import random\n",
    "# from random import shuffle\n",
    "# random.seed(10)"
   ]
  },
  {
   "cell_type": "code",
   "execution_count": 5,
   "metadata": {},
   "outputs": [],
   "source": [
    "#files_ls = os.listdir(dest_path)"
   ]
  },
  {
   "cell_type": "code",
   "execution_count": 6,
   "metadata": {},
   "outputs": [],
   "source": [
    "#shuffle(files_ls)"
   ]
  },
  {
   "cell_type": "code",
   "execution_count": 7,
   "metadata": {},
   "outputs": [],
   "source": [
    "# train_ls = files_ls[0: int(0.8 * len(files_ls))]\n",
    "# test_ls  = files_ls[int(0.8 * len(files_ls)):]"
   ]
  },
  {
   "cell_type": "code",
   "execution_count": 8,
   "metadata": {},
   "outputs": [],
   "source": [
    "# for fpath in train_ls:\n",
    "#     os.system('cp '+ os.path.join(dest_path, fpath) + ' '+ os.path.join(dest_path, 'cs_data_train'))"
   ]
  },
  {
   "cell_type": "code",
   "execution_count": 9,
   "metadata": {},
   "outputs": [],
   "source": [
    "# for fpath in test_ls:\n",
    "#     os.system('cp '+ os.path.join(dest_path, fpath) + ' '+ os.path.join(dest_path, 'cs_data_test'))"
   ]
  },
  {
   "cell_type": "code",
   "execution_count": 10,
   "metadata": {},
   "outputs": [],
   "source": [
    "#len(os.listdir(os.path.join(dest_path, 'cs_data_train')))"
   ]
  },
  {
   "cell_type": "code",
   "execution_count": 11,
   "metadata": {},
   "outputs": [],
   "source": [
    "#len(os.listdir(os.path.join(dest_path, 'cs_data_test')))"
   ]
  },
  {
   "cell_type": "markdown",
   "metadata": {},
   "source": [
    "### Loading train and test"
   ]
  },
  {
   "cell_type": "code",
   "execution_count": 9,
   "metadata": {},
   "outputs": [
    {
     "name": "stdout",
     "output_type": "stream",
     "text": [
      "CPU times: user 2min 54s, sys: 5.35 s, total: 2min 59s\n",
      "Wall time: 2min 59s\n"
     ]
    }
   ],
   "source": [
    "%%time\n",
    "#train_data_path = '/home/joshib/cs_data/citation-bio-labelled-data-2020-06-09~06:30:11.273245/nlp/exps/output/2020-06-09~06:30:11.273245'\n",
    "#train_data_path = '/nlp/cs_data/2020-06-09~06:30:11.273245'\n",
    "train_data_path = '/nlp/cs_data_full/cs_data_train/'\n",
    "test_data_path  = '/nlp/cs_data_full/cs_data_test/'\n",
    "\n",
    "pattern = \"*#*#\"\n",
    "sentences = []\n",
    "sent_tags = []\n",
    "len_arr = []\n",
    "for fpath in os.listdir(train_data_path):\n",
    "    if fpath not in ['data-gen-config.json', 'data_generation_stats.csv'] and \".csv\" in fpath:\n",
    "        fpath = os.path.join(train_data_path, fpath)\n",
    "        df = pd.read_csv(fpath, index_col=0)\n",
    "        df.fillna(\"\\n\", axis=1, inplace=True)\n",
    "        len_arr.append(df.shape[0])\n",
    "        sentences.append(pattern.join(df.x))\n",
    "        sent_tags.append(pattern.join(df.y))\n",
    "        \n",
    "sentences_test = []\n",
    "sent_tags_test = []\n",
    "for fpath in os.listdir(test_data_path):\n",
    "    if fpath not in ['data-gen-config.json', 'data_generation_stats.csv'] and \".csv\" in fpath:\n",
    "        fpath = os.path.join(test_data_path, fpath)\n",
    "        df = pd.read_csv(fpath, index_col=0)\n",
    "        df.fillna(\"\\n\", axis=1, inplace=True)\n",
    "        len_arr.append(df.shape[0])\n",
    "        sentences_test.append(pattern.join(df.x))\n",
    "        sent_tags_test.append(pattern.join(df.y))"
   ]
  },
  {
   "cell_type": "code",
   "execution_count": 10,
   "metadata": {},
   "outputs": [
    {
     "name": "stdout",
     "output_type": "stream",
     "text": [
      "data-2020-07-14~14:48:41.840576.csv\n"
     ]
    }
   ],
   "source": [
    "for fpath in os.listdir(train_data_path)[1222:1223]:\n",
    "    print(fpath)\n",
    "    if fpath not in ['data-gen-config.json', 'data_generation_stats.csv'] and \".csv\" in fpath:\n",
    "        fpath = os.path.join(train_data_path, fpath)\n",
    "        df = pd.read_csv(fpath, index_col=0)\n",
    "        df.fillna(\"\\n\", axis=1, inplace=True)"
   ]
  },
  {
   "cell_type": "code",
   "execution_count": 11,
   "metadata": {},
   "outputs": [
    {
     "data": {
      "text/plain": [
       "(800, 2)"
      ]
     },
     "execution_count": 11,
     "metadata": {},
     "output_type": "execute_result"
    }
   ],
   "source": [
    "df.shape"
   ]
  },
  {
   "cell_type": "code",
   "execution_count": 13,
   "metadata": {},
   "outputs": [],
   "source": [
    "#df"
   ]
  },
  {
   "cell_type": "markdown",
   "metadata": {},
   "source": [
    "### Evaluation set"
   ]
  },
  {
   "cell_type": "code",
   "execution_count": 12,
   "metadata": {},
   "outputs": [],
   "source": [
    "eval_df = pd.read_csv('/nlp/references_end_to_end_1613_piis_2019-9-13.csv')"
   ]
  },
  {
   "cell_type": "code",
   "execution_count": 14,
   "metadata": {},
   "outputs": [
    {
     "data": {
      "text/html": [
       "<div>\n",
       "<style scoped>\n",
       "    .dataframe tbody tr th:only-of-type {\n",
       "        vertical-align: middle;\n",
       "    }\n",
       "\n",
       "    .dataframe tbody tr th {\n",
       "        vertical-align: top;\n",
       "    }\n",
       "\n",
       "    .dataframe thead th {\n",
       "        text-align: right;\n",
       "    }\n",
       "</style>\n",
       "<table border=\"1\" class=\"dataframe\">\n",
       "  <thead>\n",
       "    <tr style=\"text-align: right;\">\n",
       "      <th></th>\n",
       "      <th>concatenated_s0_references</th>\n",
       "    </tr>\n",
       "  </thead>\n",
       "  <tbody>\n",
       "    <tr>\n",
       "      <th>0</th>\n",
       "      <td>1. Wang YR, Richter JE, Dempsey DT. Trends and outcomes of hospitalizations for peptic ulcer disease in the United States, 1993 to 2006. Ann Surg, 2010; 251: 51–58. \\n2. Hernandez-Diaz S, Martin-Merino E, Garcia Rodriguez LA. Risk of complications after a peptic ulcer diagnosis: effectiveness of proton pump inhibitors. Dig Dis Sci, 2013; 58: 1653–1662.\\n3. Thorsen K, Soreide JA, Kvaloy JT, Glomsaker T, Soreide K. Epidemiology of perforated peptic ulcer: age- and gender-adjusted analysis of incidence and mortality. World J Gastroenterol, 2013; 19: 347–354.\\n4. Thorsen K, Glomsaker TB, Meer von A, Soreide K, Soreide JA. Trends in diagnosis and surgical management of patients with perforated peptic ulcer. J Gastrointest Surg, 2011; 15: 1329–1335.\\n5. Lohsiriwat V, Prapasrivorakul S, Lohsiriwat D. Perforated peptic ulcer: clinical presentation, surgical outcomes, and the accuracy of the Boey scoring system in predicting postoperative morbidity and mortality. World J Surg, 2009; 33: 80–85.\\n6. Soreide K, Thorsen K, Soreide JA. Strategies to improve the outcome of emergency surgery for perforated peptic ulcer. Br J Surg, 2014; 10: e51–64.\\n7. Kumar A, Muir MT, Cohn SM, Salhanick MA, Lankford DB, Katabathina VS. The etiology of pneumoperitoneum in the 21st century. J Trauma Acute Care Surg, 2012; 73: 542–548.\\n8. Hainaux B, Agneessens E, Bertinotti R, et al. Accuracy of MDCT in predicting site of gastrointestinal tract perforation. AJR Am J Roentgenol, 2006; 187: 1179–1183.\\n9. Imuta M, Awai K, Nakayama Y, et al. Multidetector CT findings suggesting a perforation site in the gastrointestinal tract: analysis in surgically confirmed 155 patients. Radiat Med, 2007; 25: 113–118.\\n10. Cadenas Rodriguez L, Marti de Gracia M, Saturio Galan N, Perez Duenas V, Salvatierra Arrieta L, Garzon Moll G. Use of multidetector computed tomography for locating the site of gastrointestinal tract perforations. Cir Esp, 2013; 91: 316–323.\\n11. Byrge N, Barton RG, Enniss TM, Nirula R. Laparoscopic versus open repair of perforated gastroduodenal ulcer: a National Surgical Quality Improvement Program analysis. Am J Surg, 2013; 206:957–962.\\n12. Bertleff MJOE, Lange JF. Laparoscopic correction of perforated peptic ulcer: first choice? A review of literature. Surg Endosc, 2010; 24: 1231–1239.\\n13. Guadagni S, Cengeli I, Galatioto C, et al. Laparoscopic repair of perforated peptic ulcer: single-center results. Surg Endosc, 2014; 28: 2302–2308.\\n14. Kim HC, Yang DM, Kim SW, Park SJ. Gastrointestinal tract perforation: evaluation of MDCT according to perforation site and elapsed time. Eur Radiol, 2014; 24: 1386–1393.\\n15. Buck DL, Vester-Andersen M, Moller MH. Surgical delay is a critical determinant of survival in perforated peptic ulcer. Br J Surg, 2013; 100: 1045–1049.\\n16. Sanabria A, Villegas MI, Morales Uribe CH. Laparoscopic repair for perforated peptic ulcer disease. Sanabria A, ed. Cochrane Database Syst Rev, 2013; 2:CD004778.\\n17. Jayanthi NVG. Laparoscopic repair of perforated peptic ulcer-technical tip. Surg Laparosc Endosc Percutan Tech, 2013; 23: e145–6.\\n18. Song K-Y, Kim T-H, Kim S-N, Park C-H. Laparoscopic repair of perforated duodenal ulcers: the simple “one-stitch” suture with omental patch technique. Surg Endosc, 2008; 22: 1632–1635.\\n19. Abd Ellatif ME, Salama AF, Elezaby AF, et al. Laparoscopic repair of perforated peptic ulcer: patch versus simple closure. Int J Surg, 2013; 11: 948–951.\\n20. Lo H-C, Wu S-C, Huang H-C, Yeh C-C, Huang J-C, Hsieh C-H. Laparoscopic simple closure alone is adequate for low risk patients with perforated peptic ulcer. World J Surg, 2011; 35: 1873–1878.\\n21. Furukawa A, Sakoda M, Yamasaki M, et al. Gastrointestinal tract perforation: CT diagnosis of presence, site, and cause. Abdom Imaging, 2005; 30: 524–534.\\n22. Ghekiere O, Lesnik A, Hoa D, Laffargue G, Uriot C, Taourel P. Value of computed tomography in the diagnosis of the cause of nontraumatic gastrointestinal tract perforation. J Comput Assist Tomogr, 2007; 31: 169–176.\\n23. Lam CM, Yuen AW, Chik B, Wai AC, Fan ST. Laparoscopic surgery for common surgical emergencies: a population-based study. Surg Endosc, 2005; 19: 774–779.\\n24. Sauerland S, Agresta F, Bergamaschi R, et al. Laparoscopy for abdominal emergencies: evidence-based guidelines of the European Association for Endoscopic Surgery. Surg Endosc, 2006; 20:14–29.\\n25. Kim SH, Shin SS, Jeong YY, Heo SH, Kim JW, Kang HK. Gastrointestinal tract perforation: MDCT findings according to the perforation sites. Korean J Radiol, 2009; 10: 63–70.\\n26. Udayasankar UK, Li J, Baumgarten DA, Small WC, Kalra MK. Acute abdominal pain: value of non-contrast enhanced ultra-low-dose multi-detector row CT as a substitute for abdominal radiographs. Emerg Radiol, 2009; 16: 61–70.\\n</td>\n",
       "    </tr>\n",
       "    <tr>\n",
       "      <th>1</th>\n",
       "      <td>1. Chang GJ, Rodriguez-Bigas MA, Skibber JM, Moyer VA. Lymph node evaluation and survival after curative resection of colon cancer: systematic review. J Natl Cancer Inst. 2007 Mar 21;99(6):433-41. PubMed PMID: 17374833. Epub 2007/03/22. eng.\\n2. Edler D, Ohrling K, Hallstrom M, et al. The number of analyzed lymph nodes - a prognostic factor in colorectal cancer. Acta Oncol. 2007;46(7):975-81. PubMed PMID: 17917828. Epub 2007/10/06. eng.\\n3. Goldstein NS. Lymph node recoveries from 2427 pT3 colorectal resection specimens spanning 45 years: recommendations for a minimum number of recovered lymph nodes based on predictive probabilities. Am J Surg Pathol. 2002 Feb;26(2):179-89. PubMed PMID: 11812939.\\n4. Swanson RS, Compton CC, Stewart AK, Bland KI. The prognosis of T3N0 colon cancer is dependent on the number of lymph nodes examined. Ann Surg Oncol. 2003 Jan-Feb;10(1):65-71. PubMed PMID: 12513963.\\n5. Lykke J, Roikjaer O, Jess P, Danish Colorectal Cancer G. The relation between lymph node status and survival in Stage I-III colon cancer: results from a prospective nationwide cohort study. Colorectal Dis. 2013 May;15(5):559-65. PubMed PMID: 23061638.\\n6. Feinstein AR, Sosin DM, Wells CK. The Will Rogers phenomenon. Stage migration and new diagnostic techniques as a source of misleading statistics for survival in cancer. N Engl J Med. 1985 Jun 20;312(25):1604-8. PubMed PMID: 4000199. Epub 1985/06/20. eng.\\n7. Schemper M, Smith TL. A note on quantifying follow-up in studies of failure time. Controlled clinical trials. 1996 Aug;17(4):343-6. PubMed PMID: 8889347.\\n8. Resch A, Langner C. Lymph node staging in colorectal cancer: old controversies and recent advances. World J Gastroenterol. 2013 Dec 14;19(46):8515-26. PubMed PMID: 24379568. Pubmed Central PMCID: 3870496.\\n9. Märkl B, Kerwel TG, Jähnig HG, et al. Methylene Blue-Assisted Lymph Node Dissection in Colon Specimens: A Prospective, Randomized Study. Am J Clin Pathol. 2008 Dec 1;130(6):913-9. PubMed PMID: 19019768. Epub 2008/11/21. Eng.\\n10. Märkl B, Schaller T, Krammer I, et al. Methylene blue-assisted lymph node dissection technique is not associated with an increased detection of lymph node metastases in colorectal cancer. 2013 Apr 19;26(9):1246-54. PubMed PMID: 23599158. Epub 2013/04/20. Eng.\\n11. Märkl B, Rössle J, Arnholdt HM, et al. The clinical significance of lymph node size in colon cancer. Mod Pathol. 2012 Oct;25(10):1413-22. PubMed PMID: 22684222. Epub 2012/06/12. eng.\\n12. Simunovic M, Baxter NN. Lymph node counts in colon cancer surgery: lessons for users of quality indicators. JAMA. 2007 Nov 14;298(18):2194-5. PubMed PMID: 18000205. Epub 2007/11/15. eng.\\n13. Wong SL, Ji H, Hollenbeck BK, et al. Hospital lymph node examination rates and survival after resection for colon cancer. JAMA. 2007 Nov 14;298(18):2149-54. PubMed PMID: 18000198. Epub 2007/11/15. eng.\\n14. Sloothaak DA, Grewal S, Doornewaard H, et al. Lymph node size as a predictor of lymphatic staging in colonic cancer. Br J Surg. 2014 May;101(6):701-6. PubMed PMID: 24676735.\\n15. George S, Primrose J, Talbot R, et al. Will Rogers revisited: prospective observational study of survival of 3592 patients with colorectal cancer according to number of nodes examined by pathologists. Br J Cancer. 2006 Oct 9;95(7):841-7. PubMed PMID: 16969342.\\n16. O'Shea A, Aly O, Parnaby CN, et al. Increased lymph node yield in colorectal cancer is not necessarily associated with a greater number of lymph node positive cancers. PLoS One. 2014;9(8):e104991. PubMed PMID: 25118594. Pubmed Central PMCID: 4132075.\\n17. Parsons HM, Tuttle TM, Kuntz KM, et al. Association between lymph node evaluation for colon cancer and node positivity over the past 20 years. JAMA. 2011 Sep 14;306(10):1089-97. PubMed PMID: 21917579. Epub 2011/09/16. eng.\\n18. Porter GA, Urquhart R, Bu J, et al. Improving nodal harvest in colorectal cancer: so what? Ann Surg Oncol. 2012 Apr;19(4):1066-73. PubMed PMID: 21969083. Epub 2011/10/05. eng.\\n19. Storli K, Sondenaa K, Furnes B, et al. Improved lymph node harvest from resected colon cancer specimens did not cause upstaging from TNM stage II to III. World journal of surgery. 2011 Dec;35(12):2796-803. PubMed PMID: 21879420. Epub 2011/09/01. eng.\\n20. Moore J, Hyman N, Callas P, Littenberg B. Staging error does not explain the relationship between the number of lymph nodes in a colon cancer specimen and survival. Surgery. 2010 Mar;147(3):358-65. PubMed PMID: 19962166.\\n21. van Erning FN, Crolla RM, Rutten HJ, et al. No change in lymph node positivity rate despite increased lymph node yield and improved survival in colon cancer. Eur J Cancer. 2014 Nov 1;50(18):3221-9. PubMed PMID: 25459398.\\n22. Sjo OH, Merok MA, Svindland A, Nesbakken A. Prognostic impact of lymph node harvest and lymph node ratio in patients with colon cancer. Dis Colon Rectum. 2012 Mar;55(3):307-15. PubMed PMID: 22469798.\\n23. Bläker H, Hildebrandt B, Riess H, et al. Lymph node count and prognosis in colorectal cancer: The influence of examination quality. Int J Cancer. 2014 Sep 18. PubMed PMID: 25231924.\\n24. Chen L, Kalady MF, Goldblum J, et al. Does reevaluation of colorectal cancers with inadequate nodal yield lead to stage migration or the identification of metastatic lymph nodes? Dis Colon Rectum. 2014 Apr;57(4):432-7. PubMed PMID: 24608298.\\n25. Pihl E, Nairn RC, Milne BJ, et al. Lymphoid hyperplasia: a major prognostic feature in 519 cases of colorectal carcinoma. The American journal of pathology. 1980 Aug;100(2):469-80. PubMed PMID: 7406021. Pubmed Central PMCID: 1903530. Epub 1980/08/01. eng.\\n26. Figueredo A, Coombes ME, Mukherjee S. Adjuvant therapy for completely resected stage II colon cancer. Cochrane Database Syst Rev. 2008 (3):CD005390. PubMed PMID: 18646127. Epub 2008/07/23. eng.\\n27. Lin HH, Chang YY, Lin JK, et al. The role of adjuvant chemotherapy in stage II colorectal cancer patients. Int J Colorectal Dis. 2014 Oct;29(10):1237-43. PubMed PMID: 25024041.\\n28. Gill S, Loprinzi CL, Sargent DJ, et al. Pooled analysis of fluorouracil-based adjuvant therapy for stage II and III colon cancer: who benefits and by how much? J Clin Oncol. 2004 May 15;22(10):1797-806. PubMed PMID: 15067028.\\n29. Johnston PG. Stage II colorectal cancer: to treat or not to treat. Oncologist. 2005 May;10(5):332-4. PubMed PMID: 15851791. Epub 2005/04/27. eng.\\n30. Schneider NI, Langner C. Prognostic stratification of colorectal cancer patients: current perspectives. Cancer management and research. 2014;6:291.\\n31. Zlobec I, Lugli A. Prognostic and predictive factors in colorectal cancer. J Clin Pathol. 2008 May;61(5):561-9. PubMed PMID: 18326017. Epub 2008/03/08. eng.\\n32. C. Pox SA, S. C. Bischoff, U. Graeven, M. Hass, P. Heußner, W. Hohenberger, A., Holstege JH, F. Kolligs, M. Kreis, P. Lux, J. Ockenga, R. Porschen, S. Post, N., Rahner AR-S, J.F. Riemann, R. Sauer, A. Sieg, W. Scheppach, W. Schmitt,, H.-J. Schmoll KS, A. Tannapfel, W. Schmiegel. S3-Leitlinie Kolorektales Karzinom, Langversion 1.0. 2013; Available from: http://leitlinienprogrammonkologie.\\nde/Leitlinien.7.0.html.\\n33. van de Velde CJ, Boelens PG, Borras JM, et al. EURECCA colorectal: multidisciplinary management: European consensus conference colon &amp; rectum. Eur J Cancer. 2014 Jan;50(1):1 e- e34. PubMed PMID: 24183379.\\n</td>\n",
       "    </tr>\n",
       "  </tbody>\n",
       "</table>\n",
       "</div>"
      ],
      "text/plain": [
       "                                                                                                                                                                                                                                                                                                                                                                                                                                                                                                                                                                                                                                                                                                                                                                                                                                                                                                                                                                                                                                                                                                                                                                                                                                                                                                                                                                                                                                                                                                                                                                                                                                                                                                                                                                                                                                                                                                                                                                                                                                                                                                                                                                                                                                                                                                                                                                                                                                                                                                                                                                                                                                                                                                                                                                                                                                                                                                                                                                                                                                                                                                                                                                                                                                                                                                                                                                                                                                                                                                                                                                                                                                                                                                                                                                                                                                                                                                                                                                                                                                                                                                                                                                                                                                                                                                                                                                                                                                                                                                                                                                                                                                                                                                                                                                                                                                                                                                                                                                                                                                                                                                                                                                                                                                                                                                                                                                                                                                                                                                                                                                                                                                                                                                                                                                                                                                                                                                                                                                                                                                                                                                                                                                                                                                                                                                                                                                                                                                                                                                                                                                                                                                                                                                                                                                                                                                                                                                                                                                                                                                                                                                                                                                                                                                                                                                                                                                                                                                                                                                                                                                            concatenated_s0_references\n",
       "0  1. Wang YR, Richter JE, Dempsey DT. Trends and outcomes of hospitalizations for peptic ulcer disease in the United States, 1993 to 2006. Ann Surg, 2010; 251: 51–58. \\n2. Hernandez-Diaz S, Martin-Merino E, Garcia Rodriguez LA. Risk of complications after a peptic ulcer diagnosis: effectiveness of proton pump inhibitors. Dig Dis Sci, 2013; 58: 1653–1662.\\n3. Thorsen K, Soreide JA, Kvaloy JT, Glomsaker T, Soreide K. Epidemiology of perforated peptic ulcer: age- and gender-adjusted analysis of incidence and mortality. World J Gastroenterol, 2013; 19: 347–354.\\n4. Thorsen K, Glomsaker TB, Meer von A, Soreide K, Soreide JA. Trends in diagnosis and surgical management of patients with perforated peptic ulcer. J Gastrointest Surg, 2011; 15: 1329–1335.\\n5. Lohsiriwat V, Prapasrivorakul S, Lohsiriwat D. Perforated peptic ulcer: clinical presentation, surgical outcomes, and the accuracy of the Boey scoring system in predicting postoperative morbidity and mortality. World J Surg, 2009; 33: 80–85.\\n6. Soreide K, Thorsen K, Soreide JA. Strategies to improve the outcome of emergency surgery for perforated peptic ulcer. Br J Surg, 2014; 10: e51–64.\\n7. Kumar A, Muir MT, Cohn SM, Salhanick MA, Lankford DB, Katabathina VS. The etiology of pneumoperitoneum in the 21st century. J Trauma Acute Care Surg, 2012; 73: 542–548.\\n8. Hainaux B, Agneessens E, Bertinotti R, et al. Accuracy of MDCT in predicting site of gastrointestinal tract perforation. AJR Am J Roentgenol, 2006; 187: 1179–1183.\\n9. Imuta M, Awai K, Nakayama Y, et al. Multidetector CT findings suggesting a perforation site in the gastrointestinal tract: analysis in surgically confirmed 155 patients. Radiat Med, 2007; 25: 113–118.\\n10. Cadenas Rodriguez L, Marti de Gracia M, Saturio Galan N, Perez Duenas V, Salvatierra Arrieta L, Garzon Moll G. Use of multidetector computed tomography for locating the site of gastrointestinal tract perforations. Cir Esp, 2013; 91: 316–323.\\n11. Byrge N, Barton RG, Enniss TM, Nirula R. Laparoscopic versus open repair of perforated gastroduodenal ulcer: a National Surgical Quality Improvement Program analysis. Am J Surg, 2013; 206:957–962.\\n12. Bertleff MJOE, Lange JF. Laparoscopic correction of perforated peptic ulcer: first choice? A review of literature. Surg Endosc, 2010; 24: 1231–1239.\\n13. Guadagni S, Cengeli I, Galatioto C, et al. Laparoscopic repair of perforated peptic ulcer: single-center results. Surg Endosc, 2014; 28: 2302–2308.\\n14. Kim HC, Yang DM, Kim SW, Park SJ. Gastrointestinal tract perforation: evaluation of MDCT according to perforation site and elapsed time. Eur Radiol, 2014; 24: 1386–1393.\\n15. Buck DL, Vester-Andersen M, Moller MH. Surgical delay is a critical determinant of survival in perforated peptic ulcer. Br J Surg, 2013; 100: 1045–1049.\\n16. Sanabria A, Villegas MI, Morales Uribe CH. Laparoscopic repair for perforated peptic ulcer disease. Sanabria A, ed. Cochrane Database Syst Rev, 2013; 2:CD004778.\\n17. Jayanthi NVG. Laparoscopic repair of perforated peptic ulcer-technical tip. Surg Laparosc Endosc Percutan Tech, 2013; 23: e145–6.\\n18. Song K-Y, Kim T-H, Kim S-N, Park C-H. Laparoscopic repair of perforated duodenal ulcers: the simple “one-stitch” suture with omental patch technique. Surg Endosc, 2008; 22: 1632–1635.\\n19. Abd Ellatif ME, Salama AF, Elezaby AF, et al. Laparoscopic repair of perforated peptic ulcer: patch versus simple closure. Int J Surg, 2013; 11: 948–951.\\n20. Lo H-C, Wu S-C, Huang H-C, Yeh C-C, Huang J-C, Hsieh C-H. Laparoscopic simple closure alone is adequate for low risk patients with perforated peptic ulcer. World J Surg, 2011; 35: 1873–1878.\\n21. Furukawa A, Sakoda M, Yamasaki M, et al. Gastrointestinal tract perforation: CT diagnosis of presence, site, and cause. Abdom Imaging, 2005; 30: 524–534.\\n22. Ghekiere O, Lesnik A, Hoa D, Laffargue G, Uriot C, Taourel P. Value of computed tomography in the diagnosis of the cause of nontraumatic gastrointestinal tract perforation. J Comput Assist Tomogr, 2007; 31: 169–176.\\n23. Lam CM, Yuen AW, Chik B, Wai AC, Fan ST. Laparoscopic surgery for common surgical emergencies: a population-based study. Surg Endosc, 2005; 19: 774–779.\\n24. Sauerland S, Agresta F, Bergamaschi R, et al. Laparoscopy for abdominal emergencies: evidence-based guidelines of the European Association for Endoscopic Surgery. Surg Endosc, 2006; 20:14–29.\\n25. Kim SH, Shin SS, Jeong YY, Heo SH, Kim JW, Kang HK. Gastrointestinal tract perforation: MDCT findings according to the perforation sites. Korean J Radiol, 2009; 10: 63–70.\\n26. Udayasankar UK, Li J, Baumgarten DA, Small WC, Kalra MK. Acute abdominal pain: value of non-contrast enhanced ultra-low-dose multi-detector row CT as a substitute for abdominal radiographs. Emerg Radiol, 2009; 16: 61–70.\\n                                                                                                                                                                                                                                                                                                                                                                                                                                                                                                                                                                                                                                                                                                                                                                                                                                                                                                                                                                                                                                                                                                                                                                                                                                                                                                                                                                                                                                                                                                                                                                                                                                                                                                                                                                                                                                                                                                                                                                                                                                                                                                                                                                                                                                                                                                                                                                                                                                                                                                                                                                                                                                \n",
       "1  1. Chang GJ, Rodriguez-Bigas MA, Skibber JM, Moyer VA. Lymph node evaluation and survival after curative resection of colon cancer: systematic review. J Natl Cancer Inst. 2007 Mar 21;99(6):433-41. PubMed PMID: 17374833. Epub 2007/03/22. eng.\\n2. Edler D, Ohrling K, Hallstrom M, et al. The number of analyzed lymph nodes - a prognostic factor in colorectal cancer. Acta Oncol. 2007;46(7):975-81. PubMed PMID: 17917828. Epub 2007/10/06. eng.\\n3. Goldstein NS. Lymph node recoveries from 2427 pT3 colorectal resection specimens spanning 45 years: recommendations for a minimum number of recovered lymph nodes based on predictive probabilities. Am J Surg Pathol. 2002 Feb;26(2):179-89. PubMed PMID: 11812939.\\n4. Swanson RS, Compton CC, Stewart AK, Bland KI. The prognosis of T3N0 colon cancer is dependent on the number of lymph nodes examined. Ann Surg Oncol. 2003 Jan-Feb;10(1):65-71. PubMed PMID: 12513963.\\n5. Lykke J, Roikjaer O, Jess P, Danish Colorectal Cancer G. The relation between lymph node status and survival in Stage I-III colon cancer: results from a prospective nationwide cohort study. Colorectal Dis. 2013 May;15(5):559-65. PubMed PMID: 23061638.\\n6. Feinstein AR, Sosin DM, Wells CK. The Will Rogers phenomenon. Stage migration and new diagnostic techniques as a source of misleading statistics for survival in cancer. N Engl J Med. 1985 Jun 20;312(25):1604-8. PubMed PMID: 4000199. Epub 1985/06/20. eng.\\n7. Schemper M, Smith TL. A note on quantifying follow-up in studies of failure time. Controlled clinical trials. 1996 Aug;17(4):343-6. PubMed PMID: 8889347.\\n8. Resch A, Langner C. Lymph node staging in colorectal cancer: old controversies and recent advances. World J Gastroenterol. 2013 Dec 14;19(46):8515-26. PubMed PMID: 24379568. Pubmed Central PMCID: 3870496.\\n9. Märkl B, Kerwel TG, Jähnig HG, et al. Methylene Blue-Assisted Lymph Node Dissection in Colon Specimens: A Prospective, Randomized Study. Am J Clin Pathol. 2008 Dec 1;130(6):913-9. PubMed PMID: 19019768. Epub 2008/11/21. Eng.\\n10. Märkl B, Schaller T, Krammer I, et al. Methylene blue-assisted lymph node dissection technique is not associated with an increased detection of lymph node metastases in colorectal cancer. 2013 Apr 19;26(9):1246-54. PubMed PMID: 23599158. Epub 2013/04/20. Eng.\\n11. Märkl B, Rössle J, Arnholdt HM, et al. The clinical significance of lymph node size in colon cancer. Mod Pathol. 2012 Oct;25(10):1413-22. PubMed PMID: 22684222. Epub 2012/06/12. eng.\\n12. Simunovic M, Baxter NN. Lymph node counts in colon cancer surgery: lessons for users of quality indicators. JAMA. 2007 Nov 14;298(18):2194-5. PubMed PMID: 18000205. Epub 2007/11/15. eng.\\n13. Wong SL, Ji H, Hollenbeck BK, et al. Hospital lymph node examination rates and survival after resection for colon cancer. JAMA. 2007 Nov 14;298(18):2149-54. PubMed PMID: 18000198. Epub 2007/11/15. eng.\\n14. Sloothaak DA, Grewal S, Doornewaard H, et al. Lymph node size as a predictor of lymphatic staging in colonic cancer. Br J Surg. 2014 May;101(6):701-6. PubMed PMID: 24676735.\\n15. George S, Primrose J, Talbot R, et al. Will Rogers revisited: prospective observational study of survival of 3592 patients with colorectal cancer according to number of nodes examined by pathologists. Br J Cancer. 2006 Oct 9;95(7):841-7. PubMed PMID: 16969342.\\n16. O'Shea A, Aly O, Parnaby CN, et al. Increased lymph node yield in colorectal cancer is not necessarily associated with a greater number of lymph node positive cancers. PLoS One. 2014;9(8):e104991. PubMed PMID: 25118594. Pubmed Central PMCID: 4132075.\\n17. Parsons HM, Tuttle TM, Kuntz KM, et al. Association between lymph node evaluation for colon cancer and node positivity over the past 20 years. JAMA. 2011 Sep 14;306(10):1089-97. PubMed PMID: 21917579. Epub 2011/09/16. eng.\\n18. Porter GA, Urquhart R, Bu J, et al. Improving nodal harvest in colorectal cancer: so what? Ann Surg Oncol. 2012 Apr;19(4):1066-73. PubMed PMID: 21969083. Epub 2011/10/05. eng.\\n19. Storli K, Sondenaa K, Furnes B, et al. Improved lymph node harvest from resected colon cancer specimens did not cause upstaging from TNM stage II to III. World journal of surgery. 2011 Dec;35(12):2796-803. PubMed PMID: 21879420. Epub 2011/09/01. eng.\\n20. Moore J, Hyman N, Callas P, Littenberg B. Staging error does not explain the relationship between the number of lymph nodes in a colon cancer specimen and survival. Surgery. 2010 Mar;147(3):358-65. PubMed PMID: 19962166.\\n21. van Erning FN, Crolla RM, Rutten HJ, et al. No change in lymph node positivity rate despite increased lymph node yield and improved survival in colon cancer. Eur J Cancer. 2014 Nov 1;50(18):3221-9. PubMed PMID: 25459398.\\n22. Sjo OH, Merok MA, Svindland A, Nesbakken A. Prognostic impact of lymph node harvest and lymph node ratio in patients with colon cancer. Dis Colon Rectum. 2012 Mar;55(3):307-15. PubMed PMID: 22469798.\\n23. Bläker H, Hildebrandt B, Riess H, et al. Lymph node count and prognosis in colorectal cancer: The influence of examination quality. Int J Cancer. 2014 Sep 18. PubMed PMID: 25231924.\\n24. Chen L, Kalady MF, Goldblum J, et al. Does reevaluation of colorectal cancers with inadequate nodal yield lead to stage migration or the identification of metastatic lymph nodes? Dis Colon Rectum. 2014 Apr;57(4):432-7. PubMed PMID: 24608298.\\n25. Pihl E, Nairn RC, Milne BJ, et al. Lymphoid hyperplasia: a major prognostic feature in 519 cases of colorectal carcinoma. The American journal of pathology. 1980 Aug;100(2):469-80. PubMed PMID: 7406021. Pubmed Central PMCID: 1903530. Epub 1980/08/01. eng.\\n26. Figueredo A, Coombes ME, Mukherjee S. Adjuvant therapy for completely resected stage II colon cancer. Cochrane Database Syst Rev. 2008 (3):CD005390. PubMed PMID: 18646127. Epub 2008/07/23. eng.\\n27. Lin HH, Chang YY, Lin JK, et al. The role of adjuvant chemotherapy in stage II colorectal cancer patients. Int J Colorectal Dis. 2014 Oct;29(10):1237-43. PubMed PMID: 25024041.\\n28. Gill S, Loprinzi CL, Sargent DJ, et al. Pooled analysis of fluorouracil-based adjuvant therapy for stage II and III colon cancer: who benefits and by how much? J Clin Oncol. 2004 May 15;22(10):1797-806. PubMed PMID: 15067028.\\n29. Johnston PG. Stage II colorectal cancer: to treat or not to treat. Oncologist. 2005 May;10(5):332-4. PubMed PMID: 15851791. Epub 2005/04/27. eng.\\n30. Schneider NI, Langner C. Prognostic stratification of colorectal cancer patients: current perspectives. Cancer management and research. 2014;6:291.\\n31. Zlobec I, Lugli A. Prognostic and predictive factors in colorectal cancer. J Clin Pathol. 2008 May;61(5):561-9. PubMed PMID: 18326017. Epub 2008/03/08. eng.\\n32. C. Pox SA, S. C. Bischoff, U. Graeven, M. Hass, P. Heußner, W. Hohenberger, A., Holstege JH, F. Kolligs, M. Kreis, P. Lux, J. Ockenga, R. Porschen, S. Post, N., Rahner AR-S, J.F. Riemann, R. Sauer, A. Sieg, W. Scheppach, W. Schmitt,, H.-J. Schmoll KS, A. Tannapfel, W. Schmiegel. S3-Leitlinie Kolorektales Karzinom, Langversion 1.0. 2013; Available from: http://leitlinienprogrammonkologie.\\nde/Leitlinien.7.0.html.\\n33. van de Velde CJ, Boelens PG, Borras JM, et al. EURECCA colorectal: multidisciplinary management: European consensus conference colon & rectum. Eur J Cancer. 2014 Jan;50(1):1 e- e34. PubMed PMID: 24183379.\\n"
      ]
     },
     "execution_count": 14,
     "metadata": {},
     "output_type": "execute_result"
    }
   ],
   "source": [
    "eval_df[['concatenated_s0_references']].head(2)"
   ]
  },
  {
   "cell_type": "code",
   "execution_count": null,
   "metadata": {},
   "outputs": [],
   "source": []
  },
  {
   "cell_type": "code",
   "execution_count": null,
   "metadata": {},
   "outputs": [],
   "source": []
  }
 ],
 "metadata": {
  "kernelspec": {
   "display_name": "Python 3",
   "language": "python",
   "name": "python3"
  },
  "language_info": {
   "codemirror_mode": {
    "name": "ipython",
    "version": 3
   },
   "file_extension": ".py",
   "mimetype": "text/x-python",
   "name": "python",
   "nbconvert_exporter": "python",
   "pygments_lexer": "ipython3",
   "version": "3.7.7"
  }
 },
 "nbformat": 4,
 "nbformat_minor": 4
}
