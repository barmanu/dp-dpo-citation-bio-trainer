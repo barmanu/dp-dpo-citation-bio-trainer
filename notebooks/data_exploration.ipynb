{
 "cells": [
  {
   "cell_type": "code",
   "execution_count": 1,
   "metadata": {},
   "outputs": [
    {
     "name": "stderr",
     "output_type": "stream",
     "text": [
      "/home/joshib/.cache/pypoetry/virtualenvs/dp-dpo-citation-bio-trainer-FaGiNfZ9-py3.7/lib/python3.7/site-packages/pandas/compat/__init__.py:120: UserWarning: Could not import the lzma module. Your installed Python is incomplete. Attempting to use lzma compression will result in a RuntimeError.\n",
      "  warnings.warn(msg)\n"
     ]
    }
   ],
   "source": [
    "import sys\n",
    "import fasttext\n",
    "import spacy\n",
    "import time\n",
    "sys.path.append('../citation_bio_trainer')\n",
    "from feature.ParsCitLSTM_v2 import ParsCitLSTM\n",
    "from sklearn.model_selection import train_test_split\n",
    "import tensorflow as tf\n",
    "tf.compat.v1.logging.set_verbosity(tf.compat.v1.logging.ERROR)\n",
    "from util.Utils import calulate_ser_jer, load_from_folder, pad_sequences, load_embedding_matrix, evaluate, log_mlflow_results\n",
    "import warnings\n",
    "warnings.filterwarnings(\"ignore\", category=DeprecationWarning) \n",
    "warnings.filterwarnings(\"ignore\", category=UserWarning) "
   ]
  },
  {
   "cell_type": "code",
   "execution_count": 2,
   "metadata": {},
   "outputs": [
    {
     "name": "stdout",
     "output_type": "stream",
     "text": [
      "CPU times: user 7.79 s, sys: 51 ms, total: 7.84 s\n",
      "Wall time: 7.84 s\n"
     ]
    }
   ],
   "source": [
    "%%time\n",
    "test_data_path  = '/nlp/cs_mixed_20k/cs_mixed_20k_test/'\n",
    "sentences_test, sent_tags_test = load_from_folder(test_data_path)"
   ]
  },
  {
   "cell_type": "code",
   "execution_count": 3,
   "metadata": {},
   "outputs": [
    {
     "name": "stdout",
     "output_type": "stream",
     "text": [
      "CPU times: user 9.09 s, sys: 4.81 s, total: 13.9 s\n",
      "Wall time: 13.8 s\n"
     ]
    },
    {
     "name": "stderr",
     "output_type": "stream",
     "text": [
      "Warning : `load_model` does not return WordVectorModel or SupervisedModel any more, but a `FastText` object which is very similar.\n"
     ]
    }
   ],
   "source": [
    "%%time\n",
    "c = {\n",
    "        \"model_file\": \"/nlp/parscit/new_parscit_ft.h5\",\n",
    "        \"label_dict_file\": \"/nlp/parscit/labels.json\",\n",
    "        \"ft_model_path\":\"/nlp/parscit/cc.en.300.bin\"\n",
    "    }\n",
    "ftmodel = fasttext.load_model(\"/nlp/parscit/cc.en.300.bin\")"
   ]
  },
  {
   "cell_type": "code",
   "execution_count": 4,
   "metadata": {},
   "outputs": [
    {
     "name": "stderr",
     "output_type": "stream",
     "text": [
      "Warning : `load_model` does not return WordVectorModel or SupervisedModel any more, but a `FastText` object which is very similar.\n"
     ]
    },
    {
     "name": "stdout",
     "output_type": "stream",
     "text": [
      "CPU times: user 12.6 s, sys: 5.1 s, total: 17.7 s\n",
      "Wall time: 17.7 s\n"
     ]
    }
   ],
   "source": [
    "%%time\n",
    "my_nlp = spacy.load(\"en_core_web_sm\")\n",
    "p = ParsCitLSTM(model_config=c, spacy_nlp=my_nlp)"
   ]
  },
  {
   "cell_type": "code",
   "execution_count": 5,
   "metadata": {},
   "outputs": [],
   "source": [
    "# %%time\n",
    "# sent = None\n",
    "# text = \"\"\n",
    "# doc = None\n",
    "# #for ind in range(5):\n",
    "# start = time.time()\n",
    "# ind = 15\n",
    "# sent = sentences_test[ind]\n",
    "# sent = sent.replace('\\n', 'क')\n",
    "# text = sent.split(\" \")\n",
    "# text = text[0:500]\n",
    "# print(len(text))\n",
    "# print(\"before spacy %0.4f\"%(time.time() - start))\n",
    "# doc = my_nlp(\" \".join(text))\n",
    "# vec = []\n",
    "# for x in doc:\n",
    "#     vec.append(ftmodel[x.text])\n",
    "# print(\"before predict %0.4f\"%(time.time() - start))\n",
    "# p1 = p.predict(doc, vec, return_probs = False)\n",
    "# print(time.time() - start)"
   ]
  },
  {
   "cell_type": "code",
   "execution_count": 6,
   "metadata": {},
   "outputs": [],
   "source": [
    "padded_textarray, padded_tagarray = pad_sequences(sentences_test, 3861, sent_tags_test)"
   ]
  },
  {
   "cell_type": "code",
   "execution_count": 7,
   "metadata": {},
   "outputs": [],
   "source": [
    "bla = [\" \".join(i) for i in padded_textarray]"
   ]
  },
  {
   "cell_type": "code",
   "execution_count": 14,
   "metadata": {},
   "outputs": [
    {
     "name": "stderr",
     "output_type": "stream",
     "text": [
      "100%|██████████| 100/100 [01:45<00:00,  1.05s/it]"
     ]
    },
    {
     "name": "stdout",
     "output_type": "stream",
     "text": [
      "CPU times: user 1min 30s, sys: 15.4 s, total: 1min 45s\n",
      "Wall time: 1min 45s\n"
     ]
    },
    {
     "name": "stderr",
     "output_type": "stream",
     "text": [
      "\n"
     ]
    }
   ],
   "source": [
    "%%time\n",
    "parscit_arr = p.get_parscit_list(bla[0:100], return_probs=True)"
   ]
  },
  {
   "cell_type": "code",
   "execution_count": 13,
   "metadata": {},
   "outputs": [
    {
     "data": {
      "text/plain": [
       "3861"
      ]
     },
     "execution_count": 13,
     "metadata": {},
     "output_type": "execute_result"
    }
   ],
   "source": [
    "len(bla[1].split(\" \"))"
   ]
  },
  {
   "cell_type": "code",
   "execution_count": 7,
   "metadata": {},
   "outputs": [],
   "source": [
    "# %%time\n",
    "# words, p1, p2 = p.predict(doc, vec)\n",
    "# print(p1.shape)\n",
    "# # for i in range(len(p1)):\n",
    "# #     tag = p.idx2lab[p1[i]]\n",
    "#     #print(f\" ------>{words[i]} {tag}\")"
   ]
  },
  {
   "cell_type": "code",
   "execution_count": 8,
   "metadata": {},
   "outputs": [],
   "source": [
    "# for i,j in zip(words, p1):\n",
    "#     print(i,j, p.idx2lab[j])"
   ]
  },
  {
   "cell_type": "code",
   "execution_count": 8,
   "metadata": {},
   "outputs": [
    {
     "name": "stdout",
     "output_type": "stream",
     "text": [
      "before spacy 0.0001\n"
     ]
    },
    {
     "ename": "NameError",
     "evalue": "name 'ftmodel' is not defined",
     "output_type": "error",
     "traceback": [
      "\u001b[0;31m---------------------------------------------------------------------------\u001b[0m",
      "\u001b[0;31mNameError\u001b[0m                                 Traceback (most recent call last)",
      "\u001b[0;32m<timed exec>\u001b[0m in \u001b[0;36m<module>\u001b[0;34m\u001b[0m\n",
      "\u001b[0;31mNameError\u001b[0m: name 'ftmodel' is not defined"
     ]
    }
   ],
   "source": []
  },
  {
   "cell_type": "code",
   "execution_count": 9,
   "metadata": {},
   "outputs": [
    {
     "name": "stderr",
     "output_type": "stream",
     "text": [
      "/home/joshib/.cache/pypoetry/virtualenvs/dp-dpo-citation-bio-trainer-FaGiNfZ9-py3.7/lib/python3.7/site-packages/ipykernel/ipkernel.py:287: DeprecationWarning: `should_run_async` will not call `transform_cell` automatically in the future. Please pass the result to `transformed_cell` argument and any exception that happen during thetransform in `preprocessing_exc_tuple` in IPython 7.17 and above.\n",
      "  and should_run_async(code)\n"
     ]
    },
    {
     "data": {
      "text/plain": [
       "'1 ) Paxinos , \\n G. , Watson , C. , 2007 . In “ The Rat Brain in Stereotaxic Coordinates ” ( 6th edition ) , Academic Press ( Elsevier ) , Amsterdam , Netherlands . \\n 2 ) Benton , A.H. , Fulton , L.K. , Marquart , M.E. , 2017 . Exogenous Streptococcus pneumoniae Endophthalmitis in Diabetic Rabbits . Sci Rep 7 . \\n 3 ) N.M. Martyak , Nickel - phosporous alloy coatings , US006099624A , 2000 . https://patents.google.com/patent/US6099624A/en . \\n 4 ) How Can I Minimize Loss of Data due to Missing Observations in a Repeated Measures ANOVA ? UCLA : Statistical Consulting Group . Available from : http://stats.idre.ucla.edu / sas / faq / how - can - i - minimize - loss - of - data - due - to - missing - observations - in - a - repeated - measures - anova/ ( Accessed November 22 , 2016 ) . \\n 5 ) Serpell M. Burden of post - herpetic neuralgia in a sample of UK residents aged 50 years or older : findings from the zoster quality of life ( ZQOL \\n ) study . BioMed Cent [ Internet ] . 2013 Dec ; Available from : https://hqlo.biomedcentral.com/articles/10.1186/1477-7525-12-92 \\n 6 ) Shingles \\n - NICE CKS [ Internet ] . [ cited 2017 Nov 8 ] . Available from : https://cks.nice.org.uk / shingles#!backgroundsub \\n 7 ) Shingles ( herpes zoster ) [ Internet ] . Green Book . 2016 [ cited 2017 Sep 11 ] . Available from : https://www.gov.uk/government/uploads/system/uploads/attachment_data/file/503773/2905109_Green_Book_Chapter_28a_v3_0W.PDF \\n 8) \\n Shingles | Clinical Overview - Varicella Vaccine | Herpes Zoster | CDC [ Internet ] . 2017 [ cited 2017 Nov 23 ] . Available from : https://www.cdc.gov/shingles/hcp/clinical-overview.html \\n 9 ) Wilson DD . Herpes zoster : prevention , diagnosis , and treatment--2008 update . \\n Adv Skin Wound Care . 2008 Dec;21(12):582 - 588 ; quiz 589 - 590 . \\n 10 ) Schmader K. Herpes zoster and postherpetic neuralgia in older adults . Clin Geriatr Med . 2007 Aug;23(3):615–632 , vii – viii . \\n 11 ) Herpes zoster ( shingles ) immunisation \\n programme 2013/2014 : Report for England [ Internet ] . \\n Public Health England . [ cited 2017 Sep 11 ] . Available from : https://www.gov.uk/government/uploads/system/uploads/attachment_data/file/383018/ShinglesReport2014.pdf \\n 12 ) UCL , Rowl , Street H , Nw3 2pf , Tel : +4420 7830 2239 L. THIN Database [ Internet ] . [ cited 2017 Nov 9 ] . Available from : https://www.ucl.ac.uk / pcph / research - groups - \\n themes / thin - \\n pub / database \\n 13 ) Principles of Epidemiology | Lesson 3 - Section \\n 6 [ Internet ] . [ cited 2017 Nov 2 ] . Available from : https://www.cdc.gov/ophss/csels/dsepd/ss1978/lesson3/section6.html . \\n 14 ) Oxman MN , Levin MJ , Shingles Prevention Study Group . Vaccination against Herpes Zoster and Postherpetic Neuralgia . J Infect Dis . 2008 Mar 1;197 Suppl 2 : S228 - 236 . \\n 15 ) Amirthalingam G. Evaluation of the effect of the herpes zoster vaccination programme 3 years after its \\n introduction in England : a population - based study [ \\n Internet \\n ] . 2017 [ cited 2018 Jan 9 ] . Available from : http://www.thelancet.com/pdfs/journals/lanpub/PIIS2468-2667(17)30234-7.pdf \\n 16 ) Kawai K , Gebremeskel BG , Acosta CJ . \\n Systematic review of incidence and complications of herpes zoster : towards a global perspective . BMJ Open [ Internet ] . 2014 Jun 10 [ cited 2017 Dec 15];4(6 ) . Available from : https://www.ncbi.nlm.nih.gov / pmc / articles / PMC4067812/ \\n 17 ) Shingles vaccine coverage report , England , September 2015 to February 2016 [ Internet ] . Public Health England ; 2016 May [ cited 2017 Sep 12 ] . Available from : https://www.gov.uk/government/uploads/system/uploads/attachment_data/file/521577/hpr1616_shngls-VC.pdf \\n 18 ) Shingles vaccine coverage report , England , September 2016 to February 2017 [ Internet ] . Public Health England ; 2017 Apr. Available from : https://www.gov.uk/government/uploads/system/uploads/attachment_data/file/611730/hpr1617_shngls-vc.pdf \\n 19 ) Vaccine Update [ Internet ] . [ cited 2018 Jan 16 ] . Available from : https://www.gov.uk/government/uploads/system/uploads/attachment_data/file/669418/VU_273_December2017.pdf \\n 20 ) Abdalrahman B , Laverty AA , Beckett G , Majeed A. Trends in hospital admissions for Varicella and Zoster viruses in England , 2001/2002–2010/2011 : time trend study . JRSM Open [ Internet ] . 2015 Jan 19;6(1 ) . Available from : https://www.ncbi.nlm.nih.gov / pmc / articles / PMC4304893/ \\n 21 ) Wijlaars L. THIN Data : Strengths & Limitations [ Internet ] . UCL ; 2013 May. ( THIN Database Research Team ) . Available from : http://www.ucl.ac.uk / pcph / research - groups - themes / thin - pub/ \\n 22 ) Hernández - Garduza O , Garcı́a - Sánchez F , Ápam - Martı́nez D , Vázquez - Román R. Vapor pressures of pure compounds using the Peng - Robinson equation of state with three different attractive terms . Fluid Phase Equilib 2002;198:195–228 . doi:10.1016 / S0378 - 3812(01)00765 - 8 . \\n 23 ) Neau E , Hernández - Garduza O , Escandell J , Nicolas C , Raspo I. The Soave , Twu and Boston - Mathias alpha functions in cubic equations of state . Part I. Theoretical analysis of their variations according to temperature . Fluid Phase Equilib 2009;276:87–93 . doi:10.1016 / j.fluid.2008.09.023 . \\n 24 ) DeRuiter R a. , Nash LJ , Singletary MS . Solubility and Displacement Behavior of a Viscous Crude With CO2 and Hydrocarbon Gases . SPE Reserv Eng 1994;9:101–6 . doi:10.2118/20523-PA . \\n 25 ) A.K. Sharma , S.L. Patil , V.A. Kamath and GDS . Miscible Displacement of Heavy West Sak Crude by Solvents in Slim Tube . SPE 18761 1989 . \\n 26 ) Tsonopoulos C , Tan Z. The Critical Constants of Normal Alkanes From Methane to Polyethylene . II . Application of the Flory Theory . Fluid Phase Equilib 1993;83:127–38 . doi:10.1016/0378 - 3812(93)87015-S. \\n'"
      ]
     },
     "execution_count": 9,
     "metadata": {},
     "output_type": "execute_result"
    }
   ],
   "source": [
    "sentences_test[0]"
   ]
  },
  {
   "cell_type": "code",
   "execution_count": 5,
   "metadata": {},
   "outputs": [],
   "source": [
    "nlp = spacy.load(\"en_core_web_sm\")"
   ]
  },
  {
   "cell_type": "code",
   "execution_count": 6,
   "metadata": {},
   "outputs": [],
   "source": [
    "text1 = sentences_test[0]"
   ]
  },
  {
   "cell_type": "code",
   "execution_count": 7,
   "metadata": {},
   "outputs": [
    {
     "name": "stdout",
     "output_type": "stream",
     "text": [
      "CPU times: user 162 ms, sys: 4.38 ms, total: 166 ms\n",
      "Wall time: 164 ms\n"
     ]
    }
   ],
   "source": [
    "%%time\n",
    "doc1 = nlp(text1)"
   ]
  },
  {
   "cell_type": "code",
   "execution_count": null,
   "metadata": {},
   "outputs": [],
   "source": []
  },
  {
   "cell_type": "markdown",
   "metadata": {},
   "source": [
    "### Combine all files into a new folder"
   ]
  },
  {
   "cell_type": "code",
   "execution_count": 3,
   "metadata": {},
   "outputs": [],
   "source": [
    "# docs = 0\n",
    "# folder_ind = 0\n",
    "# file_ind = 0\n",
    "# for folder_path in os.listdir(home_path):\n",
    "#     full_folder_path = os.path.join(home_path, folder_path)\n",
    "#     print(len(os.listdir(full_folder_path)))\n",
    "#     docs += len(os.listdir(full_folder_path))\n",
    "#     print(full_folder_path)\n",
    "#     for path in os.listdir(full_folder_path):\n",
    "#         file_ind += 1\n",
    "#         ret_cmd = os.system('cp '+os.path.join(full_folder_path,path) + ' '+ dest_path)\n",
    "#         if ret_cmd != 0:\n",
    "#             print(os.path.join(full_folder_path, path))\n",
    "#     folder_ind += 1"
   ]
  },
  {
   "cell_type": "markdown",
   "metadata": {},
   "source": [
    "### Shuffle and split into train-test"
   ]
  },
  {
   "cell_type": "code",
   "execution_count": 4,
   "metadata": {},
   "outputs": [],
   "source": [
    "# import random\n",
    "# from random import shuffle\n",
    "# random.seed(10)"
   ]
  },
  {
   "cell_type": "code",
   "execution_count": 5,
   "metadata": {},
   "outputs": [],
   "source": [
    "#files_ls = os.listdir(dest_path)"
   ]
  },
  {
   "cell_type": "code",
   "execution_count": 6,
   "metadata": {},
   "outputs": [],
   "source": [
    "#shuffle(files_ls)"
   ]
  },
  {
   "cell_type": "code",
   "execution_count": 7,
   "metadata": {},
   "outputs": [],
   "source": [
    "# train_ls = files_ls[0: int(0.8 * len(files_ls))]\n",
    "# test_ls  = files_ls[int(0.8 * len(files_ls)):]"
   ]
  },
  {
   "cell_type": "code",
   "execution_count": 8,
   "metadata": {},
   "outputs": [],
   "source": [
    "# for fpath in train_ls:\n",
    "#     os.system('cp '+ os.path.join(dest_path, fpath) + ' '+ os.path.join(dest_path, 'cs_data_train'))"
   ]
  },
  {
   "cell_type": "code",
   "execution_count": 9,
   "metadata": {},
   "outputs": [],
   "source": [
    "# for fpath in test_ls:\n",
    "#     os.system('cp '+ os.path.join(dest_path, fpath) + ' '+ os.path.join(dest_path, 'cs_data_test'))"
   ]
  },
  {
   "cell_type": "code",
   "execution_count": 10,
   "metadata": {},
   "outputs": [],
   "source": [
    "#len(os.listdir(os.path.join(dest_path, 'cs_data_train')))"
   ]
  },
  {
   "cell_type": "code",
   "execution_count": 11,
   "metadata": {},
   "outputs": [],
   "source": [
    "#len(os.listdir(os.path.join(dest_path, 'cs_data_test')))"
   ]
  },
  {
   "cell_type": "markdown",
   "metadata": {},
   "source": [
    "### Loading train and test"
   ]
  },
  {
   "cell_type": "code",
   "execution_count": 9,
   "metadata": {},
   "outputs": [
    {
     "name": "stdout",
     "output_type": "stream",
     "text": [
      "CPU times: user 2min 54s, sys: 5.35 s, total: 2min 59s\n",
      "Wall time: 2min 59s\n"
     ]
    }
   ],
   "source": [
    "%%time\n",
    "#train_data_path = '/home/joshib/cs_data/citation-bio-labelled-data-2020-06-09~06:30:11.273245/nlp/exps/output/2020-06-09~06:30:11.273245'\n",
    "#train_data_path = '/nlp/cs_data/2020-06-09~06:30:11.273245'\n",
    "train_data_path = '/nlp/cs_data_full/cs_data_train/'\n",
    "test_data_path  = '/nlp/cs_data_full/cs_data_test/'\n",
    "\n",
    "pattern = \"*#*#\"\n",
    "sentences = []\n",
    "sent_tags = []\n",
    "len_arr = []\n",
    "for fpath in os.listdir(train_data_path):\n",
    "    if fpath not in ['data-gen-config.json', 'data_generation_stats.csv'] and \".csv\" in fpath:\n",
    "        fpath = os.path.join(train_data_path, fpath)\n",
    "        df = pd.read_csv(fpath, index_col=0)\n",
    "        df.fillna(\"\\n\", axis=1, inplace=True)\n",
    "        len_arr.append(df.shape[0])\n",
    "        sentences.append(pattern.join(df.x))\n",
    "        sent_tags.append(pattern.join(df.y))\n",
    "        \n",
    "sentences_test = []\n",
    "sent_tags_test = []\n",
    "for fpath in os.listdir(test_data_path):\n",
    "    if fpath not in ['data-gen-config.json', 'data_generation_stats.csv'] and \".csv\" in fpath:\n",
    "        fpath = os.path.join(test_data_path, fpath)\n",
    "        df = pd.read_csv(fpath, index_col=0)\n",
    "        df.fillna(\"\\n\", axis=1, inplace=True)\n",
    "        len_arr.append(df.shape[0])\n",
    "        sentences_test.append(pattern.join(df.x))\n",
    "        sent_tags_test.append(pattern.join(df.y))"
   ]
  },
  {
   "cell_type": "code",
   "execution_count": 10,
   "metadata": {},
   "outputs": [
    {
     "name": "stdout",
     "output_type": "stream",
     "text": [
      "data-2020-07-14~14:48:41.840576.csv\n"
     ]
    }
   ],
   "source": [
    "for fpath in os.listdir(train_data_path)[1222:1223]:\n",
    "    print(fpath)\n",
    "    if fpath not in ['data-gen-config.json', 'data_generation_stats.csv'] and \".csv\" in fpath:\n",
    "        fpath = os.path.join(train_data_path, fpath)\n",
    "        df = pd.read_csv(fpath, index_col=0)\n",
    "        df.fillna(\"\\n\", axis=1, inplace=True)"
   ]
  },
  {
   "cell_type": "code",
   "execution_count": 11,
   "metadata": {},
   "outputs": [
    {
     "data": {
      "text/plain": [
       "(800, 2)"
      ]
     },
     "execution_count": 11,
     "metadata": {},
     "output_type": "execute_result"
    }
   ],
   "source": [
    "df.shape"
   ]
  },
  {
   "cell_type": "code",
   "execution_count": 13,
   "metadata": {},
   "outputs": [],
   "source": [
    "#df"
   ]
  },
  {
   "cell_type": "markdown",
   "metadata": {},
   "source": [
    "### Evaluation set"
   ]
  },
  {
   "cell_type": "code",
   "execution_count": 5,
   "metadata": {},
   "outputs": [],
   "source": [
    "eval_df = pd.read_csv('/nlp/references_end_to_end_1613_piis_2019-9-13.csv')"
   ]
  },
  {
   "cell_type": "code",
   "execution_count": 6,
   "metadata": {
    "collapsed": true,
    "jupyter": {
     "outputs_hidden": true
    }
   },
   "outputs": [
    {
     "data": {
      "text/html": [
       "<div>\n",
       "<style scoped>\n",
       "    .dataframe tbody tr th:only-of-type {\n",
       "        vertical-align: middle;\n",
       "    }\n",
       "\n",
       "    .dataframe tbody tr th {\n",
       "        vertical-align: top;\n",
       "    }\n",
       "\n",
       "    .dataframe thead th {\n",
       "        text-align: right;\n",
       "    }\n",
       "</style>\n",
       "<table border=\"1\" class=\"dataframe\">\n",
       "  <thead>\n",
       "    <tr style=\"text-align: right;\">\n",
       "      <th></th>\n",
       "      <th>concatenated_s0_references</th>\n",
       "    </tr>\n",
       "  </thead>\n",
       "  <tbody>\n",
       "    <tr>\n",
       "      <th>0</th>\n",
       "      <td>1. Wang YR, Richter JE, Dempsey DT. Trends and outcomes of hospitalizations for peptic ulcer disease in the United States, 1993 to 2006. Ann Surg, 2010; 251: 51–58. \\n2. Hernandez-Diaz S, Martin-Merino E, Garcia Rodriguez LA. Risk of complications after a peptic ulcer diagnosis: effectiveness of proton pump inhibitors. Dig Dis Sci, 2013; 58: 1653–1662.\\n3. Thorsen K, Soreide JA, Kvaloy JT, Glomsaker T, Soreide K. Epidemiology of perforated peptic ulcer: age- and gender-adjusted analysis of incidence and mortality. World J Gastroenterol, 2013; 19: 347–354.\\n4. Thorsen K, Glomsaker TB, Meer von A, Soreide K, Soreide JA. Trends in diagnosis and surgical management of patients with perforated peptic ulcer. J Gastrointest Surg, 2011; 15: 1329–1335.\\n5. Lohsiriwat V, Prapasrivorakul S, Lohsiriwat D. Perforated peptic ulcer: clinical presentation, surgical outcomes, and the accuracy of the Boey scoring system in predicting postoperative morbidity and mortality. World J Surg, 2009; 33: 80–85.\\n6. Soreide K, Thorsen K, Soreide JA. Strategies to improve the outcome of emergency surgery for perforated peptic ulcer. Br J Surg, 2014; 10: e51–64.\\n7. Kumar A, Muir MT, Cohn SM, Salhanick MA, Lankford DB, Katabathina VS. The etiology of pneumoperitoneum in the 21st century. J Trauma Acute Care Surg, 2012; 73: 542–548.\\n8. Hainaux B, Agneessens E, Bertinotti R, et al. Accuracy of MDCT in predicting site of gastrointestinal tract perforation. AJR Am J Roentgenol, 2006; 187: 1179–1183.\\n9. Imuta M, Awai K, Nakayama Y, et al. Multidetector CT findings suggesting a perforation site in the gastrointestinal tract: analysis in surgically confirmed 155 patients. Radiat Med, 2007; 25: 113–118.\\n10. Cadenas Rodriguez L, Marti de Gracia M, Saturio Galan N, Perez Duenas V, Salvatierra Arrieta L, Garzon Moll G. Use of multidetector computed tomography for locating the site of gastrointestinal tract perforations. Cir Esp, 2013; 91: 316–323.\\n11. Byrge N, Barton RG, Enniss TM, Nirula R. Laparoscopic versus open repair of perforated gastroduodenal ulcer: a National Surgical Quality Improvement Program analysis. Am J Surg, 2013; 206:957–962.\\n12. Bertleff MJOE, Lange JF. Laparoscopic correction of perforated peptic ulcer: first choice? A review of literature. Surg Endosc, 2010; 24: 1231–1239.\\n13. Guadagni S, Cengeli I, Galatioto C, et al. Laparoscopic repair of perforated peptic ulcer: single-center results. Surg Endosc, 2014; 28: 2302–2308.\\n14. Kim HC, Yang DM, Kim SW, Park SJ. Gastrointestinal tract perforation: evaluation of MDCT according to perforation site and elapsed time. Eur Radiol, 2014; 24: 1386–1393.\\n15. Buck DL, Vester-Andersen M, Moller MH. Surgical delay is a critical determinant of survival in perforated peptic ulcer. Br J Surg, 2013; 100: 1045–1049.\\n16. Sanabria A, Villegas MI, Morales Uribe CH. Laparoscopic repair for perforated peptic ulcer disease. Sanabria A, ed. Cochrane Database Syst Rev, 2013; 2:CD004778.\\n17. Jayanthi NVG. Laparoscopic repair of perforated peptic ulcer-technical tip. Surg Laparosc Endosc Percutan Tech, 2013; 23: e145–6.\\n18. Song K-Y, Kim T-H, Kim S-N, Park C-H. Laparoscopic repair of perforated duodenal ulcers: the simple “one-stitch” suture with omental patch technique. Surg Endosc, 2008; 22: 1632–1635.\\n19. Abd Ellatif ME, Salama AF, Elezaby AF, et al. Laparoscopic repair of perforated peptic ulcer: patch versus simple closure. Int J Surg, 2013; 11: 948–951.\\n20. Lo H-C, Wu S-C, Huang H-C, Yeh C-C, Huang J-C, Hsieh C-H. Laparoscopic simple closure alone is adequate for low risk patients with perforated peptic ulcer. World J Surg, 2011; 35: 1873–1878.\\n21. Furukawa A, Sakoda M, Yamasaki M, et al. Gastrointestinal tract perforation: CT diagnosis of presence, site, and cause. Abdom Imaging, 2005; 30: 524–534.\\n22. Ghekiere O, Lesnik A, Hoa D, Laffargue G, Uriot C, Taourel P. Value of computed tomography in the diagnosis of the cause of nontraumatic gastrointestinal tract perforation. J Comput Assist Tomogr, 2007; 31: 169–176.\\n23. Lam CM, Yuen AW, Chik B, Wai AC, Fan ST. Laparoscopic surgery for common surgical emergencies: a population-based study. Surg Endosc, 2005; 19: 774–779.\\n24. Sauerland S, Agresta F, Bergamaschi R, et al. Laparoscopy for abdominal emergencies: evidence-based guidelines of the European Association for Endoscopic Surgery. Surg Endosc, 2006; 20:14–29.\\n25. Kim SH, Shin SS, Jeong YY, Heo SH, Kim JW, Kang HK. Gastrointestinal tract perforation: MDCT findings according to the perforation sites. Korean J Radiol, 2009; 10: 63–70.\\n26. Udayasankar UK, Li J, Baumgarten DA, Small WC, Kalra MK. Acute abdominal pain: value of non-contrast enhanced ultra-low-dose multi-detector row CT as a substitute for abdominal radiographs. Emerg Radiol, 2009; 16: 61–70.\\n</td>\n",
       "    </tr>\n",
       "    <tr>\n",
       "      <th>1</th>\n",
       "      <td>1. Chang GJ, Rodriguez-Bigas MA, Skibber JM, Moyer VA. Lymph node evaluation and survival after curative resection of colon cancer: systematic review. J Natl Cancer Inst. 2007 Mar 21;99(6):433-41. PubMed PMID: 17374833. Epub 2007/03/22. eng.\\n2. Edler D, Ohrling K, Hallstrom M, et al. The number of analyzed lymph nodes - a prognostic factor in colorectal cancer. Acta Oncol. 2007;46(7):975-81. PubMed PMID: 17917828. Epub 2007/10/06. eng.\\n3. Goldstein NS. Lymph node recoveries from 2427 pT3 colorectal resection specimens spanning 45 years: recommendations for a minimum number of recovered lymph nodes based on predictive probabilities. Am J Surg Pathol. 2002 Feb;26(2):179-89. PubMed PMID: 11812939.\\n4. Swanson RS, Compton CC, Stewart AK, Bland KI. The prognosis of T3N0 colon cancer is dependent on the number of lymph nodes examined. Ann Surg Oncol. 2003 Jan-Feb;10(1):65-71. PubMed PMID: 12513963.\\n5. Lykke J, Roikjaer O, Jess P, Danish Colorectal Cancer G. The relation between lymph node status and survival in Stage I-III colon cancer: results from a prospective nationwide cohort study. Colorectal Dis. 2013 May;15(5):559-65. PubMed PMID: 23061638.\\n6. Feinstein AR, Sosin DM, Wells CK. The Will Rogers phenomenon. Stage migration and new diagnostic techniques as a source of misleading statistics for survival in cancer. N Engl J Med. 1985 Jun 20;312(25):1604-8. PubMed PMID: 4000199. Epub 1985/06/20. eng.\\n7. Schemper M, Smith TL. A note on quantifying follow-up in studies of failure time. Controlled clinical trials. 1996 Aug;17(4):343-6. PubMed PMID: 8889347.\\n8. Resch A, Langner C. Lymph node staging in colorectal cancer: old controversies and recent advances. World J Gastroenterol. 2013 Dec 14;19(46):8515-26. PubMed PMID: 24379568. Pubmed Central PMCID: 3870496.\\n9. Märkl B, Kerwel TG, Jähnig HG, et al. Methylene Blue-Assisted Lymph Node Dissection in Colon Specimens: A Prospective, Randomized Study. Am J Clin Pathol. 2008 Dec 1;130(6):913-9. PubMed PMID: 19019768. Epub 2008/11/21. Eng.\\n10. Märkl B, Schaller T, Krammer I, et al. Methylene blue-assisted lymph node dissection technique is not associated with an increased detection of lymph node metastases in colorectal cancer. 2013 Apr 19;26(9):1246-54. PubMed PMID: 23599158. Epub 2013/04/20. Eng.\\n11. Märkl B, Rössle J, Arnholdt HM, et al. The clinical significance of lymph node size in colon cancer. Mod Pathol. 2012 Oct;25(10):1413-22. PubMed PMID: 22684222. Epub 2012/06/12. eng.\\n12. Simunovic M, Baxter NN. Lymph node counts in colon cancer surgery: lessons for users of quality indicators. JAMA. 2007 Nov 14;298(18):2194-5. PubMed PMID: 18000205. Epub 2007/11/15. eng.\\n13. Wong SL, Ji H, Hollenbeck BK, et al. Hospital lymph node examination rates and survival after resection for colon cancer. JAMA. 2007 Nov 14;298(18):2149-54. PubMed PMID: 18000198. Epub 2007/11/15. eng.\\n14. Sloothaak DA, Grewal S, Doornewaard H, et al. Lymph node size as a predictor of lymphatic staging in colonic cancer. Br J Surg. 2014 May;101(6):701-6. PubMed PMID: 24676735.\\n15. George S, Primrose J, Talbot R, et al. Will Rogers revisited: prospective observational study of survival of 3592 patients with colorectal cancer according to number of nodes examined by pathologists. Br J Cancer. 2006 Oct 9;95(7):841-7. PubMed PMID: 16969342.\\n16. O'Shea A, Aly O, Parnaby CN, et al. Increased lymph node yield in colorectal cancer is not necessarily associated with a greater number of lymph node positive cancers. PLoS One. 2014;9(8):e104991. PubMed PMID: 25118594. Pubmed Central PMCID: 4132075.\\n17. Parsons HM, Tuttle TM, Kuntz KM, et al. Association between lymph node evaluation for colon cancer and node positivity over the past 20 years. JAMA. 2011 Sep 14;306(10):1089-97. PubMed PMID: 21917579. Epub 2011/09/16. eng.\\n18. Porter GA, Urquhart R, Bu J, et al. Improving nodal harvest in colorectal cancer: so what? Ann Surg Oncol. 2012 Apr;19(4):1066-73. PubMed PMID: 21969083. Epub 2011/10/05. eng.\\n19. Storli K, Sondenaa K, Furnes B, et al. Improved lymph node harvest from resected colon cancer specimens did not cause upstaging from TNM stage II to III. World journal of surgery. 2011 Dec;35(12):2796-803. PubMed PMID: 21879420. Epub 2011/09/01. eng.\\n20. Moore J, Hyman N, Callas P, Littenberg B. Staging error does not explain the relationship between the number of lymph nodes in a colon cancer specimen and survival. Surgery. 2010 Mar;147(3):358-65. PubMed PMID: 19962166.\\n21. van Erning FN, Crolla RM, Rutten HJ, et al. No change in lymph node positivity rate despite increased lymph node yield and improved survival in colon cancer. Eur J Cancer. 2014 Nov 1;50(18):3221-9. PubMed PMID: 25459398.\\n22. Sjo OH, Merok MA, Svindland A, Nesbakken A. Prognostic impact of lymph node harvest and lymph node ratio in patients with colon cancer. Dis Colon Rectum. 2012 Mar;55(3):307-15. PubMed PMID: 22469798.\\n23. Bläker H, Hildebrandt B, Riess H, et al. Lymph node count and prognosis in colorectal cancer: The influence of examination quality. Int J Cancer. 2014 Sep 18. PubMed PMID: 25231924.\\n24. Chen L, Kalady MF, Goldblum J, et al. Does reevaluation of colorectal cancers with inadequate nodal yield lead to stage migration or the identification of metastatic lymph nodes? Dis Colon Rectum. 2014 Apr;57(4):432-7. PubMed PMID: 24608298.\\n25. Pihl E, Nairn RC, Milne BJ, et al. Lymphoid hyperplasia: a major prognostic feature in 519 cases of colorectal carcinoma. The American journal of pathology. 1980 Aug;100(2):469-80. PubMed PMID: 7406021. Pubmed Central PMCID: 1903530. Epub 1980/08/01. eng.\\n26. Figueredo A, Coombes ME, Mukherjee S. Adjuvant therapy for completely resected stage II colon cancer. Cochrane Database Syst Rev. 2008 (3):CD005390. PubMed PMID: 18646127. Epub 2008/07/23. eng.\\n27. Lin HH, Chang YY, Lin JK, et al. The role of adjuvant chemotherapy in stage II colorectal cancer patients. Int J Colorectal Dis. 2014 Oct;29(10):1237-43. PubMed PMID: 25024041.\\n28. Gill S, Loprinzi CL, Sargent DJ, et al. Pooled analysis of fluorouracil-based adjuvant therapy for stage II and III colon cancer: who benefits and by how much? J Clin Oncol. 2004 May 15;22(10):1797-806. PubMed PMID: 15067028.\\n29. Johnston PG. Stage II colorectal cancer: to treat or not to treat. Oncologist. 2005 May;10(5):332-4. PubMed PMID: 15851791. Epub 2005/04/27. eng.\\n30. Schneider NI, Langner C. Prognostic stratification of colorectal cancer patients: current perspectives. Cancer management and research. 2014;6:291.\\n31. Zlobec I, Lugli A. Prognostic and predictive factors in colorectal cancer. J Clin Pathol. 2008 May;61(5):561-9. PubMed PMID: 18326017. Epub 2008/03/08. eng.\\n32. C. Pox SA, S. C. Bischoff, U. Graeven, M. Hass, P. Heußner, W. Hohenberger, A., Holstege JH, F. Kolligs, M. Kreis, P. Lux, J. Ockenga, R. Porschen, S. Post, N., Rahner AR-S, J.F. Riemann, R. Sauer, A. Sieg, W. Scheppach, W. Schmitt,, H.-J. Schmoll KS, A. Tannapfel, W. Schmiegel. S3-Leitlinie Kolorektales Karzinom, Langversion 1.0. 2013; Available from: http://leitlinienprogrammonkologie.\\nde/Leitlinien.7.0.html.\\n33. van de Velde CJ, Boelens PG, Borras JM, et al. EURECCA colorectal: multidisciplinary management: European consensus conference colon &amp; rectum. Eur J Cancer. 2014 Jan;50(1):1 e- e34. PubMed PMID: 24183379.\\n</td>\n",
       "    </tr>\n",
       "    <tr>\n",
       "      <th>2</th>\n",
       "      <td>1.               Haider AH, Scott VK, Rehman KA, Velopulos CG, Bentley JM, EE Cornwell EE 3rd, Al-Refaie W. Racial disparities in surgical care and outcomes in the United States: A comprehensive review of patient, provider, and systemic factors. J Am Coll Surg. 2013;216(3):482-92.e12.\\n2.               Hicks CW, Hashmi ZG, Velopulos C, Efron DT, Schneider EB, Haut ER, et al. Association between race and age in survival after trauma. JAMA Surg. 2014;149(7):642-7.\\n3.               Hernandez RA, Hevelone ND, Lopez L, Finlayson SR, Chittenden E, Cooper Z. Racial variation in the use of life-sustaining treatments who die after major elective surgery. Am J Surg. 2014 [Epub ahead of print].  \\n4.               Sukumar S, Ravi P, Sood A, Gervais MK, Hu JC, Kim SP, et al. Racial disparities in operative outcomes after major cancer surgery in the United States. World J Surg. 2014 [Epub ahead of print].\\n5.               Haider AH, Weygandt PL, Bentley JM, Monn MF, Rehman KA, Zarzaur BL, et al. Disparities in trauma care and outcomes in the Untied States: A systematic review and meta-analysis. J Trauma Acute Care Surg. 2013;74(5):1195-205.\\n6.              Artinyan A, Mailey B, Sanchez-Luege N, et al. Race, ethnicity, and socioeconomic status influence the survival of patients with hepatocellular carcinoma in the United States. Cancer. 2010;116(5):1367-77.\\n7.               Nguyen LL, Hevelone N, Rogers SO, et al. Disparity in outcomes of surgical revascularization for limb salvage: Race and gender are synergistic determinants of vein graft failure and limb loss. Circulation. 2009;119(1):123-30.\\n8.               American College of Surgeons. Statement on Optimal Access. 1 April 2013. Available from: http://bulletin.facs.org/2013/04/statement-on-optimal-acces. Accessed 06 January 2015.\\n9.               Association of American Medical Colleges. Addressing Racial Disparities in Health Care: A Targeted Action Plan for Academic Medical Centers. 1 April 2013. Available from: https://www.mededportal.org/icollaborative/resource/655. Accessed 06 January 2015.\\n10.         Lurie N, Fremont A, Jain AK, Taylor SL, McLaughlin R, Peterson E, et al. Racial and ethnic disparities in care: The perspectives of cardiologists. Circulation. 2005;111(10):1264-9.\\n11.         Taylor SL, Fremont A, Jain AK, McLaughlin R, Peterson E, Ferguson TB Jr., Lurie N. Racial and ethnic disparities in care: The perspectives of cardiovascular surgeons. Ann Thorac Surg. 2006;81(2):531-6.\\n12.         Kaiser Family Foundation. Race, Ethnicity, &amp; Medical Care: A Survey of Public Perceptions and Experiences. Menlo Park, CA: Kaiser Family Foundation; 1999.\\n13.         Qualitrics, LLC. Qualitrics. 2014. Available from: http://www.qualtrics.com/. Accessed 06 January 2015.\\n14.         Britton BV, Nagarajan N, Zogg CK, et al. Providers as a factor: To what extent do surgeons acknowledge that racial/ethnic disparities exist? JAMA Surg. 2015 [Submitted].\\n15.         Skolasky RL, Thrope RJ Jr., Wegner ST, Railey LH 3rd. Complications and mortality in cervical spine surgery: Racial differences. Spine. 2014;39(18):1506-12.\\n16.         Mendez ME, Ring D. Minorities are less likely to receive autologous blood transfusion for major elective orthopaedic surgery. Clin Orthop Relat Res. 2014;472(11):3559-66.\\n17.         Selvarajah S, Black JH 3rd, Haider AH, Abularrage CJ. Racial disparity in early graft failure after infrainguinal bypass. J Surg Res. 2014;190(1):335-43.\\n18.          Benz JK, Espinosa O, Welsh V, Fontes A. Awareness of racial and ethnic health disparities has improved only modestly over a decade. Health Aff. 2011;30(10):1860-7.\\n19.         Brooske BC, Robert SA, Rohan AM. Awareness of racial and socioeconomic health disparities in the United States: The national opinion survey on health and health disparities, 2008-2009. Prev Chronic Dis. 2011;8(4):A73.\\n20.         Greysen SR, Siegel B, Sears V, Solomon A, Jones K, Bradley EH. Residents’ awareness of racial and ethnic disparities in cardiovascular care. J Grad Med Educ. 2011;3(3):417-20.\\n21.         Okoro ON, Odedina FT, Reams RR, Smith WT. Clinical cultural competency and knowledge of health disparities among pharmacy students. Am J Pharm Educ. 2012;76(3):40.\\n22.         Mallinger JB, Lamberti JS. Psychiatrists’ attitudes toward and awareness about racial disparities in mental health care. Psychiatr Serv. 2010;61(2):173-9.\\n23.         Jarris YS, Bartleman A, Hall EC, Lopez L. A preclinical medical student curriculum to introduce health disparities and cultivate culturally responsive care. J Natl Med Assoc. 2012;104(9-10):404-11.\\n24.         Awosogba T, Betancourt JR, Conyers FG, Estape ES, Fancois F, Gard SJ, et al. Prioritizing health disparities in medical education to improve care. Ann N Y Acad Sci. 2013;1287:17-30.\\n25.         Maldonado ME, Fried ED, DuBose TD, Nelson C, Breida M. The role that graduate medical education must play in ensuring health equity and eliminating health care disparities. Ann Am Thorac Soc. 2014;11(4):603-7.\\n26.         Cunningham CT, Quan H, Hemmelgarn B, et al. Exploring physician specialist response rates to web-based surveys. BMC Med Res Methodol. 2015;15(1):32.\\n27.         Martins Y, Lederman RI, Lowenstein CL, et al. Increasing response rates from physicians in oncology research: A structures literature review and data from a recent physician survey. Br J Cancer.  2012;106(6):1021-6.\\n28.         Kellerman SE, Herold J. Physician response to surveys. A review of the literature. Am J Prev Med. 2001;20(1):61-7.\\n29.          Larson EB. How can clinicians incorporate research advances into practice? J Gen Intern Med. 1997;12(Suppl 2):S20-4.\\n30.         Obertop H. How surgeons make decisions: Authority and evidence. Ann Surg. 2005;242(6):753-6.\\n31.          Jonas WB. Scientific evidence and medical practice: The “Drunkard’s Walk”. Arch Intern Med. 2009;169(7):649-50. \\n32.         Hisam B, Zogg CK, Chaudhary MA, et al. From understanding to action: Review of interventions for surgical disparities. J Surg Res. 2015 [Submitted]. \\n</td>\n",
       "    </tr>\n",
       "    <tr>\n",
       "      <th>3</th>\n",
       "      <td>1. Shafi S, Aboutanos MB, Agarwal S, et al. Emergency general surgery: Definition and estimated burden of disease. J Trauma Acute Care Surg, 2013 Apr;74(4):1092-7\\n2.        Havens JM, Peetz AB, Do WS, et al. The excess morbidity and mortality of emergency general surgery. J Trauma Acute Care Surg, 2015 Feb;78(2):306-11 \\n3. Zafar SN, Shah AA, Hashmi SG, et al. Outcomes after emergency general surgery at teaching versus nonteaching hospitals. J Trauma Acute Care Surg, 2015 Jan;78(1):69-76; discussion 76-7\\n4. Ingraham AM, Cohen ME, Raval MV, et al. Comparison of hospital performance in emergency versus elective general surgery operations at 198 hospitals. J Am Coll Surg, 2011;212(1):20-28 e1.\\n5. Primatesta P, Goldacre MJ. Inguinal Hernia Repair: Incidence of Elective and Emergency Surgery, Readmission and Mortality. Int J Epidemiol, 1996 Aug;25(4):835-9.\\n6. Yoo PS, Mulkeen AL, Frattini JC, et al. Assessing risk factors for adverse outcomes in emergent colorectal surgery. Surg Oncol, 2006 Aug;15(2):85-9.\\n7. Muthuvel G, Tevis SE, Liepert AE, et al. A composite index for predicting readmission following emergency general surgery. J Trauma Acute Care Surg, 2014 Jun;76(6):1467-72.\\n8. Regenbogen SE, Lancaster RT, Lipsitz SR, et al. Does the Surgical Apgar Score measure intraoperative performance? Ann Surg, 2008 Aug;248(2):320-8\\n9. Kaafarani HM, Mavros MN, Hwabejire J, et al. Derivation and validation of a novel severity classification for intraoperative adverse events. J Am Coll Surg, 2014;218(6):1120-8.\\n10. Ramly EP, Larentzakis A, Bohnen JD, et al. The Financial Impact of Intraoperative Adverse Events in Abdominal Surgery. Surgery, In press 2015.\\n11. Khuri SF, Henderson WG, Daley J, et al. The patient safety in surgery study: Background, study design, and patient populations. J Am Coll Surg, 2007 Jun;204(6):1089-102.\\n12. Hall BL, Hamilton BH, Richards K, et al. Does surgical quality improve in the American College of Surgeons National Surgical Quality Improvement Program: an evaluation of all participating hospitals. Ann Surg, 2009 Sep;250(3):363-76.\\n13. Brennan TA, Leape LL, Laird NM, et al. Incidence of adverse events and negligence in hospitalized patients. Results of the Harvard Medical Practice Study I. N Engl J Med, 1991;324(6):370-6.\\n14. Mavros MN, Velmahos GC, Larentzakis A, et al. Opening Pandora's box: understanding the nature, patterns, and 30-day outcomes of intraoperative adverse events. Am J Surg, 2014;208(4):626-31.\\n15. Davenport DL, Henderson WG, Khuri SF, et al. Preoperative risk factors and surgical complexity are more predictive of costs than postoperative complications: a case study using the National Surgical Quality Improvement Program (NSQIP) database. Ann Surg, 2005;242(4):463-8; discussion 468-71.\\n16. Henderson WG, Daley J. Design and statistical methodology of the National Surgical Quality Improvement Program: why is it what it is? Am J Surg, 2009;198(5 Suppl):S19-27.\\n17. Johnson RG, Arozullah AM, Neumayer L, et al. Multivariable predictors of postoperative respiratory failure after general and vascular surgery: results from the patient safety in surgery study. J Am Coll Surg, 2007;204(6):1188-98.\\n18. Neumayer L, Hosokawa P, Itani K, et al. Multivariable predictors of postoperative surgical site infection after general and vascular surgery: results from the patient safety in surgery study. J Am Coll Surg, 2007;204(6):1178-87.\\n19. Virani S, Michaelson JS, Hutter MM, et al. Morbidity and mortality after liver resection: results of the patient safety in surgery study. J Am Coll Surg, 2007;204(6):1284-92.\\n20. Health Systems and Financing Glossary. The World Bank Website. http://go.worldbank.org/PDUJLG0B80. Updated 2011. Accessed December 16, 2014\\n21. Taheri PA, Butz D, Griffes LC, et al. Physician Impact on the Total Cost of Care. Annals of Surgery, 2000;231(3):432-435\\n22. Ng HJ, Yule M, Twoon M, et al. Current outcomes of emergency large bowel surgery. Ann R Coll Surg Engl, 2015; 97: 151–156\\n23. Holubar SD, Wang JK, Wolff BG, et al. Splenic salvage after intraoperative splenic injury during colectomy. Arch Surg, 2009 Nov;144(11):1040-5.\\n24. Zhang LP1, Chang R, Matthews BD, et al. Incidence, mechanisms, and outcomes of esophageal and gastric perforation during laparoscopic foregut surgery: a retrospective review of 1,223 foregut cases. Surg Endosc, 2014 Jan;28(1):85-90.\\n25. Chandler JG, Corson SL, Way LW. Three spectra of laparoscopic entry access injuries.Chandler JG1, Corson SL, Way LW. J Am Coll Surg, 2001 Apr;192(4):478-90; discussion 490-1.\\n26. Binenbaum SJ, Goldfarb MA. Inadvertent enterotomy in minimally invasive abdominal surgery. JSLS, 2006 Jul-Sep;10(3):336-40.\\n27.         ten Broek RP, Strik C, Issa Y, et al. Adhesiolysis-related morbidity in abdominal surgery. Ann Surg, 2013;258(1):98-106.\\n28. Van Der Krabben AA, Dijkstra FR, Nieuwenhuijzen M, et al. Morbidity and mortality of inadvertent enterotomy during adhesiotomy. Br J Surg, 2000;87(4):467-71.\\n29. Mavros MN, Velmahos GC, Lee J, et al. Morbidity related to concomitant adhesions in abdominal surgery. J Surg Res, 2014;192(2):286-92.\\n30. Mavros MN, Bohnen JD, Ramly EP, et al. Intraoperative Adverse Events: Risk Adjustment for Procedure Complexity and Presence of Adhesions Is Crucial. J Am Coll Surg, In press 2015.\\n31. Dea N, Versteeg A, Fisher C, et al. Adverse events in emergency oncological spine surgery: a prospective analysis. J Neurosurg Spine, 2014 Nov;21(5):698-703.\\n32. Kasotakis G, Lakha A, Sarkar B, et al. Trainee participation is associated with adverse outcomes in emergency general surgery: an analysis of the National Surgical Quality Improvement Program database. Ann Surg, 2014 Sep;260(3):483-90; discussion 490-3\\n33. Sharma A, Khullar R, Soni V, et al. Iatrogenic enterotomy in laparoscopic ventral/incisional hernia repair: a single center experience of 2,346 patients over 17 years. Hernia, 2013 Oct;17(5):581-7.\\n34. Platz J, Hyman N. Tracking intraoperative complications. J Am Coll Surg, 2012 Oct;215(4):519-23.\\n35. Nelson R, Edwards S, Tse B. Prophylactic nasogastric decompression after abdominal surgery. Cochrane Database Syst Rev, 2007 Jul;18(3)\\n36. Current Evidence and Emerging Methods Regarding Validation of the AHRQ QIs: AHRQ's 2012 Annual Conference Slide Presentation. December 2012. Agency for Healthcare Research and Quality, Rockville, MD. http://www.ahrq.gov/news/events/conference/2012/track_a/52_pancholi_et-al/romano.html. Updated 2012. Accessed December 16, 2014\\n</td>\n",
       "    </tr>\n",
       "    <tr>\n",
       "      <th>4</th>\n",
       "      <td>1. Hicks CM, Kiss A, Bandiera GW, Denny CJ. Crisis Resources for Emergency Workers (CREW II): results of a pilot study and simulation-based crisis resource management course for emergency medicine residents. CJEM. 2012 Nov;14(6):354–62. \\n2. Kim J, Neilipovitz D, Cardinal P, Chiu M, Clinch J. A pilot study using high-fidelity simulation to formally evaluate performance in the resuscitation of critically ill patients: The University of Ottawa Critical Care Medicine, High-Fidelity Simulation, and Crisis Resource Management I Study. Crit Care Med. 2006 Aug;34(8):2167–74. \\n3. Haller G, Garnerin P, Morales M-A, Pfister R, Berner M, Irion O, et al. Effect of crew resource management training in a multidisciplinary obstetrical setting. Int J Qual Health Care. 2008 Aug;20(4):254–63. \\n4. Gaba DM. Crisis resource management and teamwork training in anaesthesia. British journal of anaesthesia. 2010 Jun 15;105(1):3–6. \\n5. Gaba DM, DeAnda A. A comprehensive anesthesia simulation environment: re-creating the operating room for research and training. Anesthesiology. 1988 Sep;69(3):387–94. \\n6. Gaba DM. Improving anesthesiologists' performance by simulating reality. Anesthesiology. 1992 Apr;76(4):491–4. \\n7. Ziesmann MT, Widder S, Park J, Kortbeek JB, Brindley P, Hameed M, et al. S.T.A.R.T.T.: development of a national, multidisciplinary trauma crisis resource management curriculum-results from the pilot course. J Trauma Acute Care Surg. 2013 Nov;75(5):753–8. \\n8. Brindley PG, Paton-Gay JD, Gillman LM. Designing Multidisciplinary Simulations. In: Gillman LM, Widder S, Blaivas M, Karakitsos D, editors. Trauma Team Dynamics. Springer. \\n9. BRINDLEY P, HUDSON D, LORD J. The blindfolded learner—A simple intervention to improve crisis resource management skills☆. Journal of Critical Care. 2008 Jun;23(2):253–4. \\n10. Doumouras AG, Keshet I, Nathens AB, Ahmed N, Hicks CM. Trauma Non-Technical Training (TNT-2): the development, piloting and multilevel assessment of a simulation-based, interprofessional curriculum for team-based trauma resuscitation. Can J Surg. 2014 Oct;57(5):354–5. \\n11. Yee B, Naik VN, Joo HS, Savoldelli GL, Chung DY, Houston PL, et al. Nontechnical skills in anesthesia crisis management with repeated exposure to simulation-based education. Anesthesiology. 2005 Aug;103(2):241–8. \\n</td>\n",
       "    </tr>\n",
       "    <tr>\n",
       "      <th>5</th>\n",
       "      <td>1. Menaker J, Stein DM, Scalea TM. Pulmonary Embolism After Injury: More Common Than We Think? J Trauma 2009;67:1244-1249.\\n2. Tuttle-Newhall JE, Rutledge R, Hultman CS, Fakhry SM. Statewide, Population-Based, Time-Series Analysis of the Frequency and Outcome of Pulmonary Embolus in 318,554 Trauma Patients. J Trauma 1997;42(1):90-99.\\n3. Brakenridge SC, Henley SS, Kashner TM, et al. Comparing clinical predictors of deep venous thrombosis versus pulmonary embolus after severe injury: A new paradigm for posttraumatic venous thromboembolism? J Trauma Acute Care Surg 2013;74:1231-1238. \\n4. Safriel Y and Zinn H. CT pulmonary angiography in the detection of pulmonary emboli. A meta-analysis of sensitivities and specificities. J Clin Imag 2002;26:101-105. \\n5. Kang DK, Thilo C, Schoepf J, et al. CT Signs of Right Ventricular Dysfunction: Prognostic Role in Acute Pulmonary Embolism. JACC: Cardiol Imag 2011;4(8):841-849.\\n6. Wake N, Kumamaru KK, George E, et al. Computed Tomography and Echocardiography in Patients with Acute Pulmonary Embolism: Part 1: Correlation of Findings of Right Ventricular Enlargement. J Thorac Imaging. 2014 Jan;29(1):W1-6.\\n7. Lim KE, Chan CY, Chu PH, et al. Right ventricular dysfunction secondary to acute massive pulmonary embolism detected by helical computed tomography pulmonary angiography. Clin Imaging 2005;29:16-21. \\n8. Ocak I and Fuhrman C. CT Angiography Findings of the Left Atrium and Right Ventricle in Patients with Massive Pulmonary Embolism. AJR 2008;191:1072-1076. \\n9. Kang DK, Sun JS, Park KJ, Lim HS. Usefulness of Combined Assessment With Computed Tomographic Signs of Right Ventricular Dysfunction and Cardiac Troponin T for Risk Stratification of Acute Pulmonary Embolism. Am J Cardiol 2011;108:133-140.\\n10.                      George E, Kumamaru KK, Ghosh N, et al. Computed Tomography and Echocardiography in Patients with Acute Pulmonary Embolism: Part 2: Prognostic Value. J Thorac Imaging. 2014 Jan;29(1):W7-12.\\n11.                      Jeebun V, Doe SJ, Singh L, et al. Are clinical parameters and biomarkers predictive of severity of acute pulmonary emboli on CTPA? Q J Med 2010;103:91-97.\\n12.                      Aviram G, Rogowski O, Gotler Y, et al. Real-time risk stratification of patients with acute pulmonary embolism by grading the reflux of contrast medium into the inferior vena cava on computerized tomographic pulmonary angiography. J Thromb Haemost 2008;6:1488-1493.\\n13.                      Coleman JJ, Zarzaur BL, Katona CW, et al. Factors Associated with Pulmonary Embolism Within 72 Hours of Admission after Trauma: A Multicenter Study. J Am Coll Surg 2015;220:731-736.\\n14.                      Sing RF, Camp SM, Heniford BT, et al. Timing of pulmonary emboli after trauma: implications for retrievable vena cava filters. J Trauma 2006;60:732-735.\\n15.                      Knudson MM, Ikossi DG, Khaw L, et al. Three thousand seven hundred thirty-eight posttraumatic pulmonary emboli: a new look at an old disease. Ann Surg 2011;254(4):625-32.\\n16.                      Benns M, Reilly P, Kim P. Early pulmonary embolism after injury: A different clinical entity? Injury 2014;45:241-244.\\n</td>\n",
       "    </tr>\n",
       "    <tr>\n",
       "      <th>6</th>\n",
       "      <td>1. Wu LL, Yang YS, Dou Y, Liu QS. A systematic analysis of pneumatosis cystoids intestinalis. World journal of gastroenterology : WJG. 2013 Aug 14;19(30):4973-8. PubMed PMID: 23946603. Pubmed Central PMCID: 3740428.\\n2. Hawn MT, Canon CL, Lockhart ME, et al. Serum lactic acid determines the outcomes of CT diagnosis of pneumatosis of the gastrointestinal tract. The American surgeon. 2004 Jan;70(1):19-23; discussion -4. PubMed PMID: 14964540.\\n3. Duron VP, Rutigliano S, Machan JT, et al. Computed tomographic diagnosis of pneumatosis intestinalis: clinical measures predictive of the need for surgical intervention. Archives of surgery. 2011 May;146(5):506-10. PubMed PMID: 21576602.\\n4. Greenstein AJ, Nguyen SQ, Berlin A, et al. Pneumatosis intestinalis in adults: management, surgical indications, and risk factors for mortality. Journal of gastrointestinal surgery : official journal of the Society for Surgery of the Alimentary Tract. 2007 Oct;11(10):1268-74. PubMed PMID: 17687617.\\n5. DuBose JJ, Lissauer M, Maung AA, et al. Pneumatosis Intestinalis Predictive Evaluation Study (PIPES): a multicenter epidemiologic study of the Eastern Association for the Surgery of Trauma. The journal of trauma and acute care surgery. 2013 Jul;75(1):15-23. PubMed PMID: 23778433.\\n6. Harrell FE, Jr. Regression modeling strategies with application to linear models, logistic regression, and survival analysis. New York: Spring-Verlag; 2002.\\n7. Hanley JA, McNeil BJ. The meaning and use of the area under a receiver operating characteristic (ROC) curve. Radiology. 1982;143(1):29-36. PubMed PMID: 7063747.\\n8. Harrell FE, Jr., Califf RM, Pryor DB, et al. Evaluating the yield of medical tests. JAMA. 1982;247(18):2543-6. PubMed PMID: 7069920.\\n9. Ash A, Shwartz M. R2: a useful measure of model performance when predicting a dichotomous outcome. Stat Med. 1999 Feb 28;18(4):375-84. PubMed PMID: 10070680.\\n10. Cox DR, Wermuth N. A comment on the coefficient of determination for binary responses. Am Stat. 1992;46:1-4.\\n11. Nagelkerke NJD. A note on a general definition of the coefficient of multiple determination. Biometrika. 1991;78:691-2.\\n12. Harrell F, Lee K, Mark D. Multivariable prognostic models: issues in developing models, evaluating assumptions and adequacy, and measuring and reducing errors. Statistics in Medicine. 1996;15(4):361-87.\\n13. Michael EM, Siu LH, William MT. Validation techniques for logistic regression models. Statistics in Medicine. 1991;10(8):1213-26.\\n14. Ewout WS, Marinus JCE, Frank EH, Jr., Habbema JDF. Prognostic modelling with logistic regression analysis: a comparison of selection and estimation methods in small data sets. Statistics in Medicine. 2000;19(8):1059-79.\\n15. Douglas GA, Patrick R. What do we mean by validating a prognostic model? Statistics in Medicine. 2000;19(4):453-73.\\n16. Harrell FE, Jr. Hmisc: A library of miscellaneous functions. Available at: http://cran.r-project.org/web/packages/Hmisc. 2012.\\n17. JG D. Anatomische Beobachtungen der Unter der Aussern und Innern Haut der Gedarme Eingeschlossenen Luft. Phys Med Abhandl Acad Wissenschin Petersb. 1783;2:182.\\n18. BLF B. Luftholdige Kyster I Vaggen af ileum og I Nydannot Bindevav pa Sammes Serosa. Nord med Ark. 1876;18(1).\\n19. Gazin AI, Brooke WS, et al. Pneumatosis intestinalis; roentgen diagnosis and surgical management. American journal of surgery. 1949 May;77(5):563-72. PubMed PMID: 18119024.\\n20. Leonidas JC, Hall RT. Neonatal pneumatosis coli: a mild form of neonatal necrotizing enterocolitis. The Journal of pediatrics. 1976 Sep;89(3):456-9. PubMed PMID: 956974.\\n21. Fui SL, Lupinacci RM, Tresallet C, et al. How to Avoid Nontherapeutic Laparotomy in Patients With Multiple Organ Failure of Unknown Origin. The Role of CT Scan Revisited. International surgery. 2015 Mar;100(3):466-72. PubMed PMID: 25785329. Pubmed Central PMCID: 4370537.\\n22. Wayne E, Ough M, Wu A, et al. Management algorithm for pneumatosis intestinalis and portal venous gas: treatment and outcome of 88 consecutive cases. Journal of gastrointestinal surgery : official journal of the Society for Surgery of the Alimentary Tract. 2010 Mar;14(3):437-48. PubMed PMID: 20077158.\\n23. Bani Hani M, Kamangar F, Goldberg S, et al. Pneumatosis and portal venous gas: do CT findings reassure? The Journal of surgical research. 2013 Dec;185(2):581-6. PubMed PMID: 23845870.\\n24. Pauw RG, van der Werf TS, van Dullemen HM, Dullaart RP. Mediastinal emphysema complicating diabetic ketoacidosis: plea for conservative diagnostic approach. The Netherlands journal of medicine. 2007 Nov;65(10):368-71. PubMed PMID: 18057458.\\n25. Tanabe S, Shirakawa Y, Takehara Y, et al. Successfully treated pneumatosis cystoides intestinalis with pneumoperitoneum onset in a patient administered alpha-glucosidase inhibitor. Acta medica Okayama. 2013;67(2):123-8. PubMed PMID: 23603930.\\n26. Tsujimoto T, Shioyama E, Moriya K, et al. Pneumatosis cystoides intestinalis following alpha-glucosidase inhibitor treatment: a case report and review of the literature. World journal of gastroenterology : WJG. 2008 Oct 21;14(39):6087-92. PubMed PMID: 18932291. Pubmed Central PMCID: 2760183.\\n</td>\n",
       "    </tr>\n",
       "    <tr>\n",
       "      <th>7</th>\n",
       "      <td>1. Estimated Cancer Incidence, Mortality and Prevalence Worldwide in 2012 [press release].\\n2. Rex DK, Johnson DA, Lieberman DA, Burt RW, Sonnenberg A. Colorectal cancer prevention 2000: screening recommendations of the American College of Gastroenterology. American College of Gastroenterology. Am J Gastroenterology. 2000;95(4):868-77.\\n3. Piscatelli N, Hyman N, Osler T. Localizing colorectal cancer by colonoscopy. AArch Surg(Chicago, Ill : 1960). 2005;140(10):932-5.\\n4. Stanciu C, Trifan A, Khder SA. Accuracy of colonoscopy in localizing colonic cancer. Rev Med Chir Soc Med Nat lasi 2007;111(1):39-43.\\n5. Cho YB, Lee WY, Yun HR, Lee WS, Yun SH, Chun HK. Tumor localization for laparoscopic colorectal surgery. World J Surg. 2007;31(7):1491-5.\\n6. Borda F, Jimenez F, Borda A, Urman J. Endoscopic localization of colorectal cancer: study of its accuracy and possible error factors. Rev Esp Enferm Dig 2012;104(10):512-7.\\n7. Vaziri K, Choxi S, Orkin B; Accuracy of colonoscopic localization. Surg Endosc 2010;24(10) 2502-5 .\\n8.  Vignati P, Welch JP, Cohen JL. Endoscopic localization of colon cancers. Surg Endosc 1994;8(9): 1084-7.\\n9. Abraham NS, Young JM, Solomon MJ. Meta-analysis of short-term outcomes after laparoscopic resection for colorectal cancer. BJS. 2004;91(9):1111-24.\\n10. Kuhry E, Schwenk WF, Gaupset R, Romild U, Bonjer HJ. Long-term results of laparoscopic colorectal cancer resection. Cochrane Database Syst Rev 2008(2):Cd003432.\\n11. Yeung JM, Maxwell-Armstrong C, Acheson AG. Colonic tattooing in laparoscopic surgery - making the mark? Colorectal Dis 2009;11(5):527-30.\\n12. Keller D, Jaffe J, Philp MM, Haluszka O, Khanna A. Should all endoscopically excised rectal polyps be tattooed? A plea for localization. Surg Endosc 2012;26(11):3101-5.\\n13. Lee J, Voytovich A, Pennoyer W, Thurston K, Kozol RA. Accuracy of colon tumor localization: Computed tomography scanning as a complement to colonoscopy. World J Gastrointest Surg. 2010;2(1):22-5.\\n14. Park JW, Sohn DK, Hong CW, et al. The usefulness of preoperative colonoscopic tattooing using a saline test injection method with prepackaged sterile India ink for localization in laparoscopic colorectal surgery. Surg Endosc. 2008;22(2):501-5.\\n15. Party CCACSW. Clinical Practice Guideline for Surveillance Colonoscopy. Sydney: Cancer Council Australia; December 2011.\\n16. Rembacken B, Hassan C, Riemann JF, et al. Quality in screening colonoscopy: position statement of the European Society of Gastrointestinal Endoscopy (ESGE). Endoscopy. 2012;44(10):957-68.\\n17. Travers H, Shirazi T, S M. PMO-223 Tattooing of suspicious colonic lesions at colonoscopy: is adherence to local protocol better if identified through the Bowel Cancer Screening Programme? Gut. 2012;61:A165.\\n18. Nguyen MH, Mori K. Localization of a colonic lesion in the era of laparoscopic colectomy. ANZJS. 2011;81(9):584-6.\\n</td>\n",
       "    </tr>\n",
       "    <tr>\n",
       "      <th>8</th>\n",
       "      <td>1. C. R. Porta et al., The hidden war: humanitarian surgery in a combat zone. American journal of surgery 207, 766-772; discussion 772 (2014).\\n2. E. U. H. T. Collaboration, Mesh compared with non-mesh methods of open groin hernia repair: systematic review of randomized controlled trials. The British journal of surgery 87, 854-859 (2000).\\n3. A. M. Grant, E. U. H. T. Collaboration, Open mesh versus non-mesh repair of groin hernia: meta-analysis of randomised trials based on individual patient data [corrected]. Hernia : the journal of hernias and abdominal wall surgery 6, 130-136 (2002).\\n4. J. R. Dunne, D. L. Malone, J. K. Tracy, L. M. Napolitano, Abdominal wall hernias: risk factors for infection and resource utilization. The Journal of surgical research 111, 78-84 (2003).\\n5. K. R. Finan, C. C. Vick, C. I. Kiefe, L. Neumayer, M. T. Hawn, Predictors of wound infection in ventral hernia repair. American journal of surgery 190, 676-681 (2005).\\n6. S. Petersen, G. Henke, M. Freitag, A. Faulhaber, K. Ludwig, Deep prosthesis infection in incisional hernia repair: predictive factors and clinical outcome. The European journal of surgery = Acta chirurgica 167, 453-457 (2001).\\n7. M. E. Griffith et al., Factors associated with recovery of Acinetobacter baumannii in a combat support hospital. Infect Control Hosp Epidemiol 29, 664-666 (2008).\\n8. C. Centers for Disease, Prevention, Acinetobacter baumannii infections among patients at military medical facilities treating injured U.S. service members, 2002-2004. MMWR Morb Mortal Wkly Rep 53, 1063-1066 (2004).\\n9. C. K. Murray et al., Infections complicating the care of combat casualties during operations Iraqi Freedom and Enduring Freedom. J Trauma 71, S62-73 (2011).\\n10. U. Klinge, Mesh for hernia repair. The British journal of surgery 95, 539-540 (2008).\\n11. M. E. Falagas, S. K. Kasiakou, Mesh-related infections after hernia repair surgery. Clinical microbiology and infection : the official publication of the European Society of Clinical Microbiology and Infectious Diseases 11, 3-8 (2005).\\n12. M. Sartelli et al., WSES guidelines for emergency repair of complicated abdominal wall hernias. World journal of emergency surgery : WJES 8, 50 (2013).\\n13. S. P. Hetz, Introduction to military medicine: a brief overview. The Surgical clinics of North America 86, 675-688 (2006).\\n14. T. Cymet, Medicine and the military. Introduction. Maryland medicine : MM : a publication of MEDCHI, the Maryland State Medical Society 13, 9-11 (2012).\\n15. E. F. Keen, 3rd et al., Evaluation of potential environmental contamination sources for the presence of multidrug-resistant bacteria linked to wound infections in combat casualties. Infect Control Hosp Epidemiol 33, 905-911 (2012).\\n16. C. K. Murray, Epidemiology of infections associated with combat-related injuries in Iraq and Afghanistan. J Trauma 64, S232-238 (2008).\\n17. R. J. Fitzgibbons, Jr. et al., Long-term results of a randomized controlled trial of a nonoperative strategy (watchful waiting) for men with minimally symptomatic inguinal hernias. Annals of surgery 258, 508-515 (2013).\\n18. Which of the following selection criteria predict positive results on computed tomography scans for patients with traumatic head injury? Focal neurologic deficit. Alcohol intoxication. Depressed sensorium. Can Fam Physician 40, 1540, 1543 (1994).\\n19. J. D. Horton et al., Elective inguinal hernia repair during Operation Iraqi Freedom. Military medicine 174, 299-301 (2009).\\n</td>\n",
       "    </tr>\n",
       "    <tr>\n",
       "      <th>9</th>\n",
       "      <td>1.  Kirley K, Qato DM, Kornfield R, Stafford RS, Alexander GC. National trends in oral anticoagulant use in the United States, 2007 to 2011. Circ Cardiovasc Qual Outcomes. 2012;5(5):615-621. doi:10.1161/CIRCOUTCOMES.112.967299.\\n\\n2.  Demeyere R, Gillardin S, Arnout J, Strengers PFW. Comparison of fresh frozen plasma and prothrombin complex concentrate for the reversal of oral anticoagulants in patients undergoing cardiopulmonary bypass surgery: A randomized study. Vox Sang. 2010;99(3):251-260. doi:10.1111/j.1423-0410.2010.01339.x.\\n\\n3.  Goldstein JN, Refaai MA, Milling TJ, et al. Four-factor prothrombin complex concentrate versus plasma for rapid vitamin K antagonist reversal in patients needing urgent surgical or invasive interventions: a phase 3b, open-label, non-inferiority, randomised trial. Lancet. 2015;385(9982):2077-2087. doi:10.1016/S0140-6736(14)61685-8.\\n\\n4.  Edavettal M, Rogers A, Rogers F, Horst M, Leng W. Prothrombin complex concentrate accelerates international normalized ratio reversal and diminishes the extension of intracranial hemorrhage in geriatric trauma patients. Am Surg. 2014;80(4):372-376. http://www.ncbi.nlm.nih.gov/pubmed/24887668.\\n\\n5.  Bershad EM, Suarez JI. Prothrombin complex concentrates for oral anticoagulant therapy-related intracranial hemorrhage: A review of the literature. Neurocrit Care. 2010;12:403-413. doi:10.1007/s12028-009-9310-0.\\n\\n6.  Switzer J a., Rocker J, Mohorn P, et al. Clinical experience with three-factor prothrombin complex concentrate to reverse warfarin anticoagulation in intracranial hemorrhage. Stroke. 2012;43:2500-2502. doi:10.1161/STROKEAHA.112.661454.\\n\\n7.  Barton CA, Johnson NB, Case J, et al. Risk of thromboembolic events after protocolized warfarin reversal with 3-factor PCC and factor VIIa. Am J Emerg Med. 2015;33(11):1562-1566. doi:10.1016/j.ajem.2015.06.010.\\n\\n8.  Kalus JS. Pharmacologic interventions for reversing the effects of oral anticoagulants. Am J Health Syst Pharm. 2013;70(10 Suppl 1):S12-S21. doi:10.2146/ajhp130041.\\n\\n9.  Desmettre T, Dubart AE, Capellier G, et al. Emergency reversal of anticoagulation: The real use of prothrombin complex concentrates: A prospective multicenter two year French study from 2006 to 2008. Thromb Res. 2012;130(3):e178-e183. doi:10.1016/j.thromres.2012.05.029.\\n\\n10.  Holland L, Warkentin TE, Refaai M, Crowther M a, Johnston M a, Sarode R. Suboptimal effect of a three-factor prothrombin complex concentrate (Profilnine-SD) in correcting supratherapeutic international normalized ratio due to warfarin overdose. Transfusion. 2009;49(6):1171-1177. doi:10.1111/j.1537-2995.2008.02080.x.\\n\\n11.  Tran H, Collecutt M, Whitehead S, Salem HH. Prothrombin complex concentrates used alone in urgent reversal of warfarin anticoagulation. Intern Med J. 2011;41(4):337-343. doi:10.1111/j.1445-5994.2010.02237.x.\\n\\n12.  Sarode R, Matevosyan K, Bhagat R, Rutherford C, Madden C, Beshay JE. Rapid warfarin reversal: a 3-factor prothrombin complex concentrate and recombinant factor VIIa cocktail for intracerebral hemorrhage. J Neurosurg. 2012;116(March):491-497. doi:10.3171/2011.11.JNS11836.\\n\\n13.  Ageno W, Gallus AS, Wittkowsky A, Crowther M, Hylek EM, Palareti G. Oral anticoagulant therapy - Antithrombotic therapy and prevention of thrombosis, 9th ed: American College of Chest Physicians evidence-based clinical practice guidelines. Chest. 2012;141(2 SUPPL.):e44S - e88S. doi:10.1378/chest.11-2292.\\n\\n14.  Masuda EM, Kistner RL, Musikasinthorn C, Liquido F, Geling O, He Q. The controversy of managing calf vein thrombosis. J Vasc Surg. 2012;55:550-561. doi:10.1016/j.jvs.2011.05.092.\\n\\n15.  Lee TH, Alonzo BJ, Differding J, et al. The effects of location and low-molecular-weight heparin administration on deep vein thrombosis outcomes in trauma patients. J Trauma Acute Care Surg. 2013;74(2):476-481. doi:10.1097/TA.0b013e31827c5f66.\\n\\n16.  Olson EJ, Zander AL, Van Gent J-M, et al. Below-knee deep vein thrombosis: an opportunity to prevent pulmonary embolism? J Trauma Acute Care Surg. 2014;77(3):459-463. doi:10.1097/TA.0000000000000305.\\n\\n17.  Ashrani AA, Heit JA. Incidence and cost burden of post-thrombotic syndrome. J Thromb Thrombolysis. 2009;28(4):465-476. doi:10.1007/s11239-009-0309-3.\\n\\n18.  Kearon C, Akl E a., Comerota AJ, et al. Antithrombotic therapy for VTE disease: Antithrombotic therapy and prevention of thrombosis, 9th ed: American College of Chest Physicians evidence-based clinical practice guidelines. Chest. 2012;141(2 SUPPL.):419-496. doi:10.1378/chest.11-2301.\\n</td>\n",
       "    </tr>\n",
       "  </tbody>\n",
       "</table>\n",
       "</div>"
      ],
      "text/plain": [
       "                                                                                                                                                                                                                                                                                                                                                                                                                                                                                                                                                                                                                                                                                                                                                                                                                                                                                                                                                                                                                                                                                                                                                                                                                                                                                                                                                                                                                                                                                                                                                                                                                                                                                                                                                                                                                                                                                                                                                                                                                                                                                                                                                                                                                                                                                                                                                                                                                                                                                                                                                                                                                                                                                                                                                                                                                                                                                                                                                                                                                                                                                                                                                                                                                                                                                                                                                                                                                                                                                                                                                                                                                                                                                                                                                                                                                                                                                                                                                                                                                                                                                                                                                                                                                                                                                                                                                                                                                                                                                                                                                                                                                                                                                                                                                                                                                                                                                                                                                                                                                                                                                                                                                                                                                                                                                                                                                                                                                                                                                                                                                                                                                                                                                                                                                                                                                                                                                                                                                                                                                                                                                                                                                                                                                                                                                                                                                                                                                                                                                                                                                                                                                                                                                                                                                                                                                                                                                                                                                                                                                                                                                                                                                                                                                                                                                                                                                                                                                                                                                                                                                                            concatenated_s0_references\n",
       "0  1. Wang YR, Richter JE, Dempsey DT. Trends and outcomes of hospitalizations for peptic ulcer disease in the United States, 1993 to 2006. Ann Surg, 2010; 251: 51–58. \\n2. Hernandez-Diaz S, Martin-Merino E, Garcia Rodriguez LA. Risk of complications after a peptic ulcer diagnosis: effectiveness of proton pump inhibitors. Dig Dis Sci, 2013; 58: 1653–1662.\\n3. Thorsen K, Soreide JA, Kvaloy JT, Glomsaker T, Soreide K. Epidemiology of perforated peptic ulcer: age- and gender-adjusted analysis of incidence and mortality. World J Gastroenterol, 2013; 19: 347–354.\\n4. Thorsen K, Glomsaker TB, Meer von A, Soreide K, Soreide JA. Trends in diagnosis and surgical management of patients with perforated peptic ulcer. J Gastrointest Surg, 2011; 15: 1329–1335.\\n5. Lohsiriwat V, Prapasrivorakul S, Lohsiriwat D. Perforated peptic ulcer: clinical presentation, surgical outcomes, and the accuracy of the Boey scoring system in predicting postoperative morbidity and mortality. World J Surg, 2009; 33: 80–85.\\n6. Soreide K, Thorsen K, Soreide JA. Strategies to improve the outcome of emergency surgery for perforated peptic ulcer. Br J Surg, 2014; 10: e51–64.\\n7. Kumar A, Muir MT, Cohn SM, Salhanick MA, Lankford DB, Katabathina VS. The etiology of pneumoperitoneum in the 21st century. J Trauma Acute Care Surg, 2012; 73: 542–548.\\n8. Hainaux B, Agneessens E, Bertinotti R, et al. Accuracy of MDCT in predicting site of gastrointestinal tract perforation. AJR Am J Roentgenol, 2006; 187: 1179–1183.\\n9. Imuta M, Awai K, Nakayama Y, et al. Multidetector CT findings suggesting a perforation site in the gastrointestinal tract: analysis in surgically confirmed 155 patients. Radiat Med, 2007; 25: 113–118.\\n10. Cadenas Rodriguez L, Marti de Gracia M, Saturio Galan N, Perez Duenas V, Salvatierra Arrieta L, Garzon Moll G. Use of multidetector computed tomography for locating the site of gastrointestinal tract perforations. Cir Esp, 2013; 91: 316–323.\\n11. Byrge N, Barton RG, Enniss TM, Nirula R. Laparoscopic versus open repair of perforated gastroduodenal ulcer: a National Surgical Quality Improvement Program analysis. Am J Surg, 2013; 206:957–962.\\n12. Bertleff MJOE, Lange JF. Laparoscopic correction of perforated peptic ulcer: first choice? A review of literature. Surg Endosc, 2010; 24: 1231–1239.\\n13. Guadagni S, Cengeli I, Galatioto C, et al. Laparoscopic repair of perforated peptic ulcer: single-center results. Surg Endosc, 2014; 28: 2302–2308.\\n14. Kim HC, Yang DM, Kim SW, Park SJ. Gastrointestinal tract perforation: evaluation of MDCT according to perforation site and elapsed time. Eur Radiol, 2014; 24: 1386–1393.\\n15. Buck DL, Vester-Andersen M, Moller MH. Surgical delay is a critical determinant of survival in perforated peptic ulcer. Br J Surg, 2013; 100: 1045–1049.\\n16. Sanabria A, Villegas MI, Morales Uribe CH. Laparoscopic repair for perforated peptic ulcer disease. Sanabria A, ed. Cochrane Database Syst Rev, 2013; 2:CD004778.\\n17. Jayanthi NVG. Laparoscopic repair of perforated peptic ulcer-technical tip. Surg Laparosc Endosc Percutan Tech, 2013; 23: e145–6.\\n18. Song K-Y, Kim T-H, Kim S-N, Park C-H. Laparoscopic repair of perforated duodenal ulcers: the simple “one-stitch” suture with omental patch technique. Surg Endosc, 2008; 22: 1632–1635.\\n19. Abd Ellatif ME, Salama AF, Elezaby AF, et al. Laparoscopic repair of perforated peptic ulcer: patch versus simple closure. Int J Surg, 2013; 11: 948–951.\\n20. Lo H-C, Wu S-C, Huang H-C, Yeh C-C, Huang J-C, Hsieh C-H. Laparoscopic simple closure alone is adequate for low risk patients with perforated peptic ulcer. World J Surg, 2011; 35: 1873–1878.\\n21. Furukawa A, Sakoda M, Yamasaki M, et al. Gastrointestinal tract perforation: CT diagnosis of presence, site, and cause. Abdom Imaging, 2005; 30: 524–534.\\n22. Ghekiere O, Lesnik A, Hoa D, Laffargue G, Uriot C, Taourel P. Value of computed tomography in the diagnosis of the cause of nontraumatic gastrointestinal tract perforation. J Comput Assist Tomogr, 2007; 31: 169–176.\\n23. Lam CM, Yuen AW, Chik B, Wai AC, Fan ST. Laparoscopic surgery for common surgical emergencies: a population-based study. Surg Endosc, 2005; 19: 774–779.\\n24. Sauerland S, Agresta F, Bergamaschi R, et al. Laparoscopy for abdominal emergencies: evidence-based guidelines of the European Association for Endoscopic Surgery. Surg Endosc, 2006; 20:14–29.\\n25. Kim SH, Shin SS, Jeong YY, Heo SH, Kim JW, Kang HK. Gastrointestinal tract perforation: MDCT findings according to the perforation sites. Korean J Radiol, 2009; 10: 63–70.\\n26. Udayasankar UK, Li J, Baumgarten DA, Small WC, Kalra MK. Acute abdominal pain: value of non-contrast enhanced ultra-low-dose multi-detector row CT as a substitute for abdominal radiographs. Emerg Radiol, 2009; 16: 61–70.\\n                                                                                                                                                                                                                                                                                                                                                                                                                                                                                                                                                                                                                                                                                                                                                                                                                                                                                                                                                                                                                                                                                                                                                                                                                                                                                                                                                                                                                                                                                                                                                                                                                                                                                                                                                                                                                                                                                                                                                                                                                                                                                                                                                                                                                                                                                                                                                                                                                                                                                                                                                                                                                                \n",
       "1  1. Chang GJ, Rodriguez-Bigas MA, Skibber JM, Moyer VA. Lymph node evaluation and survival after curative resection of colon cancer: systematic review. J Natl Cancer Inst. 2007 Mar 21;99(6):433-41. PubMed PMID: 17374833. Epub 2007/03/22. eng.\\n2. Edler D, Ohrling K, Hallstrom M, et al. The number of analyzed lymph nodes - a prognostic factor in colorectal cancer. Acta Oncol. 2007;46(7):975-81. PubMed PMID: 17917828. Epub 2007/10/06. eng.\\n3. Goldstein NS. Lymph node recoveries from 2427 pT3 colorectal resection specimens spanning 45 years: recommendations for a minimum number of recovered lymph nodes based on predictive probabilities. Am J Surg Pathol. 2002 Feb;26(2):179-89. PubMed PMID: 11812939.\\n4. Swanson RS, Compton CC, Stewart AK, Bland KI. The prognosis of T3N0 colon cancer is dependent on the number of lymph nodes examined. Ann Surg Oncol. 2003 Jan-Feb;10(1):65-71. PubMed PMID: 12513963.\\n5. Lykke J, Roikjaer O, Jess P, Danish Colorectal Cancer G. The relation between lymph node status and survival in Stage I-III colon cancer: results from a prospective nationwide cohort study. Colorectal Dis. 2013 May;15(5):559-65. PubMed PMID: 23061638.\\n6. Feinstein AR, Sosin DM, Wells CK. The Will Rogers phenomenon. Stage migration and new diagnostic techniques as a source of misleading statistics for survival in cancer. N Engl J Med. 1985 Jun 20;312(25):1604-8. PubMed PMID: 4000199. Epub 1985/06/20. eng.\\n7. Schemper M, Smith TL. A note on quantifying follow-up in studies of failure time. Controlled clinical trials. 1996 Aug;17(4):343-6. PubMed PMID: 8889347.\\n8. Resch A, Langner C. Lymph node staging in colorectal cancer: old controversies and recent advances. World J Gastroenterol. 2013 Dec 14;19(46):8515-26. PubMed PMID: 24379568. Pubmed Central PMCID: 3870496.\\n9. Märkl B, Kerwel TG, Jähnig HG, et al. Methylene Blue-Assisted Lymph Node Dissection in Colon Specimens: A Prospective, Randomized Study. Am J Clin Pathol. 2008 Dec 1;130(6):913-9. PubMed PMID: 19019768. Epub 2008/11/21. Eng.\\n10. Märkl B, Schaller T, Krammer I, et al. Methylene blue-assisted lymph node dissection technique is not associated with an increased detection of lymph node metastases in colorectal cancer. 2013 Apr 19;26(9):1246-54. PubMed PMID: 23599158. Epub 2013/04/20. Eng.\\n11. Märkl B, Rössle J, Arnholdt HM, et al. The clinical significance of lymph node size in colon cancer. Mod Pathol. 2012 Oct;25(10):1413-22. PubMed PMID: 22684222. Epub 2012/06/12. eng.\\n12. Simunovic M, Baxter NN. Lymph node counts in colon cancer surgery: lessons for users of quality indicators. JAMA. 2007 Nov 14;298(18):2194-5. PubMed PMID: 18000205. Epub 2007/11/15. eng.\\n13. Wong SL, Ji H, Hollenbeck BK, et al. Hospital lymph node examination rates and survival after resection for colon cancer. JAMA. 2007 Nov 14;298(18):2149-54. PubMed PMID: 18000198. Epub 2007/11/15. eng.\\n14. Sloothaak DA, Grewal S, Doornewaard H, et al. Lymph node size as a predictor of lymphatic staging in colonic cancer. Br J Surg. 2014 May;101(6):701-6. PubMed PMID: 24676735.\\n15. George S, Primrose J, Talbot R, et al. Will Rogers revisited: prospective observational study of survival of 3592 patients with colorectal cancer according to number of nodes examined by pathologists. Br J Cancer. 2006 Oct 9;95(7):841-7. PubMed PMID: 16969342.\\n16. O'Shea A, Aly O, Parnaby CN, et al. Increased lymph node yield in colorectal cancer is not necessarily associated with a greater number of lymph node positive cancers. PLoS One. 2014;9(8):e104991. PubMed PMID: 25118594. Pubmed Central PMCID: 4132075.\\n17. Parsons HM, Tuttle TM, Kuntz KM, et al. Association between lymph node evaluation for colon cancer and node positivity over the past 20 years. JAMA. 2011 Sep 14;306(10):1089-97. PubMed PMID: 21917579. Epub 2011/09/16. eng.\\n18. Porter GA, Urquhart R, Bu J, et al. Improving nodal harvest in colorectal cancer: so what? Ann Surg Oncol. 2012 Apr;19(4):1066-73. PubMed PMID: 21969083. Epub 2011/10/05. eng.\\n19. Storli K, Sondenaa K, Furnes B, et al. Improved lymph node harvest from resected colon cancer specimens did not cause upstaging from TNM stage II to III. World journal of surgery. 2011 Dec;35(12):2796-803. PubMed PMID: 21879420. Epub 2011/09/01. eng.\\n20. Moore J, Hyman N, Callas P, Littenberg B. Staging error does not explain the relationship between the number of lymph nodes in a colon cancer specimen and survival. Surgery. 2010 Mar;147(3):358-65. PubMed PMID: 19962166.\\n21. van Erning FN, Crolla RM, Rutten HJ, et al. No change in lymph node positivity rate despite increased lymph node yield and improved survival in colon cancer. Eur J Cancer. 2014 Nov 1;50(18):3221-9. PubMed PMID: 25459398.\\n22. Sjo OH, Merok MA, Svindland A, Nesbakken A. Prognostic impact of lymph node harvest and lymph node ratio in patients with colon cancer. Dis Colon Rectum. 2012 Mar;55(3):307-15. PubMed PMID: 22469798.\\n23. Bläker H, Hildebrandt B, Riess H, et al. Lymph node count and prognosis in colorectal cancer: The influence of examination quality. Int J Cancer. 2014 Sep 18. PubMed PMID: 25231924.\\n24. Chen L, Kalady MF, Goldblum J, et al. Does reevaluation of colorectal cancers with inadequate nodal yield lead to stage migration or the identification of metastatic lymph nodes? Dis Colon Rectum. 2014 Apr;57(4):432-7. PubMed PMID: 24608298.\\n25. Pihl E, Nairn RC, Milne BJ, et al. Lymphoid hyperplasia: a major prognostic feature in 519 cases of colorectal carcinoma. The American journal of pathology. 1980 Aug;100(2):469-80. PubMed PMID: 7406021. Pubmed Central PMCID: 1903530. Epub 1980/08/01. eng.\\n26. Figueredo A, Coombes ME, Mukherjee S. Adjuvant therapy for completely resected stage II colon cancer. Cochrane Database Syst Rev. 2008 (3):CD005390. PubMed PMID: 18646127. Epub 2008/07/23. eng.\\n27. Lin HH, Chang YY, Lin JK, et al. The role of adjuvant chemotherapy in stage II colorectal cancer patients. Int J Colorectal Dis. 2014 Oct;29(10):1237-43. PubMed PMID: 25024041.\\n28. Gill S, Loprinzi CL, Sargent DJ, et al. Pooled analysis of fluorouracil-based adjuvant therapy for stage II and III colon cancer: who benefits and by how much? J Clin Oncol. 2004 May 15;22(10):1797-806. PubMed PMID: 15067028.\\n29. Johnston PG. Stage II colorectal cancer: to treat or not to treat. Oncologist. 2005 May;10(5):332-4. PubMed PMID: 15851791. Epub 2005/04/27. eng.\\n30. Schneider NI, Langner C. Prognostic stratification of colorectal cancer patients: current perspectives. Cancer management and research. 2014;6:291.\\n31. Zlobec I, Lugli A. Prognostic and predictive factors in colorectal cancer. J Clin Pathol. 2008 May;61(5):561-9. PubMed PMID: 18326017. Epub 2008/03/08. eng.\\n32. C. Pox SA, S. C. Bischoff, U. Graeven, M. Hass, P. Heußner, W. Hohenberger, A., Holstege JH, F. Kolligs, M. Kreis, P. Lux, J. Ockenga, R. Porschen, S. Post, N., Rahner AR-S, J.F. Riemann, R. Sauer, A. Sieg, W. Scheppach, W. Schmitt,, H.-J. Schmoll KS, A. Tannapfel, W. Schmiegel. S3-Leitlinie Kolorektales Karzinom, Langversion 1.0. 2013; Available from: http://leitlinienprogrammonkologie.\\nde/Leitlinien.7.0.html.\\n33. van de Velde CJ, Boelens PG, Borras JM, et al. EURECCA colorectal: multidisciplinary management: European consensus conference colon & rectum. Eur J Cancer. 2014 Jan;50(1):1 e- e34. PubMed PMID: 24183379.\\n\n",
       "2  1.               Haider AH, Scott VK, Rehman KA, Velopulos CG, Bentley JM, EE Cornwell EE 3rd, Al-Refaie W. Racial disparities in surgical care and outcomes in the United States: A comprehensive review of patient, provider, and systemic factors. J Am Coll Surg. 2013;216(3):482-92.e12.\\n2.               Hicks CW, Hashmi ZG, Velopulos C, Efron DT, Schneider EB, Haut ER, et al. Association between race and age in survival after trauma. JAMA Surg. 2014;149(7):642-7.\\n3.               Hernandez RA, Hevelone ND, Lopez L, Finlayson SR, Chittenden E, Cooper Z. Racial variation in the use of life-sustaining treatments who die after major elective surgery. Am J Surg. 2014 [Epub ahead of print].  \\n4.               Sukumar S, Ravi P, Sood A, Gervais MK, Hu JC, Kim SP, et al. Racial disparities in operative outcomes after major cancer surgery in the United States. World J Surg. 2014 [Epub ahead of print].\\n5.               Haider AH, Weygandt PL, Bentley JM, Monn MF, Rehman KA, Zarzaur BL, et al. Disparities in trauma care and outcomes in the Untied States: A systematic review and meta-analysis. J Trauma Acute Care Surg. 2013;74(5):1195-205.\\n6.              Artinyan A, Mailey B, Sanchez-Luege N, et al. Race, ethnicity, and socioeconomic status influence the survival of patients with hepatocellular carcinoma in the United States. Cancer. 2010;116(5):1367-77.\\n7.               Nguyen LL, Hevelone N, Rogers SO, et al. Disparity in outcomes of surgical revascularization for limb salvage: Race and gender are synergistic determinants of vein graft failure and limb loss. Circulation. 2009;119(1):123-30.\\n8.               American College of Surgeons. Statement on Optimal Access. 1 April 2013. Available from: http://bulletin.facs.org/2013/04/statement-on-optimal-acces. Accessed 06 January 2015.\\n9.               Association of American Medical Colleges. Addressing Racial Disparities in Health Care: A Targeted Action Plan for Academic Medical Centers. 1 April 2013. Available from: https://www.mededportal.org/icollaborative/resource/655. Accessed 06 January 2015.\\n10.         Lurie N, Fremont A, Jain AK, Taylor SL, McLaughlin R, Peterson E, et al. Racial and ethnic disparities in care: The perspectives of cardiologists. Circulation. 2005;111(10):1264-9.\\n11.         Taylor SL, Fremont A, Jain AK, McLaughlin R, Peterson E, Ferguson TB Jr., Lurie N. Racial and ethnic disparities in care: The perspectives of cardiovascular surgeons. Ann Thorac Surg. 2006;81(2):531-6.\\n12.         Kaiser Family Foundation. Race, Ethnicity, & Medical Care: A Survey of Public Perceptions and Experiences. Menlo Park, CA: Kaiser Family Foundation; 1999.\\n13.         Qualitrics, LLC. Qualitrics. 2014. Available from: http://www.qualtrics.com/. Accessed 06 January 2015.\\n14.         Britton BV, Nagarajan N, Zogg CK, et al. Providers as a factor: To what extent do surgeons acknowledge that racial/ethnic disparities exist? JAMA Surg. 2015 [Submitted].\\n15.         Skolasky RL, Thrope RJ Jr., Wegner ST, Railey LH 3rd. Complications and mortality in cervical spine surgery: Racial differences. Spine. 2014;39(18):1506-12.\\n16.         Mendez ME, Ring D. Minorities are less likely to receive autologous blood transfusion for major elective orthopaedic surgery. Clin Orthop Relat Res. 2014;472(11):3559-66.\\n17.         Selvarajah S, Black JH 3rd, Haider AH, Abularrage CJ. Racial disparity in early graft failure after infrainguinal bypass. J Surg Res. 2014;190(1):335-43.\\n18.          Benz JK, Espinosa O, Welsh V, Fontes A. Awareness of racial and ethnic health disparities has improved only modestly over a decade. Health Aff. 2011;30(10):1860-7.\\n19.         Brooske BC, Robert SA, Rohan AM. Awareness of racial and socioeconomic health disparities in the United States: The national opinion survey on health and health disparities, 2008-2009. Prev Chronic Dis. 2011;8(4):A73.\\n20.         Greysen SR, Siegel B, Sears V, Solomon A, Jones K, Bradley EH. Residents’ awareness of racial and ethnic disparities in cardiovascular care. J Grad Med Educ. 2011;3(3):417-20.\\n21.         Okoro ON, Odedina FT, Reams RR, Smith WT. Clinical cultural competency and knowledge of health disparities among pharmacy students. Am J Pharm Educ. 2012;76(3):40.\\n22.         Mallinger JB, Lamberti JS. Psychiatrists’ attitudes toward and awareness about racial disparities in mental health care. Psychiatr Serv. 2010;61(2):173-9.\\n23.         Jarris YS, Bartleman A, Hall EC, Lopez L. A preclinical medical student curriculum to introduce health disparities and cultivate culturally responsive care. J Natl Med Assoc. 2012;104(9-10):404-11.\\n24.         Awosogba T, Betancourt JR, Conyers FG, Estape ES, Fancois F, Gard SJ, et al. Prioritizing health disparities in medical education to improve care. Ann N Y Acad Sci. 2013;1287:17-30.\\n25.         Maldonado ME, Fried ED, DuBose TD, Nelson C, Breida M. The role that graduate medical education must play in ensuring health equity and eliminating health care disparities. Ann Am Thorac Soc. 2014;11(4):603-7.\\n26.         Cunningham CT, Quan H, Hemmelgarn B, et al. Exploring physician specialist response rates to web-based surveys. BMC Med Res Methodol. 2015;15(1):32.\\n27.         Martins Y, Lederman RI, Lowenstein CL, et al. Increasing response rates from physicians in oncology research: A structures literature review and data from a recent physician survey. Br J Cancer.  2012;106(6):1021-6.\\n28.         Kellerman SE, Herold J. Physician response to surveys. A review of the literature. Am J Prev Med. 2001;20(1):61-7.\\n29.          Larson EB. How can clinicians incorporate research advances into practice? J Gen Intern Med. 1997;12(Suppl 2):S20-4.\\n30.         Obertop H. How surgeons make decisions: Authority and evidence. Ann Surg. 2005;242(6):753-6.\\n31.          Jonas WB. Scientific evidence and medical practice: The “Drunkard’s Walk”. Arch Intern Med. 2009;169(7):649-50. \\n32.         Hisam B, Zogg CK, Chaudhary MA, et al. From understanding to action: Review of interventions for surgical disparities. J Surg Res. 2015 [Submitted]. \\n                                                                                                                                                                                                                                                                                                                                                                                                                                                                                                                                                                                                                                                                                                                                                                                                                                                                                                                                                                                                                                                                                                                                                                                                                                                   \n",
       "3  1. Shafi S, Aboutanos MB, Agarwal S, et al. Emergency general surgery: Definition and estimated burden of disease. J Trauma Acute Care Surg, 2013 Apr;74(4):1092-7\\n2.        Havens JM, Peetz AB, Do WS, et al. The excess morbidity and mortality of emergency general surgery. J Trauma Acute Care Surg, 2015 Feb;78(2):306-11 \\n3. Zafar SN, Shah AA, Hashmi SG, et al. Outcomes after emergency general surgery at teaching versus nonteaching hospitals. J Trauma Acute Care Surg, 2015 Jan;78(1):69-76; discussion 76-7\\n4. Ingraham AM, Cohen ME, Raval MV, et al. Comparison of hospital performance in emergency versus elective general surgery operations at 198 hospitals. J Am Coll Surg, 2011;212(1):20-28 e1.\\n5. Primatesta P, Goldacre MJ. Inguinal Hernia Repair: Incidence of Elective and Emergency Surgery, Readmission and Mortality. Int J Epidemiol, 1996 Aug;25(4):835-9.\\n6. Yoo PS, Mulkeen AL, Frattini JC, et al. Assessing risk factors for adverse outcomes in emergent colorectal surgery. Surg Oncol, 2006 Aug;15(2):85-9.\\n7. Muthuvel G, Tevis SE, Liepert AE, et al. A composite index for predicting readmission following emergency general surgery. J Trauma Acute Care Surg, 2014 Jun;76(6):1467-72.\\n8. Regenbogen SE, Lancaster RT, Lipsitz SR, et al. Does the Surgical Apgar Score measure intraoperative performance? Ann Surg, 2008 Aug;248(2):320-8\\n9. Kaafarani HM, Mavros MN, Hwabejire J, et al. Derivation and validation of a novel severity classification for intraoperative adverse events. J Am Coll Surg, 2014;218(6):1120-8.\\n10. Ramly EP, Larentzakis A, Bohnen JD, et al. The Financial Impact of Intraoperative Adverse Events in Abdominal Surgery. Surgery, In press 2015.\\n11. Khuri SF, Henderson WG, Daley J, et al. The patient safety in surgery study: Background, study design, and patient populations. J Am Coll Surg, 2007 Jun;204(6):1089-102.\\n12. Hall BL, Hamilton BH, Richards K, et al. Does surgical quality improve in the American College of Surgeons National Surgical Quality Improvement Program: an evaluation of all participating hospitals. Ann Surg, 2009 Sep;250(3):363-76.\\n13. Brennan TA, Leape LL, Laird NM, et al. Incidence of adverse events and negligence in hospitalized patients. Results of the Harvard Medical Practice Study I. N Engl J Med, 1991;324(6):370-6.\\n14. Mavros MN, Velmahos GC, Larentzakis A, et al. Opening Pandora's box: understanding the nature, patterns, and 30-day outcomes of intraoperative adverse events. Am J Surg, 2014;208(4):626-31.\\n15. Davenport DL, Henderson WG, Khuri SF, et al. Preoperative risk factors and surgical complexity are more predictive of costs than postoperative complications: a case study using the National Surgical Quality Improvement Program (NSQIP) database. Ann Surg, 2005;242(4):463-8; discussion 468-71.\\n16. Henderson WG, Daley J. Design and statistical methodology of the National Surgical Quality Improvement Program: why is it what it is? Am J Surg, 2009;198(5 Suppl):S19-27.\\n17. Johnson RG, Arozullah AM, Neumayer L, et al. Multivariable predictors of postoperative respiratory failure after general and vascular surgery: results from the patient safety in surgery study. J Am Coll Surg, 2007;204(6):1188-98.\\n18. Neumayer L, Hosokawa P, Itani K, et al. Multivariable predictors of postoperative surgical site infection after general and vascular surgery: results from the patient safety in surgery study. J Am Coll Surg, 2007;204(6):1178-87.\\n19. Virani S, Michaelson JS, Hutter MM, et al. Morbidity and mortality after liver resection: results of the patient safety in surgery study. J Am Coll Surg, 2007;204(6):1284-92.\\n20. Health Systems and Financing Glossary. The World Bank Website. http://go.worldbank.org/PDUJLG0B80. Updated 2011. Accessed December 16, 2014\\n21. Taheri PA, Butz D, Griffes LC, et al. Physician Impact on the Total Cost of Care. Annals of Surgery, 2000;231(3):432-435\\n22. Ng HJ, Yule M, Twoon M, et al. Current outcomes of emergency large bowel surgery. Ann R Coll Surg Engl, 2015; 97: 151–156\\n23. Holubar SD, Wang JK, Wolff BG, et al. Splenic salvage after intraoperative splenic injury during colectomy. Arch Surg, 2009 Nov;144(11):1040-5.\\n24. Zhang LP1, Chang R, Matthews BD, et al. Incidence, mechanisms, and outcomes of esophageal and gastric perforation during laparoscopic foregut surgery: a retrospective review of 1,223 foregut cases. Surg Endosc, 2014 Jan;28(1):85-90.\\n25. Chandler JG, Corson SL, Way LW. Three spectra of laparoscopic entry access injuries.Chandler JG1, Corson SL, Way LW. J Am Coll Surg, 2001 Apr;192(4):478-90; discussion 490-1.\\n26. Binenbaum SJ, Goldfarb MA. Inadvertent enterotomy in minimally invasive abdominal surgery. JSLS, 2006 Jul-Sep;10(3):336-40.\\n27.         ten Broek RP, Strik C, Issa Y, et al. Adhesiolysis-related morbidity in abdominal surgery. Ann Surg, 2013;258(1):98-106.\\n28. Van Der Krabben AA, Dijkstra FR, Nieuwenhuijzen M, et al. Morbidity and mortality of inadvertent enterotomy during adhesiotomy. Br J Surg, 2000;87(4):467-71.\\n29. Mavros MN, Velmahos GC, Lee J, et al. Morbidity related to concomitant adhesions in abdominal surgery. J Surg Res, 2014;192(2):286-92.\\n30. Mavros MN, Bohnen JD, Ramly EP, et al. Intraoperative Adverse Events: Risk Adjustment for Procedure Complexity and Presence of Adhesions Is Crucial. J Am Coll Surg, In press 2015.\\n31. Dea N, Versteeg A, Fisher C, et al. Adverse events in emergency oncological spine surgery: a prospective analysis. J Neurosurg Spine, 2014 Nov;21(5):698-703.\\n32. Kasotakis G, Lakha A, Sarkar B, et al. Trainee participation is associated with adverse outcomes in emergency general surgery: an analysis of the National Surgical Quality Improvement Program database. Ann Surg, 2014 Sep;260(3):483-90; discussion 490-3\\n33. Sharma A, Khullar R, Soni V, et al. Iatrogenic enterotomy in laparoscopic ventral/incisional hernia repair: a single center experience of 2,346 patients over 17 years. Hernia, 2013 Oct;17(5):581-7.\\n34. Platz J, Hyman N. Tracking intraoperative complications. J Am Coll Surg, 2012 Oct;215(4):519-23.\\n35. Nelson R, Edwards S, Tse B. Prophylactic nasogastric decompression after abdominal surgery. Cochrane Database Syst Rev, 2007 Jul;18(3)\\n36. Current Evidence and Emerging Methods Regarding Validation of the AHRQ QIs: AHRQ's 2012 Annual Conference Slide Presentation. December 2012. Agency for Healthcare Research and Quality, Rockville, MD. http://www.ahrq.gov/news/events/conference/2012/track_a/52_pancholi_et-al/romano.html. Updated 2012. Accessed December 16, 2014\\n                                                                                                                                                                                                                                                                                                                                                                                                                                                                                                                                                                                                                                                                                                                                                                                                           \n",
       "4  1. Hicks CM, Kiss A, Bandiera GW, Denny CJ. Crisis Resources for Emergency Workers (CREW II): results of a pilot study and simulation-based crisis resource management course for emergency medicine residents. CJEM. 2012 Nov;14(6):354–62. \\n2. Kim J, Neilipovitz D, Cardinal P, Chiu M, Clinch J. A pilot study using high-fidelity simulation to formally evaluate performance in the resuscitation of critically ill patients: The University of Ottawa Critical Care Medicine, High-Fidelity Simulation, and Crisis Resource Management I Study. Crit Care Med. 2006 Aug;34(8):2167–74. \\n3. Haller G, Garnerin P, Morales M-A, Pfister R, Berner M, Irion O, et al. Effect of crew resource management training in a multidisciplinary obstetrical setting. Int J Qual Health Care. 2008 Aug;20(4):254–63. \\n4. Gaba DM. Crisis resource management and teamwork training in anaesthesia. British journal of anaesthesia. 2010 Jun 15;105(1):3–6. \\n5. Gaba DM, DeAnda A. A comprehensive anesthesia simulation environment: re-creating the operating room for research and training. Anesthesiology. 1988 Sep;69(3):387–94. \\n6. Gaba DM. Improving anesthesiologists' performance by simulating reality. Anesthesiology. 1992 Apr;76(4):491–4. \\n7. Ziesmann MT, Widder S, Park J, Kortbeek JB, Brindley P, Hameed M, et al. S.T.A.R.T.T.: development of a national, multidisciplinary trauma crisis resource management curriculum-results from the pilot course. J Trauma Acute Care Surg. 2013 Nov;75(5):753–8. \\n8. Brindley PG, Paton-Gay JD, Gillman LM. Designing Multidisciplinary Simulations. In: Gillman LM, Widder S, Blaivas M, Karakitsos D, editors. Trauma Team Dynamics. Springer. \\n9. BRINDLEY P, HUDSON D, LORD J. The blindfolded learner—A simple intervention to improve crisis resource management skills☆. Journal of Critical Care. 2008 Jun;23(2):253–4. \\n10. Doumouras AG, Keshet I, Nathens AB, Ahmed N, Hicks CM. Trauma Non-Technical Training (TNT-2): the development, piloting and multilevel assessment of a simulation-based, interprofessional curriculum for team-based trauma resuscitation. Can J Surg. 2014 Oct;57(5):354–5. \\n11. Yee B, Naik VN, Joo HS, Savoldelli GL, Chung DY, Houston PL, et al. Nontechnical skills in anesthesia crisis management with repeated exposure to simulation-based education. Anesthesiology. 2005 Aug;103(2):241–8. \\n                                                                                                                                                                                                                                                                                                                                                                                                                                                                                                                                                                                                                                                                                                                                                                                                                                                                                                                                                                                                                                                                                                                                                                                                                                                                                                                                                                                                                                                                                                                                                                                                                                                                                                                                                                                                                                                                                                                                                                                                                                                                                                                                                                                                                                                                                                                                                                                                                                                                                                                                                                                                                                                                                                                                                                                                                                                                                                                                                                                                                                                                                                                                                                                                                                                                                                                                                                                                                                                                                                                                                                                                                                                                                                                                                                                                                                                                                                                                                                                                                                                                                                                                                                                                                                                                                                                                                                                                                                                                                                                                                                                                                                                                                                                                                                                                                                                                                                                                                                                                                                                                                                                                                                                   \n",
       "5  1. Menaker J, Stein DM, Scalea TM. Pulmonary Embolism After Injury: More Common Than We Think? J Trauma 2009;67:1244-1249.\\n2. Tuttle-Newhall JE, Rutledge R, Hultman CS, Fakhry SM. Statewide, Population-Based, Time-Series Analysis of the Frequency and Outcome of Pulmonary Embolus in 318,554 Trauma Patients. J Trauma 1997;42(1):90-99.\\n3. Brakenridge SC, Henley SS, Kashner TM, et al. Comparing clinical predictors of deep venous thrombosis versus pulmonary embolus after severe injury: A new paradigm for posttraumatic venous thromboembolism? J Trauma Acute Care Surg 2013;74:1231-1238. \\n4. Safriel Y and Zinn H. CT pulmonary angiography in the detection of pulmonary emboli. A meta-analysis of sensitivities and specificities. J Clin Imag 2002;26:101-105. \\n5. Kang DK, Thilo C, Schoepf J, et al. CT Signs of Right Ventricular Dysfunction: Prognostic Role in Acute Pulmonary Embolism. JACC: Cardiol Imag 2011;4(8):841-849.\\n6. Wake N, Kumamaru KK, George E, et al. Computed Tomography and Echocardiography in Patients with Acute Pulmonary Embolism: Part 1: Correlation of Findings of Right Ventricular Enlargement. J Thorac Imaging. 2014 Jan;29(1):W1-6.\\n7. Lim KE, Chan CY, Chu PH, et al. Right ventricular dysfunction secondary to acute massive pulmonary embolism detected by helical computed tomography pulmonary angiography. Clin Imaging 2005;29:16-21. \\n8. Ocak I and Fuhrman C. CT Angiography Findings of the Left Atrium and Right Ventricle in Patients with Massive Pulmonary Embolism. AJR 2008;191:1072-1076. \\n9. Kang DK, Sun JS, Park KJ, Lim HS. Usefulness of Combined Assessment With Computed Tomographic Signs of Right Ventricular Dysfunction and Cardiac Troponin T for Risk Stratification of Acute Pulmonary Embolism. Am J Cardiol 2011;108:133-140.\\n10.                      George E, Kumamaru KK, Ghosh N, et al. Computed Tomography and Echocardiography in Patients with Acute Pulmonary Embolism: Part 2: Prognostic Value. J Thorac Imaging. 2014 Jan;29(1):W7-12.\\n11.                      Jeebun V, Doe SJ, Singh L, et al. Are clinical parameters and biomarkers predictive of severity of acute pulmonary emboli on CTPA? Q J Med 2010;103:91-97.\\n12.                      Aviram G, Rogowski O, Gotler Y, et al. Real-time risk stratification of patients with acute pulmonary embolism by grading the reflux of contrast medium into the inferior vena cava on computerized tomographic pulmonary angiography. J Thromb Haemost 2008;6:1488-1493.\\n13.                      Coleman JJ, Zarzaur BL, Katona CW, et al. Factors Associated with Pulmonary Embolism Within 72 Hours of Admission after Trauma: A Multicenter Study. J Am Coll Surg 2015;220:731-736.\\n14.                      Sing RF, Camp SM, Heniford BT, et al. Timing of pulmonary emboli after trauma: implications for retrievable vena cava filters. J Trauma 2006;60:732-735.\\n15.                      Knudson MM, Ikossi DG, Khaw L, et al. Three thousand seven hundred thirty-eight posttraumatic pulmonary emboli: a new look at an old disease. Ann Surg 2011;254(4):625-32.\\n16.                      Benns M, Reilly P, Kim P. Early pulmonary embolism after injury: A different clinical entity? Injury 2014;45:241-244.\\n                                                                                                                                                                                                                                                                                                                                                                                                                                                                                                                                                                                                                                                                                                                                                                                                                                                                                                                                                                                                                                                                                                                                                                                                                                                                                                                                                                                                                                                                                                                                                                                                                                                                                                                                                                                                                                                                                                                                                                                                                                                                                                                                                                                                                                                                                                                                                                                                                                                                                                                                                                                                                                                                                                                                                                                                                                                                                                                                                                                                                                                                                                                                                                                                                                                                                                                                                                                                                                                                                                                                                                                                                                                                                                                                                                                                                                                                                                                                                                                                                                                                                                                                                                                                                                                                                     \n",
       "6  1. Wu LL, Yang YS, Dou Y, Liu QS. A systematic analysis of pneumatosis cystoids intestinalis. World journal of gastroenterology : WJG. 2013 Aug 14;19(30):4973-8. PubMed PMID: 23946603. Pubmed Central PMCID: 3740428.\\n2. Hawn MT, Canon CL, Lockhart ME, et al. Serum lactic acid determines the outcomes of CT diagnosis of pneumatosis of the gastrointestinal tract. The American surgeon. 2004 Jan;70(1):19-23; discussion -4. PubMed PMID: 14964540.\\n3. Duron VP, Rutigliano S, Machan JT, et al. Computed tomographic diagnosis of pneumatosis intestinalis: clinical measures predictive of the need for surgical intervention. Archives of surgery. 2011 May;146(5):506-10. PubMed PMID: 21576602.\\n4. Greenstein AJ, Nguyen SQ, Berlin A, et al. Pneumatosis intestinalis in adults: management, surgical indications, and risk factors for mortality. Journal of gastrointestinal surgery : official journal of the Society for Surgery of the Alimentary Tract. 2007 Oct;11(10):1268-74. PubMed PMID: 17687617.\\n5. DuBose JJ, Lissauer M, Maung AA, et al. Pneumatosis Intestinalis Predictive Evaluation Study (PIPES): a multicenter epidemiologic study of the Eastern Association for the Surgery of Trauma. The journal of trauma and acute care surgery. 2013 Jul;75(1):15-23. PubMed PMID: 23778433.\\n6. Harrell FE, Jr. Regression modeling strategies with application to linear models, logistic regression, and survival analysis. New York: Spring-Verlag; 2002.\\n7. Hanley JA, McNeil BJ. The meaning and use of the area under a receiver operating characteristic (ROC) curve. Radiology. 1982;143(1):29-36. PubMed PMID: 7063747.\\n8. Harrell FE, Jr., Califf RM, Pryor DB, et al. Evaluating the yield of medical tests. JAMA. 1982;247(18):2543-6. PubMed PMID: 7069920.\\n9. Ash A, Shwartz M. R2: a useful measure of model performance when predicting a dichotomous outcome. Stat Med. 1999 Feb 28;18(4):375-84. PubMed PMID: 10070680.\\n10. Cox DR, Wermuth N. A comment on the coefficient of determination for binary responses. Am Stat. 1992;46:1-4.\\n11. Nagelkerke NJD. A note on a general definition of the coefficient of multiple determination. Biometrika. 1991;78:691-2.\\n12. Harrell F, Lee K, Mark D. Multivariable prognostic models: issues in developing models, evaluating assumptions and adequacy, and measuring and reducing errors. Statistics in Medicine. 1996;15(4):361-87.\\n13. Michael EM, Siu LH, William MT. Validation techniques for logistic regression models. Statistics in Medicine. 1991;10(8):1213-26.\\n14. Ewout WS, Marinus JCE, Frank EH, Jr., Habbema JDF. Prognostic modelling with logistic regression analysis: a comparison of selection and estimation methods in small data sets. Statistics in Medicine. 2000;19(8):1059-79.\\n15. Douglas GA, Patrick R. What do we mean by validating a prognostic model? Statistics in Medicine. 2000;19(4):453-73.\\n16. Harrell FE, Jr. Hmisc: A library of miscellaneous functions. Available at: http://cran.r-project.org/web/packages/Hmisc. 2012.\\n17. JG D. Anatomische Beobachtungen der Unter der Aussern und Innern Haut der Gedarme Eingeschlossenen Luft. Phys Med Abhandl Acad Wissenschin Petersb. 1783;2:182.\\n18. BLF B. Luftholdige Kyster I Vaggen af ileum og I Nydannot Bindevav pa Sammes Serosa. Nord med Ark. 1876;18(1).\\n19. Gazin AI, Brooke WS, et al. Pneumatosis intestinalis; roentgen diagnosis and surgical management. American journal of surgery. 1949 May;77(5):563-72. PubMed PMID: 18119024.\\n20. Leonidas JC, Hall RT. Neonatal pneumatosis coli: a mild form of neonatal necrotizing enterocolitis. The Journal of pediatrics. 1976 Sep;89(3):456-9. PubMed PMID: 956974.\\n21. Fui SL, Lupinacci RM, Tresallet C, et al. How to Avoid Nontherapeutic Laparotomy in Patients With Multiple Organ Failure of Unknown Origin. The Role of CT Scan Revisited. International surgery. 2015 Mar;100(3):466-72. PubMed PMID: 25785329. Pubmed Central PMCID: 4370537.\\n22. Wayne E, Ough M, Wu A, et al. Management algorithm for pneumatosis intestinalis and portal venous gas: treatment and outcome of 88 consecutive cases. Journal of gastrointestinal surgery : official journal of the Society for Surgery of the Alimentary Tract. 2010 Mar;14(3):437-48. PubMed PMID: 20077158.\\n23. Bani Hani M, Kamangar F, Goldberg S, et al. Pneumatosis and portal venous gas: do CT findings reassure? The Journal of surgical research. 2013 Dec;185(2):581-6. PubMed PMID: 23845870.\\n24. Pauw RG, van der Werf TS, van Dullemen HM, Dullaart RP. Mediastinal emphysema complicating diabetic ketoacidosis: plea for conservative diagnostic approach. The Netherlands journal of medicine. 2007 Nov;65(10):368-71. PubMed PMID: 18057458.\\n25. Tanabe S, Shirakawa Y, Takehara Y, et al. Successfully treated pneumatosis cystoides intestinalis with pneumoperitoneum onset in a patient administered alpha-glucosidase inhibitor. Acta medica Okayama. 2013;67(2):123-8. PubMed PMID: 23603930.\\n26. Tsujimoto T, Shioyama E, Moriya K, et al. Pneumatosis cystoides intestinalis following alpha-glucosidase inhibitor treatment: a case report and review of the literature. World journal of gastroenterology : WJG. 2008 Oct 21;14(39):6087-92. PubMed PMID: 18932291. Pubmed Central PMCID: 2760183.\\n                                                                                                                                                                                                                                                                                                                                                                                                                                                                                                                                                                                                                                                                                                                                                                                                                                                                                                                                                                                                                                                                                                                                                                                                                                                                                                                                                                                                                                                                                                                                                                                                                                                                                                                                                                                                                                                                                                                                                                                                                                                                                                                                                                                                                         \n",
       "7  1. Estimated Cancer Incidence, Mortality and Prevalence Worldwide in 2012 [press release].\\n2. Rex DK, Johnson DA, Lieberman DA, Burt RW, Sonnenberg A. Colorectal cancer prevention 2000: screening recommendations of the American College of Gastroenterology. American College of Gastroenterology. Am J Gastroenterology. 2000;95(4):868-77.\\n3. Piscatelli N, Hyman N, Osler T. Localizing colorectal cancer by colonoscopy. AArch Surg(Chicago, Ill : 1960). 2005;140(10):932-5.\\n4. Stanciu C, Trifan A, Khder SA. Accuracy of colonoscopy in localizing colonic cancer. Rev Med Chir Soc Med Nat lasi 2007;111(1):39-43.\\n5. Cho YB, Lee WY, Yun HR, Lee WS, Yun SH, Chun HK. Tumor localization for laparoscopic colorectal surgery. World J Surg. 2007;31(7):1491-5.\\n6. Borda F, Jimenez F, Borda A, Urman J. Endoscopic localization of colorectal cancer: study of its accuracy and possible error factors. Rev Esp Enferm Dig 2012;104(10):512-7.\\n7. Vaziri K, Choxi S, Orkin B; Accuracy of colonoscopic localization. Surg Endosc 2010;24(10) 2502-5 .\\n8.  Vignati P, Welch JP, Cohen JL. Endoscopic localization of colon cancers. Surg Endosc 1994;8(9): 1084-7.\\n9. Abraham NS, Young JM, Solomon MJ. Meta-analysis of short-term outcomes after laparoscopic resection for colorectal cancer. BJS. 2004;91(9):1111-24.\\n10. Kuhry E, Schwenk WF, Gaupset R, Romild U, Bonjer HJ. Long-term results of laparoscopic colorectal cancer resection. Cochrane Database Syst Rev 2008(2):Cd003432.\\n11. Yeung JM, Maxwell-Armstrong C, Acheson AG. Colonic tattooing in laparoscopic surgery - making the mark? Colorectal Dis 2009;11(5):527-30.\\n12. Keller D, Jaffe J, Philp MM, Haluszka O, Khanna A. Should all endoscopically excised rectal polyps be tattooed? A plea for localization. Surg Endosc 2012;26(11):3101-5.\\n13. Lee J, Voytovich A, Pennoyer W, Thurston K, Kozol RA. Accuracy of colon tumor localization: Computed tomography scanning as a complement to colonoscopy. World J Gastrointest Surg. 2010;2(1):22-5.\\n14. Park JW, Sohn DK, Hong CW, et al. The usefulness of preoperative colonoscopic tattooing using a saline test injection method with prepackaged sterile India ink for localization in laparoscopic colorectal surgery. Surg Endosc. 2008;22(2):501-5.\\n15. Party CCACSW. Clinical Practice Guideline for Surveillance Colonoscopy. Sydney: Cancer Council Australia; December 2011.\\n16. Rembacken B, Hassan C, Riemann JF, et al. Quality in screening colonoscopy: position statement of the European Society of Gastrointestinal Endoscopy (ESGE). Endoscopy. 2012;44(10):957-68.\\n17. Travers H, Shirazi T, S M. PMO-223 Tattooing of suspicious colonic lesions at colonoscopy: is adherence to local protocol better if identified through the Bowel Cancer Screening Programme? Gut. 2012;61:A165.\\n18. Nguyen MH, Mori K. Localization of a colonic lesion in the era of laparoscopic colectomy. ANZJS. 2011;81(9):584-6.\\n                                                                                                                                                                                                                                                                                                                                                                                                                                                                                                                                                                                                                                                                                                                                                                                                                                                                                                                                                                                                                                                                                                                                                                                                                                                                                                                                                                                                                                                                                                                                                                                                                                                                                                                                                                                                                                                                                                                                                                                                                                                                                                                                                                                                                                                                                                                                                                                                                                                                                                                                                                                                                                                                                                                                                                                                                                                                                                                                                                                                                                                                                                                                                                                                                                                                                                                                                                                                                                                                                                                                                                                                                                                                                                                                                                                                                                                                                                                                                                                                                                                                                                                                                                                                                                                                                                                                                                                                                                                                                                                                                                                                   \n",
       "8  1. C. R. Porta et al., The hidden war: humanitarian surgery in a combat zone. American journal of surgery 207, 766-772; discussion 772 (2014).\\n2. E. U. H. T. Collaboration, Mesh compared with non-mesh methods of open groin hernia repair: systematic review of randomized controlled trials. The British journal of surgery 87, 854-859 (2000).\\n3. A. M. Grant, E. U. H. T. Collaboration, Open mesh versus non-mesh repair of groin hernia: meta-analysis of randomised trials based on individual patient data [corrected]. Hernia : the journal of hernias and abdominal wall surgery 6, 130-136 (2002).\\n4. J. R. Dunne, D. L. Malone, J. K. Tracy, L. M. Napolitano, Abdominal wall hernias: risk factors for infection and resource utilization. The Journal of surgical research 111, 78-84 (2003).\\n5. K. R. Finan, C. C. Vick, C. I. Kiefe, L. Neumayer, M. T. Hawn, Predictors of wound infection in ventral hernia repair. American journal of surgery 190, 676-681 (2005).\\n6. S. Petersen, G. Henke, M. Freitag, A. Faulhaber, K. Ludwig, Deep prosthesis infection in incisional hernia repair: predictive factors and clinical outcome. The European journal of surgery = Acta chirurgica 167, 453-457 (2001).\\n7. M. E. Griffith et al., Factors associated with recovery of Acinetobacter baumannii in a combat support hospital. Infect Control Hosp Epidemiol 29, 664-666 (2008).\\n8. C. Centers for Disease, Prevention, Acinetobacter baumannii infections among patients at military medical facilities treating injured U.S. service members, 2002-2004. MMWR Morb Mortal Wkly Rep 53, 1063-1066 (2004).\\n9. C. K. Murray et al., Infections complicating the care of combat casualties during operations Iraqi Freedom and Enduring Freedom. J Trauma 71, S62-73 (2011).\\n10. U. Klinge, Mesh for hernia repair. The British journal of surgery 95, 539-540 (2008).\\n11. M. E. Falagas, S. K. Kasiakou, Mesh-related infections after hernia repair surgery. Clinical microbiology and infection : the official publication of the European Society of Clinical Microbiology and Infectious Diseases 11, 3-8 (2005).\\n12. M. Sartelli et al., WSES guidelines for emergency repair of complicated abdominal wall hernias. World journal of emergency surgery : WJES 8, 50 (2013).\\n13. S. P. Hetz, Introduction to military medicine: a brief overview. The Surgical clinics of North America 86, 675-688 (2006).\\n14. T. Cymet, Medicine and the military. Introduction. Maryland medicine : MM : a publication of MEDCHI, the Maryland State Medical Society 13, 9-11 (2012).\\n15. E. F. Keen, 3rd et al., Evaluation of potential environmental contamination sources for the presence of multidrug-resistant bacteria linked to wound infections in combat casualties. Infect Control Hosp Epidemiol 33, 905-911 (2012).\\n16. C. K. Murray, Epidemiology of infections associated with combat-related injuries in Iraq and Afghanistan. J Trauma 64, S232-238 (2008).\\n17. R. J. Fitzgibbons, Jr. et al., Long-term results of a randomized controlled trial of a nonoperative strategy (watchful waiting) for men with minimally symptomatic inguinal hernias. Annals of surgery 258, 508-515 (2013).\\n18. Which of the following selection criteria predict positive results on computed tomography scans for patients with traumatic head injury? Focal neurologic deficit. Alcohol intoxication. Depressed sensorium. Can Fam Physician 40, 1540, 1543 (1994).\\n19. J. D. Horton et al., Elective inguinal hernia repair during Operation Iraqi Freedom. Military medicine 174, 299-301 (2009).\\n                                                                                                                                                                                                                                                                                                                                                                                                                                                                                                                                                                                                                                                                                                                                                                                                                                                                                                                                                                                                                                                                                                                                                                                                                                                                                                                                                                                                                                                                                                                                                                                                                                                                                                                                                                                                                                                                                                                                                                                                                                                                                                                                                                                                                                                                                                                                                                                                                                                                                                                                                                                                                                                                                                                                                                                                                                                                                                                                                                                                                                                                                                                                                                                                                                                                                                                                                                                                                                                                                                                                                                                                                                                                                                                                                                                                                                                                                                                                                            \n",
       "9  1.  Kirley K, Qato DM, Kornfield R, Stafford RS, Alexander GC. National trends in oral anticoagulant use in the United States, 2007 to 2011. Circ Cardiovasc Qual Outcomes. 2012;5(5):615-621. doi:10.1161/CIRCOUTCOMES.112.967299.\\n\\n2.  Demeyere R, Gillardin S, Arnout J, Strengers PFW. Comparison of fresh frozen plasma and prothrombin complex concentrate for the reversal of oral anticoagulants in patients undergoing cardiopulmonary bypass surgery: A randomized study. Vox Sang. 2010;99(3):251-260. doi:10.1111/j.1423-0410.2010.01339.x.\\n\\n3.  Goldstein JN, Refaai MA, Milling TJ, et al. Four-factor prothrombin complex concentrate versus plasma for rapid vitamin K antagonist reversal in patients needing urgent surgical or invasive interventions: a phase 3b, open-label, non-inferiority, randomised trial. Lancet. 2015;385(9982):2077-2087. doi:10.1016/S0140-6736(14)61685-8.\\n\\n4.  Edavettal M, Rogers A, Rogers F, Horst M, Leng W. Prothrombin complex concentrate accelerates international normalized ratio reversal and diminishes the extension of intracranial hemorrhage in geriatric trauma patients. Am Surg. 2014;80(4):372-376. http://www.ncbi.nlm.nih.gov/pubmed/24887668.\\n\\n5.  Bershad EM, Suarez JI. Prothrombin complex concentrates for oral anticoagulant therapy-related intracranial hemorrhage: A review of the literature. Neurocrit Care. 2010;12:403-413. doi:10.1007/s12028-009-9310-0.\\n\\n6.  Switzer J a., Rocker J, Mohorn P, et al. Clinical experience with three-factor prothrombin complex concentrate to reverse warfarin anticoagulation in intracranial hemorrhage. Stroke. 2012;43:2500-2502. doi:10.1161/STROKEAHA.112.661454.\\n\\n7.  Barton CA, Johnson NB, Case J, et al. Risk of thromboembolic events after protocolized warfarin reversal with 3-factor PCC and factor VIIa. Am J Emerg Med. 2015;33(11):1562-1566. doi:10.1016/j.ajem.2015.06.010.\\n\\n8.  Kalus JS. Pharmacologic interventions for reversing the effects of oral anticoagulants. Am J Health Syst Pharm. 2013;70(10 Suppl 1):S12-S21. doi:10.2146/ajhp130041.\\n\\n9.  Desmettre T, Dubart AE, Capellier G, et al. Emergency reversal of anticoagulation: The real use of prothrombin complex concentrates: A prospective multicenter two year French study from 2006 to 2008. Thromb Res. 2012;130(3):e178-e183. doi:10.1016/j.thromres.2012.05.029.\\n\\n10.  Holland L, Warkentin TE, Refaai M, Crowther M a, Johnston M a, Sarode R. Suboptimal effect of a three-factor prothrombin complex concentrate (Profilnine-SD) in correcting supratherapeutic international normalized ratio due to warfarin overdose. Transfusion. 2009;49(6):1171-1177. doi:10.1111/j.1537-2995.2008.02080.x.\\n\\n11.  Tran H, Collecutt M, Whitehead S, Salem HH. Prothrombin complex concentrates used alone in urgent reversal of warfarin anticoagulation. Intern Med J. 2011;41(4):337-343. doi:10.1111/j.1445-5994.2010.02237.x.\\n\\n12.  Sarode R, Matevosyan K, Bhagat R, Rutherford C, Madden C, Beshay JE. Rapid warfarin reversal: a 3-factor prothrombin complex concentrate and recombinant factor VIIa cocktail for intracerebral hemorrhage. J Neurosurg. 2012;116(March):491-497. doi:10.3171/2011.11.JNS11836.\\n\\n13.  Ageno W, Gallus AS, Wittkowsky A, Crowther M, Hylek EM, Palareti G. Oral anticoagulant therapy - Antithrombotic therapy and prevention of thrombosis, 9th ed: American College of Chest Physicians evidence-based clinical practice guidelines. Chest. 2012;141(2 SUPPL.):e44S - e88S. doi:10.1378/chest.11-2292.\\n\\n14.  Masuda EM, Kistner RL, Musikasinthorn C, Liquido F, Geling O, He Q. The controversy of managing calf vein thrombosis. J Vasc Surg. 2012;55:550-561. doi:10.1016/j.jvs.2011.05.092.\\n\\n15.  Lee TH, Alonzo BJ, Differding J, et al. The effects of location and low-molecular-weight heparin administration on deep vein thrombosis outcomes in trauma patients. J Trauma Acute Care Surg. 2013;74(2):476-481. doi:10.1097/TA.0b013e31827c5f66.\\n\\n16.  Olson EJ, Zander AL, Van Gent J-M, et al. Below-knee deep vein thrombosis: an opportunity to prevent pulmonary embolism? J Trauma Acute Care Surg. 2014;77(3):459-463. doi:10.1097/TA.0000000000000305.\\n\\n17.  Ashrani AA, Heit JA. Incidence and cost burden of post-thrombotic syndrome. J Thromb Thrombolysis. 2009;28(4):465-476. doi:10.1007/s11239-009-0309-3.\\n\\n18.  Kearon C, Akl E a., Comerota AJ, et al. Antithrombotic therapy for VTE disease: Antithrombotic therapy and prevention of thrombosis, 9th ed: American College of Chest Physicians evidence-based clinical practice guidelines. Chest. 2012;141(2 SUPPL.):419-496. doi:10.1378/chest.11-2301.\\n                                                                                                                                                                                                                                                                                                                                                                                                                                                                                                                                                                                                                                                                                                                                                                                                                                                                                                                                                                                                                                                                                                                                                                                                                                                                                                                                                                                                                                                                                                                                                                                                                                                                                                                                                                                                                                                                                                                                                                                                                                                                                                                                                                                                                                                                                                                                                                                                                                                                                                                                                                                                                                                                                                                                                                                                                                                                   "
      ]
     },
     "execution_count": 6,
     "metadata": {},
     "output_type": "execute_result"
    }
   ],
   "source": [
    "eval_df[['concatenated_s0_references']].head(10)"
   ]
  },
  {
   "cell_type": "code",
   "execution_count": 7,
   "metadata": {},
   "outputs": [],
   "source": [
    "from spacy.tokenizer import Tokenizer\n",
    "from spacy.lang.en import English\n",
    "import spacy"
   ]
  },
  {
   "cell_type": "code",
   "execution_count": 8,
   "metadata": {},
   "outputs": [
    {
     "name": "stderr",
     "output_type": "stream",
     "text": [
      "/home/joshib/.cache/pypoetry/virtualenvs/dp-dpo-citation-bio-trainer-FaGiNfZ9-py3.7/lib/python3.7/site-packages/spacy/util.py:275: UserWarning: [W031] Model 'en_core_web_sm' (2.2.0) requires spaCy v2.2 and is incompatible with the current spaCy version (2.3.2). This may lead to unexpected results or runtime errors. To resolve this, download a newer compatible model or retrain your custom model with the current spaCy version. For more details and available updates, run: python -m spacy validate\n",
      "  warnings.warn(warn_msg)\n"
     ]
    }
   ],
   "source": []
  },
  {
   "cell_type": "code",
   "execution_count": 9,
   "metadata": {},
   "outputs": [],
   "source": [
    "my_doc = nlp(eval_df['concatenated_s0_references'].iloc[0])"
   ]
  },
  {
   "cell_type": "code",
   "execution_count": 10,
   "metadata": {},
   "outputs": [],
   "source": [
    "token_list = []\n",
    "for token in my_doc:\n",
    "    token_list.append(token.text)"
   ]
  },
  {
   "cell_type": "code",
   "execution_count": 19,
   "metadata": {},
   "outputs": [],
   "source": [
    "sent_ls = []\n",
    "sent_gen  = my_doc.sents"
   ]
  },
  {
   "cell_type": "code",
   "execution_count": 20,
   "metadata": {},
   "outputs": [],
   "source": [
    "for sent in sent_gen:\n",
    "    sent_ls.append(sent.text)"
   ]
  },
  {
   "cell_type": "code",
   "execution_count": 21,
   "metadata": {},
   "outputs": [
    {
     "data": {
      "text/plain": [
       "['1.',\n",
       " 'Wang YR, Richter JE, Dempsey DT.',\n",
       " 'Trends and outcomes of hospitalizations for peptic ulcer disease in the United States, 1993 to 2006.',\n",
       " 'Ann Surg, 2010; 251: 51–58. \\n2.',\n",
       " 'Hernandez-Diaz S, Martin-Merino E, Garcia Rodriguez LA.']"
      ]
     },
     "execution_count": 21,
     "metadata": {},
     "output_type": "execute_result"
    }
   ],
   "source": [
    "sent_ls[0:5]"
   ]
  },
  {
   "cell_type": "code",
   "execution_count": null,
   "metadata": {},
   "outputs": [],
   "source": []
  },
  {
   "cell_type": "code",
   "execution_count": null,
   "metadata": {},
   "outputs": [],
   "source": []
  },
  {
   "cell_type": "code",
   "execution_count": 2,
   "metadata": {},
   "outputs": [],
   "source": [
    "oref_df = pd.read_csv('/nlp/other_ref_citations_from_64k_data_set.csv')"
   ]
  },
  {
   "cell_type": "code",
   "execution_count": null,
   "metadata": {},
   "outputs": [],
   "source": []
  },
  {
   "cell_type": "code",
   "execution_count": null,
   "metadata": {},
   "outputs": [],
   "source": []
  },
  {
   "cell_type": "code",
   "execution_count": null,
   "metadata": {},
   "outputs": [],
   "source": []
  }
 ],
 "metadata": {
  "kernelspec": {
   "display_name": "Python 3",
   "language": "python",
   "name": "python3"
  },
  "language_info": {
   "codemirror_mode": {
    "name": "ipython",
    "version": 3
   },
   "file_extension": ".py",
   "mimetype": "text/x-python",
   "name": "python",
   "nbconvert_exporter": "python",
   "pygments_lexer": "ipython3",
   "version": "3.7.7"
  }
 },
 "nbformat": 4,
 "nbformat_minor": 4
}
