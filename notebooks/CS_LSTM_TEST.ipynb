{
 "cells": [
  {
   "cell_type": "code",
   "execution_count": 1,
   "metadata": {},
   "outputs": [
    {
     "name": "stderr",
     "output_type": "stream",
     "text": [
      "Using TensorFlow backend.\n",
      "/home/joshib/anaconda3/lib/python3.7/site-packages/keras/callbacks/callbacks.py:19: DeprecationWarning: Using or importing the ABCs from 'collections' instead of from 'collections.abc' is deprecated since Python 3.3,and in 3.9 it will stop working\n",
      "  from collections import Iterable\n",
      "/home/joshib/anaconda3/lib/python3.7/site-packages/scipy/sparse/sparsetools.py:21: DeprecationWarning: `scipy.sparse.sparsetools` is deprecated!\n",
      "scipy.sparse.sparsetools is a private module for scipy.sparse, and should not be used.\n",
      "  _deprecated()\n"
     ]
    }
   ],
   "source": [
    "import pandas as pd\n",
    "import git\n",
    "import mlflow.keras\n",
    "import pandas as pd\n",
    "import tensorflow as tf\n",
    "import tensorflow_hub as hub\n",
    "from sklearn.metrics import *\n",
    "from tensorflow.keras.layers import *\n",
    "from keras.models import *\n",
    "import os\n",
    "from sklearn.model_selection import train_test_split\n",
    "import tensorflow as tf\n",
    "import tensorflow_hub as hub\n",
    "from keras import backend as K\n",
    "from sklearn.model_selection import train_test_split\n",
    "from tensorflow.keras.preprocessing.sequence import pad_sequences\n",
    "from tensorflow.keras.preprocessing.text import Tokenizer\n",
    "import numpy as np\n",
    "from gensim.models.wrappers import FastText\n"
   ]
  },
  {
   "cell_type": "code",
   "execution_count": 2,
   "metadata": {},
   "outputs": [],
   "source": [
    "# from tensorflow.python.client import device_lib\n",
    "# print(device_lib.list_local_devices())"
   ]
  },
  {
   "cell_type": "code",
   "execution_count": 3,
   "metadata": {},
   "outputs": [],
   "source": [
    "path = '/home/joshib/cs_data/citation-bio-labelled-data-2020-06-08~15:13:57.766608/nlp/exps/output/2020-06-08~15:13:57.766608'\n",
    "#data_df = pd.read_csv(path+'/data-2020-06-08~15:14:01.185827.csv')"
   ]
  },
  {
   "cell_type": "markdown",
   "metadata": {},
   "source": [
    "## LSTM with random embedding model"
   ]
  },
  {
   "cell_type": "code",
   "execution_count": 4,
   "metadata": {},
   "outputs": [],
   "source": [
    "train_data_path = '/home/joshib/cs_data/citation-bio-labelled-data-2020-06-09~06:30:11.273245/nlp/exps/output/2020-06-09~06:30:11.273245'\n",
    "\n",
    "sentences = []\n",
    "sent_tags = []\n",
    "len_arr = []\n",
    "for fpath in os.listdir(train_data_path):\n",
    "    if fpath not in ['data-gen-config.json', 'data_generation_stats.csv']:\n",
    "        fpath = os.path.join(train_data_path, fpath)\n",
    "        #print(fpath)\n",
    "        df = pd.read_csv(fpath, index_col=0)\n",
    "        df.fillna(\"\\n\", axis=1, inplace=True)\n",
    "        len_arr.append(df.shape[0])\n",
    "        sentences.append(\" \".join(df.x))\n",
    "        sent_tags.append(\" \".join(df.y))"
   ]
  },
  {
   "cell_type": "code",
   "execution_count": 5,
   "metadata": {},
   "outputs": [
    {
     "name": "stdout",
     "output_type": "stream",
     "text": [
      "Mean: 1321\n",
      "Max: 2223\n"
     ]
    }
   ],
   "source": [
    "import numpy\n",
    "print(\"Mean: %d\"%numpy.mean(len_arr))\n",
    "print(\"Max: %d\"%numpy.max(len_arr))"
   ]
  },
  {
   "cell_type": "code",
   "execution_count": 6,
   "metadata": {},
   "outputs": [
    {
     "name": "stdout",
     "output_type": "stream",
     "text": [
      "CPU times: user 323 ms, sys: 39.9 ms, total: 363 ms\n",
      "Wall time: 362 ms\n"
     ]
    }
   ],
   "source": [
    "%%time\n",
    "maxlen = 2223\n",
    "X = [[w for w in s.split()] for s in sentences]\n",
    "new_X = []\n",
    "for seq in X:\n",
    "    new_seq = []\n",
    "    for i in range(maxlen):\n",
    "        try:\n",
    "            new_seq.append(seq[i])\n",
    "        except:\n",
    "            new_seq.append(\"PADword\")\n",
    "    new_X.append(new_seq)\n"
   ]
  },
  {
   "cell_type": "code",
   "execution_count": 7,
   "metadata": {},
   "outputs": [],
   "source": [
    "embed_size = 300 # how big is each word vector\n",
    "max_features = 100000 # how many unique words to use (i.e num rows in embedding vector)\n",
    "#maxlen = 1000 # max number of words in a question to use"
   ]
  },
  {
   "cell_type": "code",
   "execution_count": 8,
   "metadata": {},
   "outputs": [
    {
     "name": "stdout",
     "output_type": "stream",
     "text": [
      "CPU times: user 285 ms, sys: 2.97 ms, total: 288 ms\n",
      "Wall time: 288 ms\n"
     ]
    }
   ],
   "source": [
    "%%time\n",
    "from keras.preprocessing.sequence import pad_sequences\n",
    "tags = df.y.unique()\n",
    "tags2index = {t:i for i,t in enumerate(tags)}\n",
    "y = [[tags2index[w] for w in s.split()] for s in sent_tags]\n",
    "y = pad_sequences(maxlen=maxlen, sequences=y, padding=\"post\", value=tags2index[\"I-CIT\"])"
   ]
  },
  {
   "cell_type": "code",
   "execution_count": 9,
   "metadata": {},
   "outputs": [
    {
     "name": "stdout",
     "output_type": "stream",
     "text": [
      "Padding sequences for uniform dimensions\n"
     ]
    }
   ],
   "source": [
    "X_train, X_test, y_train, y_test = train_test_split(new_X, y, test_size=0.1, random_state=42)\n",
    "\n",
    "tokenizer = Tokenizer(num_words=max_features)\n",
    "tokenizer.fit_on_texts(list(X_train))\n",
    "X_train = tokenizer.texts_to_sequences(X_train)\n",
    "X_test = tokenizer.texts_to_sequences(X_test)\n",
    "\n",
    "print(\"Padding sequences for uniform dimensions\")\n",
    "X_train = pad_sequences(X_train, maxlen=maxlen)\n",
    "X_test = pad_sequences(X_test, maxlen=maxlen)"
   ]
  },
  {
   "cell_type": "markdown",
   "metadata": {},
   "source": [
    "## Keras with pre-trained fast text embedding"
   ]
  },
  {
   "cell_type": "code",
   "execution_count": 11,
   "metadata": {},
   "outputs": [
    {
     "name": "stdout",
     "output_type": "stream",
     "text": [
      "CPU times: user 2min 11s, sys: 4.97 s, total: 2min 16s\n",
      "Wall time: 2min 33s\n"
     ]
    }
   ],
   "source": [
    "%%time\n",
    "wiki_model = FastText.load_fasttext_format('/newvolume/cc.en.300.bin')"
   ]
  },
  {
   "cell_type": "code",
   "execution_count": 12,
   "metadata": {},
   "outputs": [
    {
     "name": "stdout",
     "output_type": "stream",
     "text": [
      "Found 2000000 word vectors.\n",
      "number of null word embeddings: 15478\n",
      "CPU times: user 8.14 s, sys: 256 ms, total: 8.39 s\n",
      "Wall time: 8.39 s\n"
     ]
    }
   ],
   "source": [
    "%%time\n",
    "def load_embedding_matrix(embeddings, nb_words, word_index, embed_dim):  # load embeddings\n",
    "    embeddings_index = {}\n",
    "    for word in embeddings.wv.vocab:\n",
    "        embeddings_index[word] = embeddings[word]\n",
    "    print('Found %s word vectors.' % len(embeddings_index))\n",
    "\n",
    "    words_not_found = []\n",
    "    embedding_matrix = np.zeros((nb_words, embed_dim))\n",
    "    for word, i in word_index.items():\n",
    "        if i >= nb_words:\n",
    "            continue\n",
    "        try:\n",
    "            embedding_vector = embeddings[word]\n",
    "            embedding_matrix[i] = embedding_vector\n",
    "        except:\n",
    "            words_not_found.append(word)\n",
    "    print('number of null word embeddings: %d' % np.sum(np.sum(embedding_matrix, axis=1) == 0))\n",
    "    return embedding_matrix\n",
    "\n",
    "\n",
    "embedding_matrix = load_embedding_matrix(wiki_model, max_features, tokenizer.word_index, 300)"
   ]
  },
  {
   "cell_type": "code",
   "execution_count": null,
   "metadata": {},
   "outputs": [],
   "source": []
  },
  {
   "cell_type": "code",
   "execution_count": 13,
   "metadata": {},
   "outputs": [
    {
     "name": "stderr",
     "output_type": "stream",
     "text": [
      "/home/joshib/anaconda3/lib/python3.7/site-packages/tensorflow_core/python/keras/layers/recurrent.py:808: DeprecationWarning: Using or importing the ABCs from 'collections' instead of from 'collections.abc' is deprecated since Python 3.3,and in 3.9 it will stop working\n",
      "  if (isinstance(inputs, collections.Sequence)\n"
     ]
    },
    {
     "name": "stdout",
     "output_type": "stream",
     "text": [
      "Model: \"sequential\"\n",
      "_________________________________________________________________\n",
      "Layer (type)                 Output Shape              Param #   \n",
      "=================================================================\n",
      "embedding (Embedding)        (None, 2223, 300)         30000000  \n",
      "_________________________________________________________________\n",
      "bidirectional (Bidirectional (None, 2223, 1024)        3330048   \n",
      "_________________________________________________________________\n",
      "time_distributed (TimeDistri (None, 2223, 1)           1025      \n",
      "=================================================================\n",
      "Total params: 33,331,073\n",
      "Trainable params: 33,331,073\n",
      "Non-trainable params: 0\n",
      "_________________________________________________________________\n",
      "CPU times: user 2.56 s, sys: 732 ms, total: 3.29 s\n",
      "Wall time: 5.16 s\n"
     ]
    },
    {
     "name": "stderr",
     "output_type": "stream",
     "text": [
      "/home/joshib/anaconda3/lib/python3.7/site-packages/tensorflow_core/python/training/tracking/data_structures.py:720: DeprecationWarning: Using or importing the ABCs from 'collections' instead of from 'collections.abc' is deprecated since Python 3.3,and in 3.9 it will stop working\n",
      "  if not isinstance(wrapped_dict, collections.Mapping):\n"
     ]
    }
   ],
   "source": [
    "%%time\n",
    "model = tf.keras.models.Sequential()\n",
    "model.add(Embedding(max_features, 300, weights=[embedding_matrix], trainable=True, input_length= maxlen))\n",
    "model.add(Bidirectional(LSTM(512, return_sequences=True)))\n",
    "model.add(TimeDistributed(Dense(1, activation=\"sigmoid\")))\n",
    "# model.add(tf.keras.layers.Dense(1, activation='sigmoid'))\n",
    "model.compile(\n",
    "    optimizer=tf.keras.optimizers.Adam(\n",
    "        learning_rate=0.005,\n",
    "        beta_1=0.0,\n",
    "        beta_2=0.0,\n",
    "        epsilon=1e-05,\n",
    "        amsgrad=False,\n",
    "    ),\n",
    "    loss='binary_crossentropy',\n",
    "    metrics=['accuracy']\n",
    ")\n",
    "model.summary()"
   ]
  },
  {
   "cell_type": "code",
   "execution_count": 17,
   "metadata": {},
   "outputs": [
    {
     "name": "stdout",
     "output_type": "stream",
     "text": [
      "Train on 400 samples, validate on 45 samples\n",
      "Epoch 1/20\n",
      "400/400 [==============================] - 18s 44ms/sample - loss: 0.0967 - accuracy: 0.9806 - val_loss: 0.0958 - val_accuracy: 0.9801\n",
      "Epoch 2/20\n",
      "400/400 [==============================] - 17s 43ms/sample - loss: 0.0949 - accuracy: 0.9807 - val_loss: 0.0990 - val_accuracy: 0.9803\n",
      "Epoch 3/20\n",
      "400/400 [==============================] - 17s 43ms/sample - loss: 0.0937 - accuracy: 0.9806 - val_loss: 0.0954 - val_accuracy: 0.9798\n",
      "Epoch 4/20\n",
      "400/400 [==============================] - 17s 43ms/sample - loss: 0.0928 - accuracy: 0.9806 - val_loss: 0.0976 - val_accuracy: 0.9799\n",
      "Epoch 5/20\n",
      "400/400 [==============================] - 17s 43ms/sample - loss: 0.0917 - accuracy: 0.9806 - val_loss: 0.0958 - val_accuracy: 0.9798\n",
      "Epoch 6/20\n",
      "400/400 [==============================] - 17s 43ms/sample - loss: 0.0905 - accuracy: 0.9806 - val_loss: 0.0973 - val_accuracy: 0.9799\n",
      "Epoch 7/20\n",
      "400/400 [==============================] - 17s 43ms/sample - loss: 0.0893 - accuracy: 0.9806 - val_loss: 0.0961 - val_accuracy: 0.9798\n",
      "Epoch 8/20\n",
      "400/400 [==============================] - 17s 43ms/sample - loss: 0.0879 - accuracy: 0.9806 - val_loss: 0.0980 - val_accuracy: 0.9799\n",
      "Epoch 9/20\n",
      "400/400 [==============================] - 17s 43ms/sample - loss: 0.0865 - accuracy: 0.9806 - val_loss: 0.0977 - val_accuracy: 0.9798\n",
      "Epoch 10/20\n",
      "400/400 [==============================] - 17s 43ms/sample - loss: 0.0849 - accuracy: 0.9806 - val_loss: 0.1002 - val_accuracy: 0.9799\n",
      "Epoch 11/20\n",
      "400/400 [==============================] - 17s 43ms/sample - loss: 0.0834 - accuracy: 0.9806 - val_loss: 0.1012 - val_accuracy: 0.9796\n",
      "Epoch 12/20\n",
      "400/400 [==============================] - 17s 44ms/sample - loss: 0.0817 - accuracy: 0.9807 - val_loss: 0.1010 - val_accuracy: 0.9799\n",
      "Epoch 13/20\n",
      "400/400 [==============================] - 17s 44ms/sample - loss: 0.0802 - accuracy: 0.9809 - val_loss: 0.1009 - val_accuracy: 0.9796\n",
      "Epoch 14/20\n",
      "400/400 [==============================] - 17s 44ms/sample - loss: 0.0785 - accuracy: 0.9812 - val_loss: 0.1050 - val_accuracy: 0.9798\n",
      "Epoch 15/20\n",
      "400/400 [==============================] - 17s 43ms/sample - loss: 0.0756 - accuracy: 0.9817 - val_loss: 0.1077 - val_accuracy: 0.9786\n",
      "Epoch 16/20\n",
      "400/400 [==============================] - 17s 44ms/sample - loss: 0.0734 - accuracy: 0.9825 - val_loss: 0.1078 - val_accuracy: 0.9795\n",
      "Epoch 17/20\n",
      "400/400 [==============================] - 17s 43ms/sample - loss: 0.0718 - accuracy: 0.9830 - val_loss: 0.1072 - val_accuracy: 0.9785\n",
      "Epoch 18/20\n",
      "400/400 [==============================] - 17s 43ms/sample - loss: 0.0691 - accuracy: 0.9836 - val_loss: 0.1146 - val_accuracy: 0.9792\n",
      "Epoch 19/20\n",
      "400/400 [==============================] - 17s 43ms/sample - loss: 0.0680 - accuracy: 0.9840 - val_loss: 0.1116 - val_accuracy: 0.9776\n",
      "Epoch 20/20\n",
      "400/400 [==============================] - 17s 43ms/sample - loss: 0.0666 - accuracy: 0.9844 - val_loss: 0.1164 - val_accuracy: 0.9793\n"
     ]
    },
    {
     "data": {
      "text/plain": [
       "<tensorflow.python.keras.callbacks.History at 0x7f679a61c8d0>"
      ]
     },
     "execution_count": 17,
     "metadata": {},
     "output_type": "execute_result"
    }
   ],
   "source": [
    "model.fit(X_train, y_train, verbose=1, epochs=20, validation_data=(X_test, y_test))"
   ]
  },
  {
   "cell_type": "code",
   "execution_count": null,
   "metadata": {},
   "outputs": [],
   "source": []
  },
  {
   "cell_type": "markdown",
   "metadata": {},
   "source": [
    "### Keras with random embedding"
   ]
  },
  {
   "cell_type": "code",
   "execution_count": 15,
   "metadata": {},
   "outputs": [
    {
     "name": "stdout",
     "output_type": "stream",
     "text": [
      "Model: \"sequential_1\"\n",
      "_________________________________________________________________\n",
      "Layer (type)                 Output Shape              Param #   \n",
      "=================================================================\n",
      "embedding_1 (Embedding)      (None, 2223, 300)         30000000  \n",
      "_________________________________________________________________\n",
      "bidirectional_1 (Bidirection (None, 2223, 1024)        3330048   \n",
      "_________________________________________________________________\n",
      "time_distributed_1 (TimeDist (None, 2223, 1)           1025      \n",
      "=================================================================\n",
      "Total params: 33,331,073\n",
      "Trainable params: 33,331,073\n",
      "Non-trainable params: 0\n",
      "_________________________________________________________________\n",
      "CPU times: user 1.82 s, sys: 309 ms, total: 2.13 s\n",
      "Wall time: 985 ms\n"
     ]
    }
   ],
   "source": [
    "%%time\n",
    "model = tf.keras.models.Sequential()\n",
    "model.add(Embedding(max_features, embed_size, input_length=maxlen))\n",
    "model.add(Bidirectional(LSTM(512, return_sequences=True)))\n",
    "#model.add(Bidirectional(LSTM(100, return_sequences=True)))\n",
    "model.add(TimeDistributed(Dense(1, activation=\"sigmoid\")))\n",
    "# # model.add(tf.keras.layers.Dense(1, activation='sigmoid'))\n",
    "model.compile(\n",
    "    optimizer=tf.keras.optimizers.Adam(\n",
    "        learning_rate=0.005,\n",
    "        beta_1=0.0,\n",
    "        beta_2=0.0,\n",
    "        epsilon=1e-05,\n",
    "        amsgrad=False,\n",
    "    ),\n",
    "    loss='binary_crossentropy',\n",
    "    metrics=['accuracy']\n",
    ")\n",
    "model.summary()"
   ]
  },
  {
   "cell_type": "code",
   "execution_count": null,
   "metadata": {},
   "outputs": [],
   "source": []
  },
  {
   "cell_type": "code",
   "execution_count": null,
   "metadata": {},
   "outputs": [],
   "source": []
  },
  {
   "cell_type": "code",
   "execution_count": 16,
   "metadata": {},
   "outputs": [
    {
     "name": "stdout",
     "output_type": "stream",
     "text": [
      "Train on 400 samples, validate on 45 samples\n",
      "Epoch 1/5\n",
      "400/400 [==============================] - 21s 53ms/sample - loss: 0.2213 - accuracy: 0.9592 - val_loss: 0.1568 - val_accuracy: 0.9803\n",
      "Epoch 2/5\n",
      "400/400 [==============================] - 17s 43ms/sample - loss: 0.1173 - accuracy: 0.9802 - val_loss: 0.0976 - val_accuracy: 0.9803\n",
      "Epoch 3/5\n",
      "400/400 [==============================] - 17s 43ms/sample - loss: 0.1049 - accuracy: 0.9802 - val_loss: 0.1092 - val_accuracy: 0.9803\n",
      "Epoch 4/5\n",
      "400/400 [==============================] - 17s 43ms/sample - loss: 0.1015 - accuracy: 0.9802 - val_loss: 0.0960 - val_accuracy: 0.9803\n",
      "Epoch 5/5\n",
      "400/400 [==============================] - 17s 43ms/sample - loss: 0.0984 - accuracy: 0.9805 - val_loss: 0.1015 - val_accuracy: 0.9803\n"
     ]
    },
    {
     "data": {
      "text/plain": [
       "<tensorflow.python.keras.callbacks.History at 0x7f679a8e0550>"
      ]
     },
     "execution_count": 16,
     "metadata": {},
     "output_type": "execute_result"
    }
   ],
   "source": [
    "model.fit(X_train, y_train, verbose=1, epochs=5, validation_data=(X_test, y_test))"
   ]
  },
  {
   "cell_type": "code",
   "execution_count": null,
   "metadata": {},
   "outputs": [],
   "source": []
  }
 ],
 "metadata": {
  "kernelspec": {
   "display_name": "Python 3",
   "language": "python",
   "name": "python3"
  },
  "language_info": {
   "codemirror_mode": {
    "name": "ipython",
    "version": 3
   },
   "file_extension": ".py",
   "mimetype": "text/x-python",
   "name": "python",
   "nbconvert_exporter": "python",
   "pygments_lexer": "ipython3",
   "version": "3.7.6"
  }
 },
 "nbformat": 4,
 "nbformat_minor": 4
}
