{
 "cells": [
  {
   "cell_type": "code",
   "execution_count": 24,
   "metadata": {},
   "outputs": [
    {
     "name": "stdout",
     "output_type": "stream",
     "text": [
      "The autoreload extension is already loaded. To reload it, use:\n",
      "  %reload_ext autoreload\n"
     ]
    }
   ],
   "source": [
    "%load_ext autoreload\n",
    "%autoreload 2"
   ]
  },
  {
   "cell_type": "code",
   "execution_count": 25,
   "metadata": {},
   "outputs": [],
   "source": [
    "### for reproducible experiments\n",
    "from numpy.random import seed\n",
    "seed(42)\n",
    "from tensorflow.random import set_seed\n",
    "set_seed(42)"
   ]
  },
  {
   "cell_type": "code",
   "execution_count": 26,
   "metadata": {},
   "outputs": [],
   "source": [
    "import numpy as np\n",
    "import pandas as pd\n",
    "import git\n",
    "import mlflow.keras\n",
    "import os, sys\n",
    "from gensim.models.wrappers import FastText\n",
    "\n",
    "#import tensorflow_hub as hub\n",
    "from tensorflow.keras.callbacks import *\n",
    "from tensorflow.keras.optimizers import *\n",
    "\n",
    "from sklearn.metrics import *\n",
    "from sklearn.model_selection import train_test_split\n",
    "import matplotlib.pyplot as plt\n",
    "#import random\n",
    "%matplotlib inline\n",
    "pd.set_option('display.max_rows', None)\n",
    "\n",
    "sys.path.append('../citation_bio_trainer')\n",
    "#from feature.SpacyFeaturizer import get_spacy_feats_from_text\n",
    "from feature.Featurizer import Featurizer\n",
    "from util.Utils import calulate_ser_jer, load_from_folder, pad_sequences, load_embedding_matrix, evaluate, log_mlflow_results\n",
    "import warnings\n",
    "from model.FTLSTM import calulate_ser_jer, get_model, plot_output\n",
    "warnings.filterwarnings(\"ignore\", category=DeprecationWarning) "
   ]
  },
  {
   "cell_type": "code",
   "execution_count": 27,
   "metadata": {},
   "outputs": [],
   "source": [
    "path = '/home/joshib/cs_data/citation-bio-labelled-data-2020-06-08~15:13:57.766608/nlp/exps/output/2020-06-08~15:13:57.766608'\n",
    "#data_df = pd.read_csv(path+'/data-2020-06-08~15:14:01.185827.csv')"
   ]
  },
  {
   "cell_type": "markdown",
   "metadata": {},
   "source": [
    "## LSTM with random embedding model"
   ]
  },
  {
   "cell_type": "code",
   "execution_count": 28,
   "metadata": {},
   "outputs": [
    {
     "name": "stdout",
     "output_type": "stream",
     "text": [
      "CPU times: user 1min 25s, sys: 234 ms, total: 1min 25s\n",
      "Wall time: 1min 25s\n"
     ]
    }
   ],
   "source": [
    "%%time\n",
    "train_data_path = '/nlp/cs_mixed_20k/cs_mixed_20k_train/'\n",
    "test_data_path  = '/nlp/cs_mixed_20k/cs_mixed_20k_test/'\n",
    "eval_without_intra_newline_path  = '/nlp/eval_without_intra_newline/'\n",
    "eval_with_intra_newline_path     = '/nlp/eval_with_intra_newline/'\n",
    "\n",
    "sentences_train, sent_tags_train = load_from_folder(train_data_path)\n",
    "sentences_test, sent_tags_test = load_from_folder(test_data_path)\n",
    "sentences_eval1, sent_tags_eval1 = load_from_folder(eval_without_intra_newline_path)\n",
    "#sentences_eval2, sent_tags_eval2 = load_from_folder(eval_with_intra_newline_path)"
   ]
  },
  {
   "cell_type": "code",
   "execution_count": 6,
   "metadata": {},
   "outputs": [],
   "source": [
    "xtrain, xvalid, ytrain, yvalid = train_test_split(sentences_train, sent_tags_train, test_size=0.1, random_state=42)"
   ]
  },
  {
   "cell_type": "code",
   "execution_count": 7,
   "metadata": {},
   "outputs": [],
   "source": [
    "feat_config = {'max_vocab':100000,\n",
    "               'lstm_feats':True, \n",
    "               'spacy_feats':True, \n",
    "               'google_feats': False, \n",
    "               'parscit_feats': True}"
   ]
  },
  {
   "cell_type": "code",
   "execution_count": 8,
   "metadata": {},
   "outputs": [
    {
     "name": "stdout",
     "output_type": "stream",
     "text": [
      "CPU times: user 3 µs, sys: 0 ns, total: 3 µs\n",
      "Wall time: 6.91 µs\n"
     ]
    }
   ],
   "source": [
    "%%time\n",
    "#featurizer = Featurizer(feat_config)\n",
    "#print(\"loading train ...\")\n",
    "#train_dict, tokenizer, maxlen = featurizer.fit_transform(xtrain, ytrain)\n",
    "# print(\"loading valid ...\")\n",
    "# valid_dict = featurizer.transform(xvalid, yvalid)\n",
    "# print(\"loading test ...\")\n",
    "# test_dict  = featurizer.transform(sentences_test, sent_tags_test)\n",
    "# print(\"loading evals ...\")\n",
    "#eval1_dict  = featurizer.transform(sentences_eval1, sent_tags_eval1)\n",
    "# #eval_dict2  = featurizer.transform(sentences_eval2, sent_tags_eval2)"
   ]
  },
  {
   "cell_type": "code",
   "execution_count": 9,
   "metadata": {},
   "outputs": [
    {
     "name": "stdout",
     "output_type": "stream",
     "text": [
      "CPU times: user 2.45 ms, sys: 3.38 s, total: 3.38 s\n",
      "Wall time: 3.38 s\n"
     ]
    }
   ],
   "source": [
    "%%time\n",
    "### Load from file\n",
    "maxlen = 3861\n",
    "train_dict={}\n",
    "train_dict['labels'] = np.load('/nlp/temp/train_dict_labels.npy')\n",
    "train_dict['lstm_feats']=np.load('/nlp/temp/train_dict_lstm_feats.npy')\n",
    "train_dict['spacy_num_feats'] = np.load('/nlp/temp/train_dict_spacy_feats.npy')\n",
    "\n",
    "valid_dict={}\n",
    "valid_dict['labels']=np.load('/nlp/temp/valid_dict_labels.npy')\n",
    "valid_dict['lstm_feats']=np.load('/nlp/temp/valid_dict_lstm_feats.npy')\n",
    "valid_dict['spacy_num_feats']=np.load('/nlp/temp/valid_dict_spacy_feats.npy')\n",
    "\n",
    "test_dict={}\n",
    "test_dict['labels'] = np.load('/nlp/temp/test_dict_labels.npy')\n",
    "test_dict['lstm_feats']=np.load('/nlp/temp/test_dict_lstm_feats.npy')\n",
    "test_dict['spacy_num_feats']=np.load('/nlp/temp/test_dict_spacy_feats.npy')\n",
    "\n",
    "eval1_dict={}\n",
    "eval1_dict['labels'] = np.load('/nlp/temp/eval1_dict_labels.npy')\n",
    "eval1_dict['lstm_feats']=np.load('/nlp/temp/eval1_dict_lstm_feats.npy')\n",
    "eval1_dict['spacy_num_feats']=np.load('/nlp/temp/eval1_dict_spacy_feats.npy')"
   ]
  },
  {
   "cell_type": "code",
   "execution_count": null,
   "metadata": {},
   "outputs": [],
   "source": []
  },
  {
   "cell_type": "markdown",
   "metadata": {},
   "source": [
    "### Neural parscit features (temporary fix)"
   ]
  },
  {
   "cell_type": "code",
   "execution_count": 10,
   "metadata": {},
   "outputs": [],
   "source": [
    "# %%time\n",
    "# from feature.ParsCitLSTM import ParsCitLSTM\n",
    "# c = {\n",
    "#         \"model_file\": \"/nlp/parscit/parscit-29-latest.h5\",\n",
    "#         \"label_dict_file\": \"/nlp/parscit/labels.json\",\n",
    "#         \"tfhub_model_dir\": \"/nlp/parscit/resource/\"}\n",
    "# model = ParsCitLSTM(model_config=c)"
   ]
  },
  {
   "cell_type": "code",
   "execution_count": 11,
   "metadata": {},
   "outputs": [],
   "source": [
    "# %%time\n",
    "# train_df = pd.DataFrame([])\n",
    "# valid_df = pd.DataFrame([])\n",
    "# test_df = pd.DataFrame([])\n",
    "# eval1_df = pd.DataFrame([])\n",
    "# eval2_df = pd.DataFrame([])\n",
    "\n",
    "# train_df['text'] = np.array(xtrain, dtype='object')\n",
    "# valid_df['text'] = np.array(xvalid, dtype='object')\n",
    "# test_df['text'] = np.array(sentences_test, dtype='object')\n",
    "# eval1_df['text'] = np.array(sentences_eval1, dtype='object')\n",
    "# eval2_df['text'] = np.array(sentences_eval2, dtype='object')"
   ]
  },
  {
   "cell_type": "code",
   "execution_count": 12,
   "metadata": {},
   "outputs": [
    {
     "name": "stdout",
     "output_type": "stream",
     "text": [
      "CPU times: user 3 µs, sys: 0 ns, total: 3 µs\n",
      "Wall time: 6.2 µs\n"
     ]
    }
   ],
   "source": [
    "%%time\n",
    "# train_parscit = model.get_parscit_blocks(train_df)\n",
    "# valid_parscit = model.get_parscit_blocks(valid_df)\n",
    "# test_parscit  = model.get_parscit_blocks(test_df)\n",
    "# eval1_parscit = model.get_parscit_blocks(eval1_df)\n",
    "# eval2_parscit = model.get_parscit_blocks(eval2_df)\n",
    "\n",
    "\n",
    "# train_parscit = pd.read_pickle('/nlp/temp/train_parscit.pickle')\n",
    "# valid_parscit = pd.read_pickle('/nlp/temp/valid_parscit.pickle')\n",
    "# test_parscit = pd.read_pickle('/nlp/temp/test_parscit.pickle')\n",
    "# eval1_parscit = pd.read_pickle('/nlp/temp/eval1_parscit.pickle')\n",
    "#eval2_parscit = pd.read_pickle('/nlp/temp/eval2_parscit.pickle')"
   ]
  },
  {
   "cell_type": "code",
   "execution_count": 13,
   "metadata": {},
   "outputs": [],
   "source": [
    "# def pad_dummy_feats(df, maxlen):\n",
    "#     parscit = df.copy()\n",
    "#     parscit_feats = list(parscit['parscit_feat']) \n",
    "#     parscit_padded = []\n",
    "#     for ind in range(len(parscit_feats)):\n",
    "#         parscit_mask = np.zeros((maxlen, 14), dtype='int8')\n",
    "#         if len(parscit_feats[ind]) <= maxlen:\n",
    "#             parscit_mask[0:len(parscit_feats[ind]), :] = parscit_feats[ind][:]\n",
    "#         else:\n",
    "#             parscit_mask[:] = parscit_feats[ind][0:maxlen,:]\n",
    "#         parscit_padded.append(parscit_mask)\n",
    "#     parscit_arr = np.array([i.tolist() for i in parscit_padded])\n",
    "#     return parscit_arr"
   ]
  },
  {
   "cell_type": "code",
   "execution_count": null,
   "metadata": {},
   "outputs": [],
   "source": []
  },
  {
   "cell_type": "code",
   "execution_count": 14,
   "metadata": {},
   "outputs": [],
   "source": [
    "# %%time\n",
    "# train_parscit_arr = pad_dummy_feats(train_parscit, maxlen)\n",
    "# valid_parscit_arr = pad_dummy_feats(valid_parscit, maxlen)\n",
    "# test_parscit_arr  = pad_dummy_feats(test_parscit, maxlen)\n",
    "# eval1_parscit_arr = pad_dummy_feats(eval1_parscit, maxlen)\n",
    "#eval2_parscit_arr = pad_dummy_feats(eval2_parscit, maxlen)"
   ]
  },
  {
   "cell_type": "code",
   "execution_count": 15,
   "metadata": {},
   "outputs": [
    {
     "name": "stdout",
     "output_type": "stream",
     "text": [
      "CPU times: user 3 ms, sys: 3.35 s, total: 3.36 s\n",
      "Wall time: 3.36 s\n"
     ]
    }
   ],
   "source": [
    "%%time\n",
    "## load saved files\n",
    "train_parscit_arr = np.load('/nlp/temp/train_parscit_arr.npy')\n",
    "valid_parscit_arr = np.load('/nlp/temp/valid_parscit_arr.npy')\n",
    "test_parscit_arr  = np.load('/nlp/temp/test_parscit_arr.npy')\n",
    "eval1_parscit_arr = np.load('/nlp/temp/eval1_parscit_arr.npy')"
   ]
  },
  {
   "cell_type": "markdown",
   "metadata": {},
   "source": [
    "## Keras with pre-trained fast text embedding"
   ]
  },
  {
   "cell_type": "code",
   "execution_count": 16,
   "metadata": {},
   "outputs": [
    {
     "name": "stdout",
     "output_type": "stream",
     "text": [
      "CPU times: user 2.03 ms, sys: 92.3 ms, total: 94.4 ms\n",
      "Wall time: 93.8 ms\n"
     ]
    }
   ],
   "source": [
    "%%time\n",
    "#wiki_model = FastText.load_fasttext_format('/nlp/cc.en.300.bin')\n",
    "#embedding_matrix = load_embedding_matrix(wiki_model, feat_config['max_vocab'], tokenizer.word_index, 300)\n",
    "embedding_matrix=np.load('/nlp/temp/embedding_matrix.npy')"
   ]
  },
  {
   "cell_type": "code",
   "execution_count": 17,
   "metadata": {},
   "outputs": [],
   "source": [
    "model_config = {'embedding': {'use':True, 'matrix':embedding_matrix, 'trainable':True},## trainableTrue is significantly better \n",
    "                'lstm': {'use':True, 'num': 1, 'units':50, 'dropout':0.2},\n",
    "                'dense':{'use':False, 'num': 1, 'units':256, 'dropout':0.2},\n",
    "                'optimizer': Adam(\n",
    "        learning_rate=0.001,\n",
    "        beta_1=0.0,\n",
    "        beta_2=0.0,\n",
    "        epsilon=1e-05,\n",
    "        amsgrad=False,\n",
    "    ),\n",
    "                'output_activation' : 'sigmoid', \n",
    "                'batch_size': 16, ## lower the better\n",
    "                'aux_feats': {'use':True, 'dim':26, 'place':'before_lstm'}, \n",
    "                'timedistributed':{'use':False}, ## no difference at all True or False\n",
    "                'shuffle': True ## not much different than False\n",
    "                \n",
    "               }"
   ]
  },
  {
   "cell_type": "code",
   "execution_count": 18,
   "metadata": {},
   "outputs": [
    {
     "name": "stdout",
     "output_type": "stream",
     "text": [
      "Model: \"model\"\n",
      "__________________________________________________________________________________________________\n",
      "Layer (type)                    Output Shape         Param #     Connected to                     \n",
      "==================================================================================================\n",
      "input_1 (InputLayer)            [(None, 3861)]       0                                            \n",
      "__________________________________________________________________________________________________\n",
      "embedding (Embedding)           (None, 3861, 300)    30000000    input_1[0][0]                    \n",
      "__________________________________________________________________________________________________\n",
      "input_2 (InputLayer)            [(None, 3861, 26)]   0                                            \n",
      "__________________________________________________________________________________________________\n",
      "concatenate (Concatenate)       (None, 3861, 326)    0           embedding[0][0]                  \n",
      "                                                                 input_2[0][0]                    \n",
      "__________________________________________________________________________________________________\n",
      "lstm (LSTM)                     (None, 3861, 50)     75400       concatenate[0][0]                \n",
      "__________________________________________________________________________________________________\n",
      "dense (Dense)                   (None, 3861, 1)      51          lstm[0][0]                       \n",
      "==================================================================================================\n",
      "Total params: 30,075,451\n",
      "Trainable params: 30,075,451\n",
      "Non-trainable params: 0\n",
      "__________________________________________________________________________________________________\n",
      "None\n",
      "CPU times: user 1.29 s, sys: 661 ms, total: 1.95 s\n",
      "Wall time: 1.35 s\n"
     ]
    }
   ],
   "source": [
    "%%time\n",
    "model = get_model(feat_config, model_config, maxlen)\n",
    "print(model.summary())"
   ]
  },
  {
   "cell_type": "code",
   "execution_count": 19,
   "metadata": {},
   "outputs": [
    {
     "name": "stdout",
     "output_type": "stream",
     "text": [
      "both spacy and parscit\n",
      "CPU times: user 4.42 s, sys: 3.6 s, total: 8.02 s\n",
      "Wall time: 8.02 s\n"
     ]
    }
   ],
   "source": [
    "%%time\n",
    "if feat_config['spacy_feats'] and not feat_config['parscit_feats']:\n",
    "    print('only spacy not parscit')\n",
    "    train_aux = train_dict['spacy_num_feats']\n",
    "    valid_aux = valid_dict['spacy_num_feats']\n",
    "    test_aux  = test_dict['spacy_num_feats']\n",
    "    eval1_aux  = eval1_dict['spacy_num_feats']\n",
    "    \n",
    "elif feat_config['spacy_feats'] and  feat_config['parscit_feats']:\n",
    "    print(\"both spacy and parscit\")\n",
    "    train_aux = np.concatenate((train_dict['spacy_num_feats'], train_parscit_arr), axis=-1)\n",
    "    valid_aux = np.concatenate((valid_dict['spacy_num_feats'], valid_parscit_arr), axis=-1)\n",
    "    test_aux  = np.concatenate((test_dict['spacy_num_feats'], test_parscit_arr), axis=-1)\n",
    "    eval1_aux  = np.concatenate((eval1_dict['spacy_num_feats'], eval1_parscit_arr), axis=-1)\n",
    "else:\n",
    "    print('only lstm features')\n",
    "#eval1_aux = np.concatenate((eval_dict1['spacy_num_feats'], eval1_parscit_arr), axis=-1)\n",
    "#eval2_aux = np.concatenate((eval_dict2['spacy_num_feats'], eval2_parscit_arr), axis=-1)"
   ]
  },
  {
   "cell_type": "code",
   "execution_count": 20,
   "metadata": {},
   "outputs": [
    {
     "name": "stdout",
     "output_type": "stream",
     "text": [
      "multi input model\n",
      "Epoch 1/100\n",
      "989/989 [==============================] - 339s 343ms/step - loss: 0.0085 - accuracy: 0.9979 - val_loss: 8.9219e-04 - val_accuracy: 0.9997\n",
      "Epoch 2/100\n",
      "989/989 [==============================] - 338s 342ms/step - loss: 7.3189e-04 - accuracy: 0.9998 - val_loss: 5.3819e-04 - val_accuracy: 0.9998\n",
      "Epoch 3/100\n",
      "989/989 [==============================] - 340s 343ms/step - loss: 5.2850e-04 - accuracy: 0.9998 - val_loss: 4.5615e-04 - val_accuracy: 0.9999\n",
      "Epoch 4/100\n",
      "989/989 [==============================] - 339s 343ms/step - loss: 4.3514e-04 - accuracy: 0.9999 - val_loss: 3.6032e-04 - val_accuracy: 0.9999\n",
      "Epoch 5/100\n",
      "989/989 [==============================] - 339s 343ms/step - loss: 3.2946e-04 - accuracy: 0.9999 - val_loss: 2.4772e-04 - val_accuracy: 0.9999\n",
      "Epoch 6/100\n",
      "989/989 [==============================] - 339s 343ms/step - loss: 2.3498e-04 - accuracy: 0.9999 - val_loss: 2.2837e-04 - val_accuracy: 0.9999\n",
      "Epoch 7/100\n",
      "989/989 [==============================] - 341s 345ms/step - loss: 1.9291e-04 - accuracy: 0.9999 - val_loss: 1.7588e-04 - val_accuracy: 0.9999\n",
      "Epoch 8/100\n",
      "989/989 [==============================] - 339s 342ms/step - loss: 1.5884e-04 - accuracy: 0.9999 - val_loss: 1.4266e-04 - val_accuracy: 1.0000\n",
      "Epoch 9/100\n",
      "989/989 [==============================] - 339s 343ms/step - loss: 1.4045e-04 - accuracy: 1.0000 - val_loss: 1.3306e-04 - val_accuracy: 1.0000\n",
      "Epoch 10/100\n",
      "989/989 [==============================] - 340s 344ms/step - loss: 1.2492e-04 - accuracy: 1.0000 - val_loss: 1.1348e-04 - val_accuracy: 1.0000\n",
      "Epoch 11/100\n",
      "989/989 [==============================] - 339s 343ms/step - loss: 1.1115e-04 - accuracy: 1.0000 - val_loss: 1.1265e-04 - val_accuracy: 1.0000\n",
      "CPU times: user 2h 57min 39s, sys: 46min 45s, total: 3h 44min 24s\n",
      "Wall time: 1h 2min 29s\n"
     ]
    },
    {
     "data": {
      "image/png": "[encoded data removed]",
      "text/plain": [
       "<Figure size 1152x432 with 2 Axes>"
      ]
     },
     "metadata": {
      "needs_background": "light"
     },
     "output_type": "display_data"
    }
   ],
   "source": [
    "%%time\n",
    "early_stop= EarlyStopping(monitor='val_loss',patience=3,verbose=0,mode='min',restore_best_weights=False, min_delta=0.0001)\n",
    "\n",
    "## multi input\n",
    "if model_config['aux_feats']['use']:\n",
    "    print(\"multi input model\")\n",
    "    history = model.fit([train_dict['lstm_feats'], train_aux], train_dict['labels'], verbose=1, epochs=100, batch_size= model_config['batch_size'], \\\n",
    "                    validation_data=([valid_dict['lstm_feats'], valid_aux], valid_dict['labels']), callbacks=[early_stop], shuffle=model_config['shuffle'])\n",
    "else:\n",
    "    print(\"single input model\")\n",
    "    history = model.fit(train_dict['lstm_feats'], train_dict['labels'], verbose=1, epochs=100, batch_size= model_config['batch_size'], \\\n",
    "                        validation_data=(valid_dict['lstm_feats'], valid_dict['labels']), callbacks=[early_stop], shuffle=model_config['shuffle'])\n",
    "\n",
    "plot_output(history)"
   ]
  },
  {
   "cell_type": "code",
   "execution_count": null,
   "metadata": {},
   "outputs": [],
   "source": []
  },
  {
   "cell_type": "code",
   "execution_count": 21,
   "metadata": {},
   "outputs": [
    {
     "name": "stdout",
     "output_type": "stream",
     "text": [
      "done\n"
     ]
    }
   ],
   "source": [
    "print('done')"
   ]
  },
  {
   "cell_type": "markdown",
   "metadata": {},
   "source": [
    "### Analysis on validation data"
   ]
  },
  {
   "cell_type": "code",
   "execution_count": 22,
   "metadata": {},
   "outputs": [
    {
     "name": "stdout",
     "output_type": "stream",
     "text": [
      "CPU times: user 14.1 s, sys: 2.06 s, total: 16.1 s\n",
      "Wall time: 11.9 s\n"
     ]
    }
   ],
   "source": [
    "%%time\n",
    "if model_config['aux_feats']['use']:\n",
    "    valid_probs = model.predict([valid_dict['lstm_feats'], valid_aux])\n",
    "else:\n",
    "    valid_probs = model.predict(valid_dict['lstm_feats'])\n",
    "\n",
    "valid_probs = valid_probs.reshape(valid_probs.shape[0], valid_probs.shape[1])\n",
    "valid_preds = np.where(valid_probs > 0.5, 1, 0)\n",
    "\n",
    "valid_true_ls = [i[0:len(j.split(\" \"))].tolist() for i,j in zip(valid_dict['labels'], yvalid)]\n",
    "valid_pred_ls = [i[0:len(j.split(\" \"))].tolist() for i,j in zip(valid_preds, yvalid)]\n",
    "result_valid = evaluate(valid_true_ls, valid_pred_ls)"
   ]
  },
  {
   "cell_type": "code",
   "execution_count": 23,
   "metadata": {},
   "outputs": [
    {
     "data": {
      "text/plain": [
       "{'count': 1758,\n",
       " 'mean_ser': 0.002670961444572739,\n",
       " 'mean_jer': 0.0034327840201287072,\n",
       " 'mean_acc': 0.9998156923892054,\n",
       " 'num_mistakes_seq': 191,\n",
       " 'num_mistakes_all': 247}"
      ]
     },
     "execution_count": 23,
     "metadata": {},
     "output_type": "execute_result"
    }
   ],
   "source": [
    "result_valid"
   ]
  },
  {
   "cell_type": "code",
   "execution_count": 23,
   "metadata": {},
   "outputs": [
    {
     "data": {
      "text/plain": [
       "{'count': 1758,\n",
       " 'mean_ser': 0.0012784403468418335,\n",
       " 'mean_jer': 0.00434950135293211,\n",
       " 'mean_acc': 0.9998337824028184,\n",
       " 'num_mistakes_seq': 172,\n",
       " 'num_mistakes_all': 214}"
      ]
     },
     "execution_count": 23,
     "metadata": {},
     "output_type": "execute_result"
    }
   ],
   "source": [
    "result_valid"
   ]
  },
  {
   "cell_type": "code",
   "execution_count": 18,
   "metadata": {},
   "outputs": [
    {
     "data": {
      "text/plain": [
       "{'count': 1758,\n",
       " 'mean_ser': 0.0013398960994772864,\n",
       " 'mean_jer': 0.0061860178215543205,\n",
       " 'mean_acc': 0.9997702457002545,\n",
       " 'num_mistakes_seq': 202,\n",
       " 'num_mistakes_all': 250}"
      ]
     },
     "execution_count": 18,
     "metadata": {},
     "output_type": "execute_result"
    }
   ],
   "source": [
    "result_valid"
   ]
  },
  {
   "cell_type": "code",
   "execution_count": 25,
   "metadata": {},
   "outputs": [
    {
     "data": {
      "text/plain": [
       "{'count': 1758,\n",
       " 'mean_ser': 0.0011014967087715273,\n",
       " 'mean_jer': 0.007994979741352154,\n",
       " 'mean_acc': 0.9997256255247973,\n",
       " 'num_mistakes_seq': 246,\n",
       " 'num_mistakes_all': 319}"
      ]
     },
     "execution_count": 25,
     "metadata": {},
     "output_type": "execute_result"
    }
   ],
   "source": [
    "result_valid"
   ]
  },
  {
   "cell_type": "code",
   "execution_count": 44,
   "metadata": {},
   "outputs": [
    {
     "data": {
      "text/plain": [
       "{'count': 1758,\n",
       " 'mean_ser': 0.0012784403468418335,\n",
       " 'mean_jer': 0.00434950135293211,\n",
       " 'mean_acc': 0.9999684720958897,\n",
       " 'num_mistakes': 172}"
      ]
     },
     "execution_count": 44,
     "metadata": {},
     "output_type": "execute_result"
    }
   ],
   "source": [
    "result_valid ## 1 lstm (100 units) and spacy and parscit feats added before with dropout (0.2)"
   ]
  },
  {
   "cell_type": "code",
   "execution_count": null,
   "metadata": {},
   "outputs": [],
   "source": []
  },
  {
   "cell_type": "code",
   "execution_count": null,
   "metadata": {},
   "outputs": [],
   "source": []
  },
  {
   "cell_type": "code",
   "execution_count": 30,
   "metadata": {
    "collapsed": true,
    "jupyter": {
     "outputs_hidden": true
    }
   },
   "outputs": [
    {
     "name": "stdout",
     "output_type": "stream",
     "text": [
      "13 False negatives: [449]\n",
      "['Pilote' 'L.' '\\n' 'Premature' 'cardiovascular' 'disease' 'following']\n",
      "44 False positives: [1653]\n",
      "['C.-c' '.' '\\n' 'Hui' ',' 'Formation' 'of']\n",
      "44 False negatives: [1976]\n",
      "['8' 'May.' '\\n' 'VeriFinger' '9.0' '(' '2017']\n",
      "56 False positives: [820]\n",
      "['2017' '.' '\\n' 'U.S.' 'Geological' 'Survey' ',']\n",
      "59 False positives: [113]\n",
      "['.' 'https://www.terna.it/en-gb/sistemaelettrico/statisticaldata.aspx'\n",
      " '\\n' '(' '\\n' 'accessed' 'July']\n",
      "59 False negatives: [286]\n",
      "[')' '1' '\\n' '(' '12' ')' 'A.M.']\n",
      "67 False negatives: [140]\n",
      "['abstract' '.' '\\n' 'Heim' 'C.' 'Pituitary' '-']\n",
      "80 False negatives: [525]\n",
      "[',' 'Espoo' '\\n' '(' '14' ')' 'BETATHERM']\n",
      "84 False negatives: [57]\n",
      "[',' 'S.C.' '\\n' '(' '3' ')' 'McCully']\n",
      "102 False positives: [18]\n",
      "[',' 'Bronzie' '\\n' 'JD' ',' 'editors' '.']\n",
      "104 False negatives: [289]\n",
      "['cases' '.' '\\n' 'OECD' 'Innovation' 'strategy' '2015']\n",
      "112 False negatives: [425]\n",
      "['/' 'maud' '\\n' 'Chen' ',' 'S.' ',']\n",
      "113 False negatives: [219 227]\n",
      "['-' '2155C.' '\\n' '(' '7' ')' 'JCPDS']\n",
      "['-' '3430M.' '\\n' '(' '8)' 'Clarke' 'T.C.']\n",
      "123 False negatives: [366]\n",
      "['2009' '.' '\\n' 'Hodges' 'AV' ',' 'Lonsbury']\n",
      "125 False positives: [398]\n",
      "['comprehensive' 'review' '\\n' '(' 'Part' '-' 'B']\n",
      "129 False positives: [17]\n",
      "['Am' '.' '\\n' '28' '(' '1981' ')']\n",
      "130 False negatives: [ 11 169 415 447]\n",
      "['See' ',' '\\n' 'To' 'prepare' 'optically' 'active']\n",
      "['’s' 'method.20' '\\n' 'This' 'result' 'is' 'reasonable']\n",
      "['report' '.' '\\n' 'When' 'a' 'bigger' 'flask']\n",
      "['flask' '.' '\\n' 'Environmental' 'Protection' 'Agency' '.']\n",
      "141 False negatives: [351]\n",
      "['3rd' 'Edition' '\\n' 'k' ')' 'StaSoft' 'Inc']\n",
      "148 False negatives: [1858]\n",
      "['2008' '.' '\\n' '.' '\\n' 'C.' 'western']\n",
      "150 False negatives: [1814]\n",
      "[')' '.' '\\n' 'IEEE' ',' '519' '-']\n",
      "166 False positives: [220]\n",
      "['/' 'january/' '\\n'\n",
      " '2017.http://polioeradication.org/polio-today/polio-now/this-week/.' '\\n'\n",
      " 'World' 'Health']\n",
      "168 False negatives: [280]\n",
      "['in' ':' '\\n' 'https://www.researchgate.net/publication/308417221' '\\n'\n",
      " 'H.' 'Shi']\n",
      "189 False positives: [1089]\n",
      "['E4' '.' '\\n' 'Lisboa' ':' 'Direção' 'Geral']\n",
      "203 False negatives: [215]\n",
      "['mechanical' 'properties' '\\n' '[' '7' ']' 'J.']\n",
      "228 False negatives: [304]\n",
      "['6–7' 'May.' '\\n' '(' '11' ')' 'Groundwater']\n",
      "230 False negatives: [301]\n",
      "[')' '.' '\\n' 'World' 'Auto' 'Steel' ',']\n",
      "231 False negatives: [268]\n",
      "['Assessment' '.' '\\n' 'Baroni' ',' 'M.' ',']\n",
      "238 False negatives: [830]\n",
      "['414' 'pp' '\\n' '21' ')' 'Möller' ',']\n",
      "243 False negatives: [289]\n",
      "['1999' '.' '\\n' ']' 'Mansure' ',' 'A.J.']\n",
      "254 False negatives: [397]\n",
      "[';' '2016' '\\n' 'Pavlinek' ',' 'L.' 'reportTechno']\n",
      "257 False negatives: [381]\n",
      "[')' '.' '\\n' 'Archive' 'of' 'Isfahan' 'Mohammad']\n",
      "267 False negatives: [356]\n",
      "[',' '1997' '\\n' 'Standard' 'Test' 'Methods' 'for']\n",
      "268 False negatives: [44]\n",
      "[')' 'http://www.unaids.org/.' '\\n' '(' '3' ')' 'Tong']\n",
      "276 False negatives: [411]\n",
      "['.' '”' '\\n' 'L.' 'Atomic' 'and' 'M.']\n",
      "347 False negatives: [278]\n",
      "['Paulo' '.' '\\n' '[' '2' ']' 'E.']\n",
      "352 False positives: [1251 1286]\n",
      "['Evergr' '.' '\\n' 'Jt' '.' 'J.' 'Nov.']\n",
      "['/' 'EG2014' '\\n' '-' '1' '-' '1p25']\n",
      "354 False negatives: [367]\n",
      "['Research' 'Program' '\\n' '(' '12' ')' 'Mouillet']\n",
      "355 False positives: [331]\n",
      "['Cobre' '.' '\\n' 'DEPP' '16/2015' ',' '2015']\n",
      "356 False negatives: [370]\n",
      "['Energy' 'Rev.' '\\n' '10' ')' 'Jefferson' 'W']\n",
      "376 False negatives: [145 647]\n",
      "['Detecting' 'and' '\\n' '(' '4' ')' 'deterring']\n",
      "['assessing' 'inconsistent' '\\n' '(' '15' ')' 'patterns']\n",
      "380 False negatives: [229]\n",
      "[']' '.' '\\n' 'SensL' ',' 'Ireland' ',']\n",
      "400 False negatives: [3055]\n",
      "['Chinese' ')' '\\n' 'Hipple' ',' 'J.' ',']\n",
      "420 False positives: [134 267]\n",
      "['obese' 'adults' '\\n' '[' 'WWW' 'Document' ']']\n",
      "[')' '1995' '\\n' '[' '325.10R' ']' '\\n']\n",
      "423 False positives: [ 410 1453]\n",
      "[')' '.' '\\n' 'MarketWatch' 'at' '〈http://www.marketwatch.com' '/']\n",
      "['70.02' '.' '\\n' 'Near' '-' 'Infrared' 'Reflectance']\n",
      "456 False negatives: [ 96 306 423]\n",
      "['2011' '.' '\\n' 'Morrison' 'AC' ',' 'Srinivas']\n",
      "['>' '.' '\\n' 'National' 'Renewable' 'Energy' 'Laboratory']\n",
      "['2013' '.' '\\n' 'Bandura' 'A.' 'Self' '-']\n",
      "462 False negatives: [222]\n",
      "['Bureau' '2000' '\\n' 'North' 'Dakota' 'Field' 'Production']\n",
      "469 False positives: [158]\n",
      "['https://www.epa.gov/ozone-layer-protection/ozone-depleting-substances'\n",
      " ';' '\\n' '[' 'accessed' 'on' '30.06.17']\n",
      "473 False negatives: [203]\n",
      "['CSI' ')' '\\n' '(' '8)' 'Rowe' ',']\n",
      "486 False positives: [547]\n",
      "['Cobre' '.' '\\n' 'DEPP' '16/2015' ',' '2015']\n",
      "492 False negatives: [362]\n",
      "['2018' '.' '\\n'\n",
      " 'http://www.who.int/immunization/diseases/poliomyelitis/endgame_objective2/oral_polio_vaccine/OPV-switch-quick-reference-summary-Aug2015.pdf?ua=1'\n",
      " 'accessed' 'on' '11']\n",
      "495 False negatives: [433]\n",
      "['(' '11):1567–73' '\\n'\n",
      " 'http://www.path.org/vaccineresources/files/PATH-Worldwide-Rotavirus-Vaccine-'\n",
      " 'Introduction' '-' 'Map']\n",
      "496 False negatives: [116 411]\n",
      "['A' 'Least' '\\n' '(' '4' ')' 'Squares']\n",
      "['Resources' 'Publication' '\\n' '(' '12' ')' 'D.K.']\n",
      "507 False negatives: [652]\n",
      "['for' 'the' '\\n' '[' '17' ']' 'CHEMKIN']\n",
      "517 False positives: [362]\n",
      "['NADPH' 'Oxidase' '\\n' '2' 'Regulates' 'NLRP3' 'Inflammasome']\n",
      "517 False negatives: [584]\n",
      "['Hong' ',' '\\n' 'r' ')' 'Sawanta' 'S.']\n",
      "532 False negatives: [346]\n",
      "['Sustainability' 'Protocol' '\\n' 'Gibbons' 'CB' '.' 'Coupling']\n",
      "534 False positives: [369]\n",
      "['.' 'Abstract' '\\n' '#' '1661' '.' 'doi.org/10.1016/j.bbi.2015.06.160']\n",
      "537 False negatives: [2183]\n",
      "['PRC' '.' '\\n' 'Brinks' 'JS' '.' 'Relationship']\n",
      "543 False positives: [517]\n",
      "['applications' '.' '\\n' 'John' 'Wiley' '&' 'Sons']\n",
      "544 False negatives: [215]\n",
      "[':' '.' '\\n' 'www.emedicine.com/ent/topic325.htm' '.' 'Accessed' 'March']\n",
      "548 False positives: [207 420]\n",
      "['/' 'bitkisel.zul' '\\n' '(' 'Date' 'of' 'access']\n",
      "['Cells' '.' '\\n' '13' '(' '2013' ')']\n",
      "550 False negatives: [455]\n",
      "['in' ':' '\\n'\n",
      " 'http://www.cecmed.cu/sites/default/files/adjuntos/Reglamentacion/res.no_.219.regulacion.m_82-15.pdf'\n",
      " '\\n' 'WMA' 'Declaration']\n",
      "553 False negatives: [194]\n",
      "['.' 'http://www.airsenseur.org/website/.' '\\n' 'JRC' 'Technical' 'report'\n",
      " ',']\n",
      "554 False negatives: [295 323]\n",
      "['\"' '.' '\\n' 'Ministry' 'of' 'the' 'Environment']\n",
      "['\"' '.' '\\n' 'National' 'Institute' 'for' 'Environmental']\n",
      "562 False negatives: [559]\n",
      "['.' 'Elsevier' '\\n' '(' '\\n' '15' ')']\n",
      "577 False negatives: [585]\n",
      "[')' ',' '\\n' '17' '.' 'Liao' ',']\n",
      "581 False positives: [1082]\n",
      "['York' ':' '\\n' 'John' 'Wiley' '&' 'Sons']\n",
      "588 False negatives: [151]\n",
      "['-' 'I.' '\\n' '4' ')' 'George' ',']\n",
      "622 False positives: [300]\n",
      "[')' '.' '\\n' 'E' '-' 'customization' '.']\n",
      "622 False negatives: [487]\n",
      "['Advances' 'in' '\\n' '(' '13' ')' 'Consumer']\n",
      "630 False negatives: [223]\n",
      "['USA' '.' '\\n' 'Power' 'Distribution' 'Box' 'Schematics']\n",
      "631 False negatives: [541]\n",
      "[',' '2006–7945' '\\n' '(' '15' ')' 'S.M.']\n",
      "657 False negatives: [359]\n",
      "['E' ')' '\\n' 'FAO' '/' 'WHO' '(']\n",
      "662 False positives: [31]\n",
      "['/' 'papers/' '\\n' 'The' 'Concept' 'of' 'a']\n",
      "664 False negatives: [275]\n",
      "['(' 'DC)1996' '\\n' 'ASTM' 'Standard' 'D4044' ',']\n",
      "676 False negatives: [274]\n",
      "['Illness' ',' '\\n' '9' ')' 'brain' 'N']\n",
      "681 False positives: [722]\n",
      "['Int' '.' '\\n' '13' '\\n' '(' '17']\n",
      "681 False negatives: [724]\n",
      "['\\n' '13' '\\n' '(' '17' ')' 'Si']\n",
      "684 False negatives: [  5  88 199]\n",
      "[']' 'http://www.internetworldstats.com/stats3.htm#asia' '\\n' '[' '2' ']'\n",
      " '\\n']\n",
      "['?' 'The' '\\n' '[' '5' ']' 'implications']\n",
      "['Wiggins' '’s' '\\n' '[' '9' ']' 'circumplex']\n",
      "701 False positives: [334]\n",
      "['2003' ')' '\\n' '25' '-' '35' '.']\n",
      "708 False negatives: [462]\n",
      "[',' 'Canada' '\\n' 'Ozkan' ',' 'E.' ',']\n",
      "718 False positives: [228]\n",
      "['or' 'http://pan.baidu.com/s/1kUSoaIr' '\\n' '.' '\\n' 'Ursano' ',']\n",
      "720 False negatives: [274]\n",
      "['USA' '.' '\\n' 'http://www.ich.org/products/guidelines.html' ',' '('\n",
      " 'Accessed']\n",
      "736 False negatives: [457]\n",
      "['U.' ',' '\\n' '(' '13' ')' 'Hayes']\n",
      "744 False negatives: [552]\n",
      "['.' 'Eng' '\\n' '14' ')' 'L.' 'Pozza']\n",
      "761 False positives: [1221]\n",
      "['California' '.' '\\n' 'Univ' '.' ',' 'Los']\n",
      "768 False negatives: [172 200 226 243 265]\n",
      "['oxides' 'in' '\\n' 'water' 'treatment' '.' 'Wat']\n",
      "['Chemicals' '.' '\\n'\n",
      " 'https://www.epa.gov/dwstandardsregulations/secondary-drinking-water-standards-guidance-nuisance-chemicals'\n",
      " '\\n' 'Ghosh' ',']\n",
      "['on' 'the' '\\n' 'leaching' 'of' 'arsenic' 'from']\n",
      "['46–59' '.' '\\n' 'Huling' ',' 'S.G.' ',']\n",
      "['on' 'Fenton' '\\n' 'oxidation' '.' 'Wat' '.']\n",
      "785 False positives: [ 354 1607]\n",
      "['municipalities' '.' '\\n' 'v' '1.0' ':' '2007-']\n",
      "[',' '18401' '\\n' 'Von' 'Karman' 'Avenue' ',']\n",
      "786 False negatives: [136]\n",
      "[',' 'June' '\\n' 'e' ')' '\\n' 'M.']\n",
      "809 False negatives: [299]\n",
      "[')' '.' '\\n' 'PermSelect' ',' 'PDMSXA' '–']\n",
      "819 False negatives: [1296 1320 1338]\n",
      "[',' 'online' '\\n' 'Gladstone' 'Regional' 'Council' '(']\n",
      "[',' 'online' '\\n' 'Gladstone' 'Regional' 'Council' '(']\n",
      "[',' 'online' '\\n' 'Intergovernmental' 'Panel' 'on' 'Climate']\n",
      "824 False positives: [175]\n",
      "['May;29(5):567–83' '.' '\\n' '[' 'cited' '2015' 'Jun']\n",
      "868 False negatives: [276]\n",
      "['2011' ',' '\\n' 'E.B.' 'Sandell' ',' 'Interscience']\n",
      "902 False negatives: [5]\n",
      "[']' '∗∗AUTOREF∗∗.' '\\n' '[' '\\n' '2' '\\n']\n",
      "909 False negatives: [301]\n",
      "[']' 'https://sam.nrel.gov/' '\\n' 'IBM' 'ILOG' ',' 'CPLEX']\n",
      "910 False positives: [633]\n",
      "['Summary' '.' '\\n' 'WASH-1400' '(' 'NUREG-75/014' ')']\n",
      "913 False negatives: [170]\n",
      "['others' ':' '\\n' 'Among' 'others' ':' '\\n']\n",
      "943 False positives: [547]\n",
      "['Biomet' '.' '\\n' '11' ',' '\\n' 'l-42']\n",
      "954 False negatives: [268]\n",
      "['2013' ',' '\\n' 'L.' 'Torgo' ',' 'Liacc-']\n",
      "975 False negatives: [1648 1669]\n",
      "['Program' '.' '\\n' 'Association' 'of' 'Hungarian' 'District']\n",
      "['03.03.2017' '.' '\\n' 'National' 'Institute' 'of' 'Standards']\n",
      "984 False positives: [420]\n",
      "['de' 'cogeneration' '\\n' '[' 'Properties' 'of' 'concretes']\n",
      "994 False positives: [1368]\n",
      "['edition' '.' '\\n' 'CLSI' 'document' 'M27-A3' '(']\n",
      "1002 False negatives: [1430]\n",
      "[':' '.' '\\n' '[' 'Editorial' ']' '.']\n",
      "1003 False negatives: [2509 2530 2546]\n",
      "['relevance' ')' '\\n' 'FAO' 'FAO' 'Fisheries' 'and']\n",
      "[':' '16/06/17' '\\n' 'Marine' '-' 'Harvest' 'Salmon']\n",
      "['January' '2018' '\\n' 'Oceana' ',' 'Oceana' 'reveals']\n",
      "1017 False positives: [1290]\n",
      "['Forestry' '.' '\\n' '(' '2012' ')' '.']\n",
      "1028 False positives: [233]\n",
      "['/' 'fe0b764da4f74b858eb55264572eab92.shtml' '\\n' '[' 'cited' '2017'\n",
      " 'Dec']\n",
      "1030 False positives: [548]\n",
      "['Networking' ',' '\\n' '16' ',' '413–418' '.']\n",
      "1035 False negatives: [1274]\n",
      "['organismen' '.' '\\n' 'Paik' ',' 'S.-M.' ',']\n",
      "1054 False negatives: [191]\n",
      "['Communication' '.' '\\n' '3' '.' 'Radiometry' ',']\n",
      "1069 False positives: [167]\n",
      "['Constituents' '.' '\\n' '(' 'Third' 'ed' '.']\n",
      "1071 False negatives: [3083 3218]\n",
      "['Sinica' '.' '\\n' 'Ibrahim' ',' 'H.' 'R.']\n",
      "['Gefluegelkunde' '.' '\\n' 'Boeije' ',' 'C.' 'S.']\n",
      "1076 False positives: [14]\n",
      "['.' '〈https://www.cipa.com/〉' '\\n' '(' 'accessed' '17.5.17' ')']\n",
      "1087 False negatives: [680]\n",
      "['Deliv' 'Rev.' '\\n' 'Larsson' 'P' ',' 'Alskar']\n",
      "1096 False negatives: [392]\n",
      "['calidad' '.' '\\n' 'Håkansson' ',' 'A.' ',']\n",
      "1118 False negatives: [289]\n",
      "['http://igosat.fr' '.' '\\n' 'UnivEarths' 'website' ':'\n",
      " 'http://www.univearths.fr/fr/accueil-2/.']\n",
      "1128 False negatives: [365 387]\n",
      "['Texas' '.' '\\n' 'Mind' '&' 'Society' ',']\n",
      "['-' '2' '\\n' 'Microsoft' '(' '2016' ')']\n",
      "1131 False negatives: [196]\n",
      "[',' 'M.' '\\n' ']' 'Peralez' ',' 'J.']\n",
      "1135 False positives: [342]\n",
      "['Basis' '.' '\\n' 'Contribution' 'of' 'Working' 'Group']\n",
      "1138 False negatives: [2759]\n",
      "[',' 'J.K.' '\\n' 'SHIELDS' ',' 'M.' '2006']\n",
      "1159 False positives: [484]\n",
      "[',' 'p.' '\\n' '8' '.' '(' 'in']\n",
      "1173 False negatives: [1704]\n",
      "['Polyhedron' '117' '\\n' '2016' ')' '224–230' '.']\n",
      "1182 False positives: [697]\n",
      "[','\n",
      " 'www4.unfccc.int/submissions/INDC/Submission%20Pages/submissions.aspx'\n",
      " '\\n' '[' 'accessed' '28' 'October']\n",
      "1208 False positives: [602]\n",
      "['design' '.' '\\n' 'Gero' 'ETyugu' 'Eds' 'Form']\n",
      "1221 False negatives: [349]\n",
      "['process' '.' '\\n' 'Valesini' ',' 'G.' ',']\n",
      "1227 False negatives: [417 444 477 502 520 550]\n",
      "['hardened' 'mortar' '\\n' 'BRITISH' 'STANDARD' ',' 'BS']\n",
      "['open' 'porosity' '\\n' 'BRITISH' 'STANDARD' ',' 'BS']\n",
      "['hardened' 'mortar' '\\n' 'ASTM' 'INTERNATIONAL' ',' 'Designation']\n",
      "['Room' 'Method' '\\n' 'ASTM' 'INTERNATIONAL' ',' 'Designation']\n",
      "['Environmental' 'Acoustics' '\\n' 'BRITISH' 'STANDARD' ',' 'BS']\n",
      "['test' 'mortars' '\\n' 'BRITISH' 'STANDARD' ',' 'BS']\n",
      "1251 False positives: [425]\n",
      "['2015' ')' '\\n' '1' '-' '11' '.']\n",
      "1259 False positives: [125]\n",
      "[',' 'Abschnitt' '\\n' '5' '.' '\\n' 'd']\n",
      "1260 False positives: [24 48]\n",
      "['71' '.' '\\n' 'M.' 'Melník' ',' 'M.']\n",
      "['Comen' '.' '\\n' '56(2009' ')' '5–7' '.']\n",
      "1260 False negatives: [1694]\n",
      "['2017.06.20' '.' '\\n' 'Pipitone' 'E' ',' 'Beccari']\n",
      "1278 False negatives: [ 53 563]\n",
      "['passengers' 'who' '\\n' '3' ')' 'react' '.']\n",
      "['the' 'effects' '\\n' '16' ')' 'of' 'attentional']\n",
      "1299 False negatives: [278]\n",
      "['.' 'c.' '\\n' '9' '.' 'Todrank' ',']\n",
      "1320 False negatives: [264]\n",
      "['-' 'nih.gov/.' '\\n' 'Yaws' 'C.' 'Thermophysical' 'properties']\n",
      "1328 False negatives: [247]\n",
      "['191–233' '.' '\\n' 'IPCC' '.' '2013' '.']\n",
      "1331 False negatives: [2477]\n",
      "[']' '.' '\\n' 'Department' 'of' 'Energy' '.']\n",
      "1343 False positives: [1141]\n",
      "['\\n' ')' '\\n' 'mice' ':' 'a' 'radioresistant']\n",
      "1372 False negatives: [1784]\n",
      "['Equorum' '.' '\\n' 'Solleysel' 'J' '(' '1664']\n",
      "1376 False negatives: [421]\n",
      "['Retrieved' 'from' '\\n' 'Araújo' ',' 'L.' 'C.']\n",
      "1378 False negatives: [347]\n",
      "['for' 'high' '\\n' '[' '9' ']' 'Zahra']\n",
      "1409 False negatives: [259]\n",
      "['2016' '.' '\\n' 'Lavid' 'M' 'and' 'Berlad']\n",
      "1415 False positives: [783]\n",
      "['85–110' '.' '\\n' 'doi:10.1007/978' '-' '1' '-']\n",
      "1452 False negatives: [5]\n",
      "[')' 'http://www.mathworks.com/discovery/genetic-algorithm.html' '\\n' '('\n",
      " '2' ')' 'Cordell']\n",
      "1468 False negatives: [310]\n",
      "['Pharmaceutical' 'Industry' '\\n' 'Brannock' ',' 'J.' 'W.']\n",
      "1480 False negatives: [350]\n",
      "['Farinograph' '.' '\\n' 'Sensory' 'analysis' '(' '2016']\n",
      "1483 False positives: [38]\n",
      "['Ph.D.' 'thesis' '\\n' '(' '2002' ')' '.']\n",
      "1493 False negatives: [2222]\n",
      "['2013' '.' '\\n' 'Network' 'REP' '.' 'Renewables']\n",
      "1495 False negatives: [236]\n",
      "[','\n",
      " 'https://factfinder.census.gov/faces/nav/jsf/pages/community_facts.xhtml?src=bkmk'\n",
      " '\\n' '2009' 'Residential' 'Energy' 'Consumption']\n",
      "1499 False negatives: [120]\n",
      "['\\n' ',' '\\n' 'f' ')' '\\n'\n",
      " 'https://www.persistencemarketresearch.com/market-research/absorption-chillers-market.asp']\n",
      "1501 False negatives: [552]\n",
      "['United' 'States' '\\n' '(' '15' ')' 'Alwan']\n",
      "1520 False positives: [68]\n",
      "[';' '2017' '\\n' '[' 'accessed' '6' 'November']\n",
      "1526 False negatives: [98]\n",
      "[',' 'fluid' '\\n' '[' '3' ']' 'intelligence']\n",
      "1529 False positives: [87]\n",
      "['http://biomassmagazine.com/articles/13866/uk' '.' '\\n' '[' 'accessed'\n",
      " 'Dec.08' ',']\n",
      "1549 False negatives: [331]\n",
      "['neural' 'networks' '\\n' 'Gochis' ',' 'D.' 'J.']\n",
      "1552 False positives: [871]\n",
      "[':' 'Simkovich' '\\n' 'G.' ',' 'Stubican' 'V.S.']\n",
      "1553 False negatives: [1747]\n",
      "['Applications' '.' '\\n' 'SAGE' '-' 'WHO' '.']\n",
      "1565 False negatives: [121]\n",
      "['unpublished' '.' '\\n' 'http://bondmachine.fisica.unipg.it' '.' '\\n'\n",
      " 'Mohammad']\n",
      "1569 False positives: [524]\n",
      "['2017' '.' '\\n' 'Alcohol' ',' 'tabaco' 'y']\n",
      "1570 False positives: [307]\n",
      "['.' 'https://www.gams.com/24.8/docs/solvers/cplex/index.html' '\\n' '('\n",
      " 'accessed' 'October' '31']\n",
      "1571 False negatives: [609]\n",
      "['General' 'Test' '\\n' '17' ')' 'USEPA' '.']\n",
      "1573 False positives: [122]\n",
      "['Rights' ',' '\\n' '8' 'December' ',' 'Para']\n",
      "1575 False negatives: [451]\n",
      "['600–608' '.' '\\n' 'Bonnie' 'Brenseke' ',' 'M.']\n",
      "1582 False positives: [49]\n",
      "['<'\n",
      " 'http://www.merckmanuals.com/vet/print/bloodborneorganisms/plasmodium_infection_in'\n",
      " '\\n' 'poult' '>' '\\n' '\\n']\n",
      "1611 False negatives: [470]\n",
      "[',' 'U.S.' '\\n' '(' '13' ')' '\\n']\n",
      "1620 False negatives: [297]\n",
      "[',' 'NY' '\\n' 'ANSYS' '.' 'Finite' 'element']\n",
      "1621 False negatives: [448]\n",
      "['version' ';' '\\n' '15' '.' 'Ji' ',']\n",
      "1633 False positives: [128]\n",
      "['the' 'nucleophile' '\\n' '(' 'MeOH' ',' 'AcOH']\n",
      "1638 False negatives: [290]\n",
      "[',' 'Dunod' '\\n' '9' ')' 'Stephan' ',']\n",
      "1685 False positives: [654]\n",
      "['.' '2009;Chapter' '\\n' '15' ':' 'Unit' '15C']\n",
      "1689 False negatives: [304 327]\n",
      "['Vaccine' '.' '\\n' 'Mpabalwani' 'EM' '.' 'Sustained']\n",
      "['Vaccine' '.' '\\n' 'Enweronu' '-' 'Laryea' 'C.']\n",
      "1695 False positives: [191]\n",
      "['index.html' '>' '\\n' '(' 'accessed' 'February' '2010']\n",
      "1696 False negatives: [129]\n",
      "['▪' '▪' '\\n' '6' '.' 'Hong' ',']\n",
      "1710 False negatives: [376]\n",
      "['Research' 'Letters' '\\n' 'MacKinnon' ',' 'B.' ',']\n",
      "1715 False positives: [209 462]\n",
      "[')' '.' '\\n' '(' 'Retrieved' 'from'\n",
      " 'http://www.bjs.gov/content/pub/pdf/dcf.pdf']\n",
      "[')' '.' '\\n' '[' 'On' 'line' ']']\n",
      "1718 False positives: [2613]\n",
      "['/' 'papers/' '\\n' 'The' 'Concept' 'of' 'a']\n",
      "1731 False negatives: [68]\n",
      "['.' '655' '\\n' '(' '3' ')' '2003']\n",
      "1744 False positives: [320]\n",
      "[':'\n",
      " 'http://www.enea.it/it/Ricerca_sviluppo/documenti/ricerca-di-sistema-elettrico/accumulo/2012/rds-2013-255.pdf'\n",
      " '\\n' '(' 'accessed' '11/10/2017' ')']\n",
      "1747 False positives: [161]\n",
      "['2015' '.' '\\n' 'Schmidt' 'forciert' 'Forschung' 'zum']\n",
      "1754 False negatives: [122]\n",
      "['Dichlorvos' 'Environmental' '\\n' 'Assessment' ','\n",
      " 'https://apvma.gov.au/sites/default/files/publication/15081-dichlorvos'\n",
      " 'enviro.pdf']\n",
      "1757 False negatives: [2017]\n",
      "['Society' '.' '\\n' 'G.P.' 'Nagaraju' ',' 'S.F.']\n"
     ]
    }
   ],
   "source": [
    "count_valid = 0\n",
    "for ind in range(len(valid_preds)):\n",
    "    pred = valid_preds[ind]\n",
    "    true = valid_dict['labels'][ind]\n",
    "    if (true == pred).all():\n",
    "        pass\n",
    "    else:\n",
    "        count_valid += 1\n",
    "        fp_ind = np.where((pred == 1) & (true == 0))[0]\n",
    "        fn_ind = np.where((pred == 0) & (true == 1))[0]\n",
    "        if len(fp_ind) > 0:\n",
    "            #print(fp_ind)\n",
    "            print(ind, 'False positives:', fp_ind)\n",
    "            for x in fp_ind:\n",
    "                #print(x)\n",
    "                print(np.array(xvalid[ind].split(\" \"))[max(0, x-3):x+4])\n",
    "        if len(fn_ind) > 0:\n",
    "            print(ind, 'False negatives:', fn_ind)\n",
    "            for x in fn_ind:\n",
    "                print(np.array(xvalid[ind].split(\" \"))[max(0, x-3):x+4])"
   ]
  },
  {
   "cell_type": "code",
   "execution_count": null,
   "metadata": {},
   "outputs": [],
   "source": []
  },
  {
   "cell_type": "markdown",
   "metadata": {},
   "source": [
    "### Analysis of test result"
   ]
  },
  {
   "cell_type": "code",
   "execution_count": 29,
   "metadata": {},
   "outputs": [
    {
     "name": "stdout",
     "output_type": "stream",
     "text": [
      "CPU times: user 16.1 s, sys: 2.1 s, total: 18.2 s\n",
      "Wall time: 13.1 s\n"
     ]
    }
   ],
   "source": [
    "%%time\n",
    "#keras_model = mlflow.keras.load_model(\"s3://caps-s3-mlflow/artifacts/4/e814b3fd2d854c1a83c5998cea627b59/artifacts/models\")\n",
    "if model_config['aux_feats']['use']:\n",
    "    test_probs = model.predict([test_dict['lstm_feats'], test_aux])\n",
    "else:\n",
    "    test_probs = model.predict(test_dict['lstm_feats'])\n",
    "test_probs = test_probs.reshape(test_probs.shape[0], test_probs.shape[1])\n",
    "test_preds = np.where(test_probs > 0.5, 1, 0)\n",
    "\n",
    "test_true_ls = [i[0:len(j.split(\" \"))].tolist() for i,j in zip(test_dict['labels'], sent_tags_test)]\n",
    "test_pred_ls = [i[0:len(j.split(\" \"))].tolist() for i,j in zip(test_preds, sent_tags_test)]\n",
    "result_test = evaluate(test_true_ls, test_pred_ls)"
   ]
  },
  {
   "cell_type": "code",
   "execution_count": 30,
   "metadata": {},
   "outputs": [
    {
     "data": {
      "text/plain": [
       "{'count': 1953,\n",
       " 'mean_ser': 0.002312233117391255,\n",
       " 'mean_jer': 0.0023378004500377767,\n",
       " 'mean_acc': 0.9998626190315792,\n",
       " 'num_mistakes_seq': 177,\n",
       " 'num_mistakes_all': 215}"
      ]
     },
     "execution_count": 30,
     "metadata": {},
     "output_type": "execute_result"
    }
   ],
   "source": [
    "result_test"
   ]
  },
  {
   "cell_type": "code",
   "execution_count": 25,
   "metadata": {},
   "outputs": [
    {
     "data": {
      "text/plain": [
       "{'count': 1953,\n",
       " 'mean_ser': 0.001415943645218744,\n",
       " 'mean_jer': 0.0038270965229455964,\n",
       " 'mean_acc': 0.999847376511478,\n",
       " 'num_mistakes_seq': 193,\n",
       " 'num_mistakes_all': 226}"
      ]
     },
     "execution_count": 25,
     "metadata": {},
     "output_type": "execute_result"
    }
   ],
   "source": [
    "result_test"
   ]
  },
  {
   "cell_type": "code",
   "execution_count": 20,
   "metadata": {},
   "outputs": [
    {
     "data": {
      "text/plain": [
       "{'count': 1953,\n",
       " 'mean_ser': 0.0013354845998113974,\n",
       " 'mean_jer': 0.004599574846260113,\n",
       " 'mean_acc': 0.9998220837849977,\n",
       " 'num_mistakes_seq': 197,\n",
       " 'num_mistakes_all': 228}"
      ]
     },
     "execution_count": 20,
     "metadata": {},
     "output_type": "execute_result"
    }
   ],
   "source": [
    "result_test"
   ]
  },
  {
   "cell_type": "code",
   "execution_count": 29,
   "metadata": {},
   "outputs": [
    {
     "data": {
      "text/plain": [
       "{'count': 1953,\n",
       " 'mean_ser': 0.0013761586111869619,\n",
       " 'mean_jer': 0.006408854919855137,\n",
       " 'mean_acc': 0.9997688756633113,\n",
       " 'num_mistakes_seq': 247,\n",
       " 'num_mistakes_all': 303}"
      ]
     },
     "execution_count": 29,
     "metadata": {},
     "output_type": "execute_result"
    }
   ],
   "source": [
    "result_test"
   ]
  },
  {
   "cell_type": "code",
   "execution_count": null,
   "metadata": {},
   "outputs": [],
   "source": []
  },
  {
   "cell_type": "code",
   "execution_count": 46,
   "metadata": {},
   "outputs": [
    {
     "data": {
      "text/plain": [
       "{'count': 1953,\n",
       " 'mean_ser': 0.001415943645218744,\n",
       " 'mean_jer': 0.0038270965229455964,\n",
       " 'mean_acc': 0.9999700286438639,\n",
       " 'num_mistakes': 193}"
      ]
     },
     "execution_count": 46,
     "metadata": {},
     "output_type": "execute_result"
    }
   ],
   "source": [
    "result_test ## 1 lstm (100 units) and spacy and parscit feats added before with dropout (0.2)"
   ]
  },
  {
   "cell_type": "code",
   "execution_count": 48,
   "metadata": {},
   "outputs": [],
   "source": []
  },
  {
   "cell_type": "code",
   "execution_count": 33,
   "metadata": {},
   "outputs": [
    {
     "name": "stderr",
     "output_type": "stream",
     "text": [
      "2020/08/17 15:26:20 WARNING mlflow.models.model: Logging model metadata to the tracking server has failed, possibly due older server version. The model artifacts have been logged successfully under s3://caps-s3-mlflow/artifacts/4/977e2cc7b36040f79dde3d6303d26952/artifacts. In addition to exporting model artifacts, MLflow clients 1.7.0 and above attempt to record model metadata to the  tracking store. If logging to a mlflow server via REST, consider  upgrading the server version to MLflow 1.7.0 or above.\n"
     ]
    }
   ],
   "source": [
    "tags = {'dataset':'cs_mixed_20k', 'data_split':'test', 'version':2} \n",
    "del model_config['embedding']['matrix'] \n",
    "opt = model_config['optimizer']\n",
    "model_config['optimizer'] = str(opt.get_config())\n",
    "log_mlflow_results(model, result_test, feat_config, model_config, tags)"
   ]
  },
  {
   "cell_type": "code",
   "execution_count": null,
   "metadata": {},
   "outputs": [],
   "source": [
    "count = 0\n",
    "for ind in range(len(test_preds)):\n",
    "    pred = test_preds[ind]\n",
    "    true = new_y_test_enc[ind]\n",
    "    if (true == pred).all():\n",
    "        pass\n",
    "    else:\n",
    "        count += 1\n",
    "        fp_ind = np.where((pred == 1) & (true == 0))[0]\n",
    "        fn_ind = np.where((pred == 0) & (true == 1))[0]\n",
    "        if len(fp_ind) > 0:\n",
    "            #print(fp_ind)\n",
    "            print(ind, 'False positives:', fp_ind)\n",
    "            for x in fp_ind:\n",
    "                #print(x)\n",
    "                print(np.array(new_X_test[ind])[max(0, x-3):x+4])\n",
    "        if len(fn_ind) > 0:\n",
    "            print(ind, 'False negatives:', fn_ind)\n",
    "            for x in fn_ind:\n",
    "                print(np.array(new_X_test[ind])[max(0, x-3):x+4])"
   ]
  },
  {
   "cell_type": "code",
   "execution_count": 78,
   "metadata": {},
   "outputs": [],
   "source": [
    "del eval_dict1"
   ]
  },
  {
   "cell_type": "markdown",
   "metadata": {},
   "source": [
    "### Evaluation of eval dataset"
   ]
  },
  {
   "cell_type": "code",
   "execution_count": null,
   "metadata": {},
   "outputs": [],
   "source": [
    "#keras_model = mlflow.keras.load_model(\"s3://caps-s3-mlflow/artifacts/4/e42c50d933ff49fb826dfe5874fa6d51/artifacts/models\")"
   ]
  },
  {
   "cell_type": "code",
   "execution_count": 31,
   "metadata": {},
   "outputs": [],
   "source": [
    "if model_config['aux_feats']['use']:\n",
    "    eval1_probs = model.predict([eval1_dict['lstm_feats'], eval1_aux])\n",
    "else:\n",
    "    eval1_probs = model.predict(eval1_dict['lstm_feats'])\n",
    "eval1_probs = eval1_probs.reshape(eval1_probs.shape[0], eval1_probs.shape[1])\n",
    "eval1_preds = np.where(eval1_probs > 0.5, 1, 0)\n",
    "\n",
    "\n",
    "eval1_true_ls = [i[0:len(j.split(\" \"))].tolist() for i,j in zip(eval1_dict['labels'], sent_tags_eval1)]\n",
    "eval1_pred_ls = [i[0:len(j.split(\" \"))].tolist() for i,j in zip(eval1_preds, sent_tags_eval1)]\n",
    "result_eval1 = evaluate(eval1_true_ls, eval1_pred_ls)"
   ]
  },
  {
   "cell_type": "code",
   "execution_count": 32,
   "metadata": {},
   "outputs": [
    {
     "data": {
      "text/plain": [
       "{'count': 1328,\n",
       " 'mean_ser': 4.210459340312366e-05,\n",
       " 'mean_jer': 0.007138451427790611,\n",
       " 'mean_acc': 0.9998315270762984,\n",
       " 'num_mistakes_seq': 116,\n",
       " 'num_mistakes_all': 393}"
      ]
     },
     "execution_count": 32,
     "metadata": {},
     "output_type": "execute_result"
    }
   ],
   "source": [
    "result_eval1"
   ]
  },
  {
   "cell_type": "code",
   "execution_count": 27,
   "metadata": {},
   "outputs": [
    {
     "data": {
      "text/plain": [
       "{'count': 1328,\n",
       " 'mean_ser': 0.0,\n",
       " 'mean_jer': 0.016687219743176895,\n",
       " 'mean_acc': 0.9996126436724514,\n",
       " 'num_mistakes_seq': 309,\n",
       " 'num_mistakes_all': 985}"
      ]
     },
     "execution_count": 27,
     "metadata": {},
     "output_type": "execute_result"
    }
   ],
   "source": [
    "result_eval1"
   ]
  },
  {
   "cell_type": "code",
   "execution_count": 22,
   "metadata": {},
   "outputs": [
    {
     "data": {
      "text/plain": [
       "{'count': 1328,\n",
       " 'mean_ser': 2.19963007681044e-05,\n",
       " 'mean_jer': 0.006529217863205044,\n",
       " 'mean_acc': 0.9998463083348137,\n",
       " 'num_mistakes_seq': 117,\n",
       " 'num_mistakes_all': 353}"
      ]
     },
     "execution_count": 22,
     "metadata": {},
     "output_type": "execute_result"
    }
   ],
   "source": [
    "result_eval1"
   ]
  },
  {
   "cell_type": "code",
   "execution_count": 32,
   "metadata": {},
   "outputs": [
    {
     "data": {
      "text/plain": [
       "{'count': 1328,\n",
       " 'mean_ser': 4.210459340312366e-05,\n",
       " 'mean_jer': 0.009084201992764636,\n",
       " 'mean_acc': 0.9997885001704157,\n",
       " 'num_mistakes_seq': 123,\n",
       " 'num_mistakes_all': 495}"
      ]
     },
     "execution_count": 32,
     "metadata": {},
     "output_type": "execute_result"
    }
   ],
   "source": [
    "result_eval1"
   ]
  },
  {
   "cell_type": "code",
   "execution_count": null,
   "metadata": {},
   "outputs": [],
   "source": []
  },
  {
   "cell_type": "code",
   "execution_count": null,
   "metadata": {},
   "outputs": [],
   "source": [
    "eval_probs2 = model.predict([eval_dict2['lstm_feats'], eval_dict2['spacy_num_feats']])\n",
    "eval_probs2 = eval_probs2.reshape(eval_probs2.shape[0], eval_probs2.shape[1])\n",
    "eval_preds2 = np.where(eval_probs2 > 0.5, 1, 0)\n",
    "result_eval2 = evaluate(eval_dict2['labels'].tolist(), eval_preds2.tolist())"
   ]
  },
  {
   "cell_type": "code",
   "execution_count": 40,
   "metadata": {},
   "outputs": [],
   "source": [
    "### Visualize errors"
   ]
  },
  {
   "cell_type": "code",
   "execution_count": null,
   "metadata": {},
   "outputs": [],
   "source": [
    "count_valid = 0\n",
    "for ind in range(len(eval1_aux)):\n",
    "    pred = eval_preds1[ind]\n",
    "    true = eval_dict1['labels'][ind]\n",
    "    if (true == pred).all():\n",
    "        pass\n",
    "    else:\n",
    "        count_valid += 1\n",
    "        fp_ind = np.where((pred == 1) & (true == 0))[0]\n",
    "        fn_ind = np.where((pred == 0) & (true == 1))[0]\n",
    "        if len(fp_ind) > 0:\n",
    "            #print(fp_ind)\n",
    "            print(ind, 'False positives:', fp_ind)\n",
    "            for x in fp_ind:\n",
    "                #print(x)\n",
    "                print(np.array(sentences_eval1[ind].split(\" \"))[max(0, x-3):x+4])\n",
    "        if len(fn_ind) > 0:\n",
    "            print(ind, 'False negatives:', fn_ind)\n",
    "            for x in fn_ind:\n",
    "                print(np.array(sentences_eval1[ind].split(\" \"))[max(0, x-3):x+4])"
   ]
  },
  {
   "cell_type": "code",
   "execution_count": null,
   "metadata": {},
   "outputs": [],
   "source": [
    "### Save eval results to file"
   ]
  },
  {
   "cell_type": "code",
   "execution_count": 60,
   "metadata": {},
   "outputs": [
    {
     "data": {
      "text/plain": [
       "3861"
      ]
     },
     "execution_count": 60,
     "metadata": {},
     "output_type": "execute_result"
    }
   ],
   "source": [
    "min(len(sentences_eval1[ind].split(\" \")), maxlen)"
   ]
  },
  {
   "cell_type": "code",
   "execution_count": 41,
   "metadata": {},
   "outputs": [],
   "source": [
    "ind = 0\n",
    "eval_path_dict = {}\n",
    "for fpath in os.listdir(eval_without_intra_newline_path):\n",
    "    if fpath not in ['data-gen-config.json', 'data_generation_stats.csv'] and \".csv\" in fpath:\n",
    "        eval_path_dict[ind] = fpath\n",
    "        ind += 1"
   ]
  },
  {
   "cell_type": "code",
   "execution_count": 66,
   "metadata": {},
   "outputs": [
    {
     "data": {
      "text/plain": [
       "3861"
      ]
     },
     "execution_count": 66,
     "metadata": {},
     "output_type": "execute_result"
    }
   ],
   "source": [
    "min(len(sentences_eval1[75].split(\" \")), maxlen)"
   ]
  },
  {
   "cell_type": "code",
   "execution_count": 65,
   "metadata": {},
   "outputs": [
    {
     "data": {
      "text/plain": [
       "3861"
      ]
     },
     "execution_count": 65,
     "metadata": {},
     "output_type": "execute_result"
    }
   ],
   "source": [
    "len(eval_preds1[75])"
   ]
  },
  {
   "cell_type": "code",
   "execution_count": 71,
   "metadata": {},
   "outputs": [],
   "source": [
    "eval_folder_path = '/nlp/eval_data_retok_predictions_f3a9cc61e30f460499b95a4c2b7957ae'\n",
    "if not os.path.exists(eval_folder_path):\n",
    "    os.makedirs(eval_folder_path)\n",
    "for ind in range(len(eval_preds1)):\n",
    "    #print(ind)\n",
    "    df = pd.DataFrame([], columns=['x', 'y'])\n",
    "    seq_len = min(len(sentences_eval1[ind].split(\" \")), maxlen)\n",
    "    df['x'] = sentences_eval1[ind].split(\" \")[0:seq_len]\n",
    "    df['y'] = eval_preds1[ind][0:seq_len]\n",
    "    df.to_csv(os.path.join(eval_folder_path, eval_path_dict[ind][0:-4] + '_pred.csv'))"
   ]
  },
  {
   "cell_type": "code",
   "execution_count": 34,
   "metadata": {},
   "outputs": [
    {
     "name": "stderr",
     "output_type": "stream",
     "text": [
      "2020/08/17 15:26:46 WARNING mlflow.models.model: Logging model metadata to the tracking server has failed, possibly due older server version. The model artifacts have been logged successfully under s3://caps-s3-mlflow/artifacts/4/1196f4fb37e74e3a9c88482f4c7c71b8/artifacts. In addition to exporting model artifacts, MLflow clients 1.7.0 and above attempt to record model metadata to the  tracking store. If logging to a mlflow server via REST, consider  upgrading the server version to MLflow 1.7.0 or above.\n"
     ]
    }
   ],
   "source": [
    "tags = {'dataset':'cs_mixed_20k', 'data_split':'eval_with_intra_newline_path','version':2}\n",
    "#opt = model_config['optimizer']\n",
    "#model_config['optimizer'] = str(opt.get_config())\n",
    "log_mlflow_results(model, result_eval1, feat_config, model_config, tags)"
   ]
  },
  {
   "cell_type": "code",
   "execution_count": null,
   "metadata": {},
   "outputs": [],
   "source": [
    "sentences_train[0][0:500]"
   ]
  },
  {
   "cell_type": "code",
   "execution_count": null,
   "metadata": {},
   "outputs": [],
   "source": [
    "from feature.ParsCitLSTM import ParsCitLSTM"
   ]
  },
  {
   "cell_type": "code",
   "execution_count": null,
   "metadata": {},
   "outputs": [],
   "source": []
  },
  {
   "cell_type": "code",
   "execution_count": null,
   "metadata": {},
   "outputs": [],
   "source": [
    "#df = pd.read_csv('/nlp/parscit/data.csv')"
   ]
  },
  {
   "cell_type": "code",
   "execution_count": null,
   "metadata": {},
   "outputs": [],
   "source": [
    "df = pd.DataFrame([])\n",
    "df['text'] = np.array(sentences_train[0:100], dtype='object')"
   ]
  },
  {
   "cell_type": "code",
   "execution_count": null,
   "metadata": {},
   "outputs": [],
   "source": [
    "%%time\n",
    "df_out = model.dask_predict(df)"
   ]
  },
  {
   "cell_type": "code",
   "execution_count": null,
   "metadata": {},
   "outputs": [],
   "source": [
    "#df_out"
   ]
  },
  {
   "cell_type": "code",
   "execution_count": null,
   "metadata": {},
   "outputs": [],
   "source": [
    "# %%time\n",
    "# import dask.dataframe as dd\n",
    "# parscit_df = model.get_parscit_dask(df, blocksize=10)"
   ]
  },
  {
   "cell_type": "code",
   "execution_count": null,
   "metadata": {},
   "outputs": [],
   "source": [
    "len(sentences_train[0].split(\" \"))"
   ]
  },
  {
   "cell_type": "code",
   "execution_count": null,
   "metadata": {},
   "outputs": [],
   "source": [
    "%%time\n",
    "x,y,z = model.predict(sentences_train[0])"
   ]
  },
  {
   "cell_type": "code",
   "execution_count": null,
   "metadata": {},
   "outputs": [],
   "source": [
    "# for i,j in zip(x,y):\n",
    "#     print(i,j)"
   ]
  },
  {
   "cell_type": "code",
   "execution_count": null,
   "metadata": {},
   "outputs": [],
   "source": []
  },
  {
   "cell_type": "markdown",
   "metadata": {},
   "source": [
    "### One predict test"
   ]
  },
  {
   "cell_type": "code",
   "execution_count": null,
   "metadata": {},
   "outputs": [],
   "source": [
    "# model = load_model(c['model_file'])\n",
    "# model._name='parscit_model'"
   ]
  },
  {
   "cell_type": "code",
   "execution_count": null,
   "metadata": {},
   "outputs": [],
   "source": [
    "ls = np.random.randint(10, size=(1000))"
   ]
  },
  {
   "cell_type": "code",
   "execution_count": null,
   "metadata": {},
   "outputs": [],
   "source": [
    "df = pd.DataFrame([], columns=['num'])\n",
    "df['num'] = ls"
   ]
  },
  {
   "cell_type": "code",
   "execution_count": null,
   "metadata": {},
   "outputs": [],
   "source": [
    "%%time\n",
    "import pandas as pd\n",
    "train_parscit = pd.read_pickle('/nlp/temp/train_parscit.pickle')\n",
    "valid_parscit = pd.read_pickle('/nlp/temp/valid_parscit.pickle')\n",
    "test_parscit = pd.read_pickle('/nlp/temp/test_parscit.pickle')\n",
    "eval1_parscit = pd.read_pickle('/nlp/temp/eval1_parscit.pickle')\n",
    "eval2_parscit = pd.read_pickle('/nlp/temp/eval2_parscit.pickle')"
   ]
  },
  {
   "cell_type": "code",
   "execution_count": null,
   "metadata": {},
   "outputs": [],
   "source": [
    "def pad_dummy_feats(parscit, maxlen):\n",
    "    parscit_feats = list(parscit['parscit_feat']) \n",
    "    parscit_padded = []\n",
    "    for ind in range(len(parscit_feats)):\n",
    "        parscit_mask = np.zeros((maxlen, 14), dtype='int8')\n",
    "        if len(parscit_feats[ind]) <= maxlen:\n",
    "            parscit_mask[0:len(parscit_feats[ind]), :] = parscit_feats[ind][:]\n",
    "        else:\n",
    "            parscit_mask[:] = parscit_feats[ind][0:maxlen,:]\n",
    "\n",
    "        parscit_padded.append(parscit_mask)\n",
    "    parscit_arr = np.array([i.tolist() for i in parscit_padded])\n",
    "    return parscit_arr"
   ]
  },
  {
   "cell_type": "code",
   "execution_count": null,
   "metadata": {},
   "outputs": [],
   "source": []
  },
  {
   "cell_type": "code",
   "execution_count": null,
   "metadata": {},
   "outputs": [],
   "source": []
  },
  {
   "cell_type": "code",
   "execution_count": 59,
   "metadata": {},
   "outputs": [],
   "source": [
    "# %%time\n",
    "# np.save('/nlp/temp/train_dict_labels.npy', train_dict['labels'])\n",
    "# np.save('/nlp/temp/train_dict_lstm_feats.npy', train_dict['lstm_feats'])\n",
    "# np.save('/nlp/temp/train_dict_spacy_feats.npy', train_dict['spacy_num_feats'])\n",
    "\n",
    "# np.save('/nlp/temp/valid_dict_labels.npy', valid_dict['labels'])\n",
    "# np.save('/nlp/temp/valid_dict_lstm_feats.npy', valid_dict['lstm_feats'])\n",
    "# np.save('/nlp/temp/valid_dict_spacy_feats.npy', valid_dict['spacy_num_feats'])\n",
    "\n",
    "# np.save('/nlp/temp/test_dict_labels.npy', test_dict['labels'])\n",
    "# np.save('/nlp/temp/test_dict_lstm_feats.npy', test_dict['lstm_feats'])\n",
    "# np.save('/nlp/temp/test_dict_spacy_feats.npy', test_dict['spacy_num_feats'])"
   ]
  },
  {
   "cell_type": "code",
   "execution_count": 71,
   "metadata": {},
   "outputs": [],
   "source": [
    "np.save('/nlp/temp/eval1_dict_labels.npy', eval1_dict['labels'])\n",
    "np.save('/nlp/temp/eval1_dict_lstm_feats.npy', eval1_dict['lstm_feats'])\n",
    "np.save('/nlp/temp/eval1_dict_spacy_feats.npy', eval1_dict['spacy_num_feats'])"
   ]
  },
  {
   "cell_type": "code",
   "execution_count": null,
   "metadata": {},
   "outputs": [],
   "source": []
  },
  {
   "cell_type": "code",
   "execution_count": null,
   "metadata": {},
   "outputs": [],
   "source": []
  }
 ],
 "metadata": {
  "kernelspec": {
   "display_name": "Python 3",
   "language": "python",
   "name": "python3"
  },
  "language_info": {
   "codemirror_mode": {
    "name": "ipython",
    "version": 3
   },
   "file_extension": ".py",
   "mimetype": "text/x-python",
   "name": "python",
   "nbconvert_exporter": "python",
   "pygments_lexer": "ipython3",
   "version": "3.7.7"
  }
 },
 "nbformat": 4,
 "nbformat_minor": 4
}
