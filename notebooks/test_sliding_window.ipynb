{
 "cells": [
  {
   "cell_type": "code",
   "execution_count": 394,
   "metadata": {},
   "outputs": [
    {
     "name": "stdout",
     "output_type": "stream",
     "text": [
      "The autoreload extension is already loaded. To reload it, use:\n",
      "  %reload_ext autoreload\n"
     ]
    }
   ],
   "source": [
    "%load_ext autoreload\n",
    "%autoreload 2"
   ]
  },
  {
   "cell_type": "code",
   "execution_count": 78,
   "metadata": {},
   "outputs": [],
   "source": [
    "### for reproducible experiments\n",
    "from numpy.random import seed\n",
    "seed(42)\n",
    "from tensorflow.random import set_seed\n",
    "set_seed(42)"
   ]
  },
  {
   "cell_type": "code",
   "execution_count": 395,
   "metadata": {},
   "outputs": [],
   "source": [
    "import numpy as np\n",
    "import pandas as pd\n",
    "import git\n",
    "import mlflow.keras\n",
    "import os, sys\n",
    "from gensim.models.wrappers import FastText\n",
    "\n",
    "#import tensorflow_hub as hub\n",
    "from tensorflow.keras.callbacks import *\n",
    "from tensorflow.keras.optimizers import *\n",
    "\n",
    "from sklearn.metrics import *\n",
    "from sklearn.model_selection import train_test_split\n",
    "import matplotlib.pyplot as plt\n",
    "#import random\n",
    "%matplotlib inline\n",
    "pd.set_option('display.max_rows', None)\n",
    "from tqdm import tqdm\n",
    "sys.path.append('../citation_bio_trainer')\n",
    "#from feature.SpacyFeaturizer import get_spacy_feats_from_text\n",
    "from feature.Featurizer import Featurizer\n",
    "from util.Utils import calulate_ser_jer, load_from_folder, pad_sequences, load_embedding_matrix, evaluate, log_mlflow_results\n",
    "import warnings\n",
    "from model.FTLSTM import calulate_ser_jer, get_model, plot_output\n",
    "warnings.filterwarnings(\"ignore\", category=DeprecationWarning) "
   ]
  },
  {
   "cell_type": "markdown",
   "metadata": {},
   "source": [
    "## LSTM with random embedding model"
   ]
  },
  {
   "cell_type": "code",
   "execution_count": 30,
   "metadata": {},
   "outputs": [
    {
     "name": "stdout",
     "output_type": "stream",
     "text": [
      "CPU times: user 1min 30s, sys: 461 ms, total: 1min 30s\n",
      "Wall time: 1min 30s\n"
     ]
    }
   ],
   "source": [
    "%%time\n",
    "train_data_path = '/nlp/cs_mixed_20k/cs_mixed_20k_train/'\n",
    "test_data_path  = '/nlp/cs_mixed_20k/cs_mixed_20k_test/'\n",
    "eval_without_intra_newline_path  = '/nlp/eval_data_spacy_tokenized_extra_space_removed/'\n",
    "\n",
    "sentences_train, sent_tags_train = load_from_folder(train_data_path)\n",
    "sentences_test, sent_tags_test = load_from_folder(test_data_path)\n",
    "sentences_eval1, sent_tags_eval1 = load_from_folder(eval_without_intra_newline_path)"
   ]
  },
  {
   "cell_type": "markdown",
   "metadata": {},
   "source": [
    "### Create new dataset with sliding window "
   ]
  },
  {
   "cell_type": "code",
   "execution_count": 31,
   "metadata": {},
   "outputs": [],
   "source": [
    "def sliding_window_seq(sequence, tags=[], winSize=100,step=1, has_tags=True):\n",
    "    out_seq = []\n",
    "    out_tags = []\n",
    "    if step > winSize:\n",
    "        print(\"step bigger than window\")\n",
    "        \n",
    "    numOfChunks = int(((len(sequence)-winSize)/step)+2)\n",
    "    if has_tags:\n",
    "        for i in range(0,numOfChunks*step,step):\n",
    "            out_seq.append(\" \".join(sequence[i:i+winSize]))\n",
    "            out_tags.append(\" \".join(tags[i:i+winSize]))\n",
    "    else:\n",
    "        for i in range(0,numOfChunks*step,step):\n",
    "            out_seq.append(\" \".join(sequence[i:i+winSize]))\n",
    "        \n",
    "    return out_seq, out_tags\n",
    "\n",
    "def sliding_window_list(sequence_list, tag_list=[], winSize=100, step=90, has_tags=True):\n",
    "    out_seq_list = []\n",
    "    out_tag_list = []\n",
    "    for seq, tags in tqdm(zip(sequence_list, tag_list)):\n",
    "        newseq, newtags = sliding_window_seq(seq.split(\" \"), tags.split(\" \"), winSize, step)\n",
    "        out_seq_list.append(newseq)\n",
    "        out_tag_list.append(newtags)\n",
    "    return out_seq_list, out_tag_list"
   ]
  },
  {
   "cell_type": "code",
   "execution_count": null,
   "metadata": {},
   "outputs": [],
   "source": []
  },
  {
   "cell_type": "code",
   "execution_count": 32,
   "metadata": {},
   "outputs": [
    {
     "name": "stderr",
     "output_type": "stream",
     "text": [
      "17575it [00:03, 5512.66it/s]\n",
      "1953it [00:00, 5800.91it/s]\n",
      "1328it [00:00, 3100.92it/s]"
     ]
    },
    {
     "name": "stdout",
     "output_type": "stream",
     "text": [
      "CPU times: user 3.97 s, sys: 20.6 ms, total: 3.99 s\n",
      "Wall time: 3.98 s\n"
     ]
    },
    {
     "name": "stderr",
     "output_type": "stream",
     "text": [
      "\n"
     ]
    }
   ],
   "source": [
    "%%time\n",
    "sentences_train_win, sent_tags_train_win = sliding_window_list(sentences_train, sent_tags_train)\n",
    "sentences_test_win, sent_tags_test_win = sliding_window_list(sentences_test, sent_tags_test)\n",
    "sentences_eval1_win, sent_tags_eval1_win = sliding_window_list(sentences_eval1, sent_tags_eval1)"
   ]
  },
  {
   "cell_type": "code",
   "execution_count": 316,
   "metadata": {},
   "outputs": [
    {
     "data": {
      "text/plain": [
       "597"
      ]
     },
     "execution_count": 316,
     "metadata": {},
     "output_type": "execute_result"
    }
   ],
   "source": [
    "len(sentences_eval1[0].split(\" \"))"
   ]
  },
  {
   "cell_type": "code",
   "execution_count": 318,
   "metadata": {},
   "outputs": [
    {
     "data": {
      "text/plain": [
       "'Placenta . 1996;17:37 - 48 . \\n 3 . Salafia CM , Ernst LM , Pezzullo JC , Wolf EJ , Rosenkrantz TS , Vintzileos AM . The very low birthweight infant : maternal complications leading to preterm birth , placental lesions , and intrauterine growth . Am J Perinatol . 1995;12:106 - 10 . \\n 4 . Salgado SS , Salgado MKR . Structural changes in pre - eclamptic and eclamptic placentas - an ultrastructural study . J Coll Physicians Surg Pak . 2011;21:482 - 6 . \\n 5 . Higgins M , Felle P , Mooney EE ,'"
      ]
     },
     "execution_count": 318,
     "metadata": {},
     "output_type": "execute_result"
    }
   ],
   "source": [
    "sentences_eval1_win[1]"
   ]
  },
  {
   "cell_type": "code",
   "execution_count": null,
   "metadata": {},
   "outputs": [],
   "source": []
  },
  {
   "cell_type": "code",
   "execution_count": null,
   "metadata": {},
   "outputs": [],
   "source": []
  },
  {
   "cell_type": "code",
   "execution_count": 33,
   "metadata": {},
   "outputs": [
    {
     "name": "stdout",
     "output_type": "stream",
     "text": [
      "CPU times: user 55.3 ms, sys: 0 ns, total: 55.3 ms\n",
      "Wall time: 54.8 ms\n"
     ]
    }
   ],
   "source": [
    "%%time\n",
    "### Flatten the 3d list to 2d\n",
    "sentences_train_win = [item for sublist in sentences_train_win for item in sublist]\n",
    "sent_tags_train_win = [item for sublist in sent_tags_train_win for item in sublist]\n",
    "\n",
    "sentences_test_win = [item for sublist in sentences_test_win for item in sublist]\n",
    "sent_tags_test_win = [item for sublist in sent_tags_test_win for item in sublist]\n",
    "\n",
    "sentences_eval1_win = [item for sublist in sentences_eval1_win for item in sublist]\n",
    "sent_tags_eval1_win = [item for sublist in sent_tags_eval1_win for item in sublist]"
   ]
  },
  {
   "cell_type": "code",
   "execution_count": 61,
   "metadata": {},
   "outputs": [
    {
     "data": {
      "text/plain": [
       "20784"
      ]
     },
     "execution_count": 61,
     "metadata": {},
     "output_type": "execute_result"
    }
   ],
   "source": [
    "len(sentences_test_win)"
   ]
  },
  {
   "cell_type": "code",
   "execution_count": null,
   "metadata": {},
   "outputs": [],
   "source": []
  },
  {
   "cell_type": "code",
   "execution_count": 34,
   "metadata": {},
   "outputs": [],
   "source": [
    "xtrain, xvalid, ytrain, yvalid = train_test_split(sentences_train_win, sent_tags_train_win, test_size=0.1, random_state=42)"
   ]
  },
  {
   "cell_type": "code",
   "execution_count": 414,
   "metadata": {},
   "outputs": [],
   "source": [
    "feat_config = {'max_vocab':100000,\n",
    "               'lstm_feats':True, \n",
    "               'spacy_feats':False, \n",
    "               'google_feats': False, \n",
    "               'parscit_feats': False,\n",
    "              'custom_feats': False, \n",
    "              'window':100,\n",
    "              'step':90}"
   ]
  },
  {
   "cell_type": "code",
   "execution_count": 36,
   "metadata": {},
   "outputs": [
    {
     "name": "stdout",
     "output_type": "stream",
     "text": [
      "loading train ...\n",
      "loading valid ...\n",
      "loading test ...\n",
      "loading evals ...\n",
      "CPU times: user 56.1 s, sys: 912 ms, total: 57 s\n",
      "Wall time: 57 s\n"
     ]
    }
   ],
   "source": [
    "%%time\n",
    "featurizer = Featurizer(feat_config)\n",
    "print(\"loading train ...\")\n",
    "train_dict, tokenizer, maxlen = featurizer.fit_transform(xtrain, ytrain)\n",
    "print(\"loading valid ...\")\n",
    "valid_dict = featurizer.transform(xvalid, yvalid)\n",
    "print(\"loading test ...\")\n",
    "test_dict  = featurizer.transform(sentences_test_win, sent_tags_test_win)\n",
    "print(\"loading evals ...\")\n",
    "eval1_dict  = featurizer.transform(sentences_eval1_win, sent_tags_eval1_win)"
   ]
  },
  {
   "cell_type": "code",
   "execution_count": 64,
   "metadata": {},
   "outputs": [
    {
     "data": {
      "text/plain": [
       "(20784, 100)"
      ]
     },
     "execution_count": 64,
     "metadata": {},
     "output_type": "execute_result"
    }
   ],
   "source": [
    "test_dict['lstm_feats'].shape"
   ]
  },
  {
   "cell_type": "code",
   "execution_count": 37,
   "metadata": {},
   "outputs": [],
   "source": [
    "# %%time\n",
    "# ### Load from file\n",
    "# maxlen = 3861\n",
    "# train_dict={}\n",
    "# train_dict['labels'] = np.load('/nlp/temp/train_dict_labels.npy')\n",
    "# train_dict['lstm_feats']=np.load('/nlp/temp/train_dict_lstm_feats.npy')\n",
    "# train_dict['spacy_num_feats'] = np.load('/nlp/temp/train_dict_spacy_feats.npy')\n",
    "\n",
    "# valid_dict={}\n",
    "# valid_dict['labels']=np.load('/nlp/temp/valid_dict_labels.npy')\n",
    "# valid_dict['lstm_feats']=np.load('/nlp/temp/valid_dict_lstm_feats.npy')\n",
    "# valid_dict['spacy_num_feats']=np.load('/nlp/temp/valid_dict_spacy_feats.npy')\n",
    "\n",
    "# test_dict={}\n",
    "# test_dict['labels'] = np.load('/nlp/temp/test_dict_labels.npy')\n",
    "# test_dict['lstm_feats']=np.load('/nlp/temp/test_dict_lstm_feats.npy')\n",
    "# test_dict['spacy_num_feats']=np.load('/nlp/temp/test_dict_spacy_feats.npy')\n",
    "\n",
    "# eval1_dict={}\n",
    "# eval1_dict['labels'] = np.load('/nlp/temp/eval1_dict_labels.npy')\n",
    "# eval1_dict['lstm_feats']=np.load('/nlp/temp/eval1_dict_lstm_feats.npy')\n",
    "# eval1_dict['spacy_num_feats']=np.load('/nlp/temp/eval1_dict_spacy_feats.npy')"
   ]
  },
  {
   "cell_type": "code",
   "execution_count": 38,
   "metadata": {},
   "outputs": [],
   "source": [
    "# def get_custom_feats(data_ls, maxlen):\n",
    "#     feat_arr = np.zeros((len(data_ls), maxlen, 5), dtype='int8') #[[[0]* 5]* maxlen]* len(data_ls)\n",
    "#     for ind in tqdm(range(len(data_ls))):\n",
    "#         sent_ls = data_ls[ind].split(\" \") \n",
    "#         for i in range(len(sent_ls) - 2):\n",
    "#             if i>= maxlen:\n",
    "#                 break\n",
    "#             if i == 0:\n",
    "#                 feat_arr[ind][i][0] = 1\n",
    "#             elif sent_ls[i-1] == '\\n':\n",
    "#                 if sent_ls[i].isdigit() and len(sent_ls[i]) <= 2 and sent_ls[i+1] in ('.', ')'):\n",
    "#                     feat_arr[ind][i][1] = 1\n",
    "#                 elif sent_ls[i].isalpha() and len(sent_ls[i]) == 1 and sent_ls[i+1] in ('.', ')'):\n",
    "#                     feat_arr[ind][i][2] = 1\n",
    "#                 elif sent_ls[i] in ('[', '(') and (sent_ls[i+1].isdigit() and len(sent_ls[i+1]) <=2) and sent_ls[i+2] in (']', ')'):\n",
    "#                     feat_arr[ind][i][3] = 1\n",
    "#                 elif sent_ls[i] in ('[', '(') and (sent_ls[i+1].isalpha() and len(sent_ls[i+1]) ==2) and sent_ls[i+2] in (']', ')'):\n",
    "#                     feat_arr[ind][i][4] = 1\n",
    "#     return feat_arr#.reshape(len(data_ls), maxlen, 1)"
   ]
  },
  {
   "cell_type": "code",
   "execution_count": 39,
   "metadata": {},
   "outputs": [],
   "source": [
    "# %%time\n",
    "# train_custom_arr = get_custom_feats(xtrain, maxlen)\n",
    "# valid_custom_arr = get_custom_feats(xvalid, maxlen)\n",
    "# test_custom_arr = get_custom_feats(sentences_test, maxlen)\n",
    "# eval1_custom_arr = get_custom_feats(sentences_eval1, maxlen)"
   ]
  },
  {
   "cell_type": "markdown",
   "metadata": {},
   "source": [
    "### Neural parscit features (temporary fix)"
   ]
  },
  {
   "cell_type": "code",
   "execution_count": 40,
   "metadata": {},
   "outputs": [],
   "source": [
    "# %%time\n",
    "# from feature.ParsCitLSTM import ParsCitLSTM\n",
    "# c = {\n",
    "#         \"model_file\": \"/nlp/parscit/parscit-29-latest.h5\",\n",
    "#         \"label_dict_file\": \"/nlp/parscit/labels.json\",\n",
    "#         \"tfhub_model_dir\": \"/nlp/parscit/resource/\"}\n",
    "# model = ParsCitLSTM(model_config=c)"
   ]
  },
  {
   "cell_type": "code",
   "execution_count": 41,
   "metadata": {},
   "outputs": [],
   "source": [
    "# %%time\n",
    "# train_df = pd.DataFrame([])\n",
    "# valid_df = pd.DataFrame([])\n",
    "# test_df = pd.DataFrame([])\n",
    "#eval1_df = pd.DataFrame([])\n",
    "\n",
    "# train_df['text'] = np.array(xtrain, dtype='object')\n",
    "# valid_df['text'] = np.array(xvalid, dtype='object')\n",
    "# test_df['text'] = np.array(sentences_test, dtype='object')\n",
    "#eval1_df['text'] = np.array(sentences_eval1, dtype='object')"
   ]
  },
  {
   "cell_type": "code",
   "execution_count": null,
   "metadata": {},
   "outputs": [],
   "source": []
  },
  {
   "cell_type": "code",
   "execution_count": 42,
   "metadata": {},
   "outputs": [],
   "source": [
    "#%%time\n",
    "# train_parscit = model.get_parscit_blocks(train_df)\n",
    "# valid_parscit = model.get_parscit_blocks(valid_df)\n",
    "# test_parscit  = model.get_parscit_blocks(test_df)\n",
    "#eval1_parscit = model.get_parscit_blocks(eval1_df, chunk_size=40)\n",
    "\n",
    "\n",
    "# train_parscit = pd.read_pickle('/nlp/temp/train_parscit.pickle')\n",
    "# valid_parscit = pd.read_pickle('/nlp/temp/valid_parscit.pickle')\n",
    "# test_parscit = pd.read_pickle('/nlp/temp/test_parscit.pickle')\n",
    "# eval1_parscit = pd.read_pickle('/nlp/temp/eval1_parscit.pickle')"
   ]
  },
  {
   "cell_type": "code",
   "execution_count": 43,
   "metadata": {},
   "outputs": [],
   "source": [
    "# def pad_dummy_feats(df, maxlen):\n",
    "#     parscit = df.copy()\n",
    "#     parscit_feats = list(parscit['parscit_feat']) \n",
    "#     parscit_padded = []\n",
    "#     for ind in range(len(parscit_feats)):\n",
    "#         parscit_mask = np.zeros((maxlen, 14), dtype='int8')\n",
    "#         if len(parscit_feats[ind]) <= maxlen:\n",
    "#             parscit_mask[0:len(parscit_feats[ind]), :] = parscit_feats[ind][:]\n",
    "#         else:\n",
    "#             parscit_mask[:] = parscit_feats[ind][0:maxlen,:]\n",
    "#         parscit_padded.append(parscit_mask)\n",
    "#     parscit_arr = np.array([i.tolist() for i in parscit_padded])\n",
    "#     return parscit_arr"
   ]
  },
  {
   "cell_type": "code",
   "execution_count": null,
   "metadata": {},
   "outputs": [],
   "source": []
  },
  {
   "cell_type": "code",
   "execution_count": 44,
   "metadata": {},
   "outputs": [],
   "source": [
    "# %%time\n",
    "# train_parscit_arr = pad_dummy_feats(train_parscit, maxlen)\n",
    "# valid_parscit_arr = pad_dummy_feats(valid_parscit, maxlen)\n",
    "# test_parscit_arr  = pad_dummy_feats(test_parscit, maxlen)\n",
    "#eval1_parscit_arr = pad_dummy_feats(eval1_parscit, maxlen)"
   ]
  },
  {
   "cell_type": "code",
   "execution_count": 45,
   "metadata": {},
   "outputs": [],
   "source": [
    "# %%time\n",
    "# ## load saved files\n",
    "# train_parscit_arr = np.load('/nlp/temp/train_parscit_arr.npy')\n",
    "# valid_parscit_arr = np.load('/nlp/temp/valid_parscit_arr.npy')\n",
    "# test_parscit_arr  = np.load('/nlp/temp/test_parscit_arr.npy')\n",
    "# eval1_parscit_arr = np.load('/nlp/temp/eval1_parscit_arr.npy')"
   ]
  },
  {
   "cell_type": "markdown",
   "metadata": {},
   "source": [
    "## Keras with pre-trained fast text embedding"
   ]
  },
  {
   "cell_type": "code",
   "execution_count": 46,
   "metadata": {},
   "outputs": [],
   "source": [
    "#maxlen=100"
   ]
  },
  {
   "cell_type": "code",
   "execution_count": 47,
   "metadata": {},
   "outputs": [
    {
     "name": "stdout",
     "output_type": "stream",
     "text": [
      "CPU times: user 0 ns, sys: 91.9 ms, total: 91.9 ms\n",
      "Wall time: 91.5 ms\n"
     ]
    }
   ],
   "source": [
    "%%time\n",
    "#wiki_model = FastText.load_fasttext_format('/nlp/cc.en.300.bin')\n",
    "#embedding_matrix = load_embedding_matrix(wiki_model, feat_config['max_vocab'], tokenizer.word_index, 300)\n",
    "embedding_matrix=np.load('/nlp/temp/embedding_matrix.npy')"
   ]
  },
  {
   "cell_type": "code",
   "execution_count": 48,
   "metadata": {},
   "outputs": [
    {
     "data": {
      "text/plain": [
       "(100000, 300)"
      ]
     },
     "execution_count": 48,
     "metadata": {},
     "output_type": "execute_result"
    }
   ],
   "source": [
    "embedding_matrix.shape"
   ]
  },
  {
   "cell_type": "code",
   "execution_count": 49,
   "metadata": {},
   "outputs": [],
   "source": [
    "model_config = {'embedding': {'use':True, 'matrix':embedding_matrix, 'trainable':True},## trainableTrue is significantly better \n",
    "                'lstm': {'use':True, 'num': 1, 'units':50, 'dropout':0.2},\n",
    "                'dense':{'use':False, 'num': 1, 'units':32, 'activation': 'relu', 'dropout':0.2},\n",
    "                'optimizer': Adam(\n",
    "        learning_rate=0.001,\n",
    "        beta_1=0.0,\n",
    "        beta_2=0.0,\n",
    "        epsilon=1e-05,\n",
    "        amsgrad=False,\n",
    "    ),\n",
    "                'output_activation' : 'sigmoid', \n",
    "                'batch_size': 32, ## lower the better\n",
    "                'aux_feats': {'use':False, 'dim':31, 'place':'before_lstm'}, \n",
    "                'timedistributed':{'use':False}, ## no difference at all True or False\n",
    "                'shuffle': True ## not much different than False\n",
    "                \n",
    "               }"
   ]
  },
  {
   "cell_type": "code",
   "execution_count": 50,
   "metadata": {},
   "outputs": [
    {
     "name": "stdout",
     "output_type": "stream",
     "text": [
      "first line\n",
      "after imput\n",
      "after embedding\n",
      "before bidirectional\n",
      "after bidirectional\n",
      "Model: \"model\"\n",
      "_________________________________________________________________\n",
      "Layer (type)                 Output Shape              Param #   \n",
      "=================================================================\n",
      "input_1 (InputLayer)         [(None, 100)]             0         \n",
      "_________________________________________________________________\n",
      "embedding (Embedding)        (None, 100, 300)          30000000  \n",
      "_________________________________________________________________\n",
      "bidirectional (Bidirectional (None, 100, 100)          140400    \n",
      "_________________________________________________________________\n",
      "dense (Dense)                (None, 100, 1)            101       \n",
      "=================================================================\n",
      "Total params: 30,140,501\n",
      "Trainable params: 30,140,501\n",
      "Non-trainable params: 0\n",
      "_________________________________________________________________\n",
      "None\n",
      "CPU times: user 1.61 s, sys: 464 ms, total: 2.08 s\n",
      "Wall time: 1.49 s\n"
     ]
    }
   ],
   "source": [
    "%%time\n",
    "model = get_model(feat_config, model_config, maxlen)\n",
    "print(model.summary())"
   ]
  },
  {
   "cell_type": "code",
   "execution_count": 51,
   "metadata": {},
   "outputs": [
    {
     "name": "stdout",
     "output_type": "stream",
     "text": [
      "only lstm features\n",
      "CPU times: user 200 µs, sys: 0 ns, total: 200 µs\n",
      "Wall time: 154 µs\n"
     ]
    }
   ],
   "source": [
    "%%time\n",
    "if feat_config['spacy_feats'] and not feat_config['parscit_feats']:\n",
    "    print('only spacy not parscit')\n",
    "    train_aux = train_dict['spacy_num_feats']\n",
    "    valid_aux = valid_dict['spacy_num_feats']\n",
    "    test_aux  = test_dict['spacy_num_feats']\n",
    "    eval1_aux  = eval1_dict['spacy_num_feats']\n",
    "    \n",
    "elif feat_config['spacy_feats'] and  feat_config['parscit_feats'] and not feat_config['custom_feats']:\n",
    "    print(\"both spacy and parscit\")\n",
    "    train_aux = np.concatenate((train_dict['spacy_num_feats'], train_parscit_arr), axis=-1)\n",
    "    valid_aux = np.concatenate((valid_dict['spacy_num_feats'], valid_parscit_arr), axis=-1)\n",
    "    test_aux  = np.concatenate((test_dict['spacy_num_feats'], test_parscit_arr), axis=-1)\n",
    "    eval1_aux  = np.concatenate((eval1_dict['spacy_num_feats'], eval1_parscit_arr), axis=-1)\n",
    "    \n",
    "elif feat_config['spacy_feats'] and  feat_config['parscit_feats'] and feat_config['custom_feats']:\n",
    "    print(\"all spacy and parscit and custom features\")\n",
    "    train_aux = np.concatenate((train_dict['spacy_num_feats'], train_parscit_arr, train_custom_arr), axis=-1)\n",
    "    valid_aux = np.concatenate((valid_dict['spacy_num_feats'], valid_parscit_arr, valid_custom_arr), axis=-1)\n",
    "    test_aux  = np.concatenate((test_dict['spacy_num_feats'], test_parscit_arr, test_custom_arr), axis=-1)\n",
    "    eval1_aux  = np.concatenate((eval1_dict['spacy_num_feats'], eval1_parscit_arr, eval1_custom_arr), axis=-1)\n",
    "else:\n",
    "    print('only lstm features')"
   ]
  },
  {
   "cell_type": "code",
   "execution_count": 52,
   "metadata": {},
   "outputs": [
    {
     "name": "stdout",
     "output_type": "stream",
     "text": [
      "single input model\n",
      "Epoch 1/100\n",
      "5247/5247 [==============================] - 1287s 245ms/step - loss: 0.0052 - accuracy: 0.9983 - val_loss: 0.0014 - val_accuracy: 0.9995\n",
      "Epoch 2/100\n",
      "5247/5247 [==============================] - 1275s 243ms/step - loss: 0.0012 - accuracy: 0.9996 - val_loss: 9.5721e-04 - val_accuracy: 0.9997\n",
      "Epoch 3/100\n",
      "5247/5247 [==============================] - 1277s 243ms/step - loss: 8.9284e-04 - accuracy: 0.9997 - val_loss: 7.4440e-04 - val_accuracy: 0.9998\n",
      "Epoch 4/100\n",
      "5247/5247 [==============================] - 1274s 243ms/step - loss: 7.6641e-04 - accuracy: 0.9997 - val_loss: 7.0278e-04 - val_accuracy: 0.9998\n",
      "Epoch 5/100\n",
      "5247/5247 [==============================] - 1274s 243ms/step - loss: 6.6174e-04 - accuracy: 0.9998 - val_loss: 6.5163e-04 - val_accuracy: 0.9998\n",
      "Epoch 6/100\n",
      "5247/5247 [==============================] - 1275s 243ms/step - loss: 5.9086e-04 - accuracy: 0.9998 - val_loss: 7.7205e-04 - val_accuracy: 0.9997\n",
      "CPU times: user 6h 58min 12s, sys: 2h 1min 57s, total: 9h 9s\n",
      "Wall time: 2h 7min 51s\n"
     ]
    },
    {
     "data": {
      "image/png": "[encoded data removed]",
      "text/plain": [
       "<Figure size 1152x432 with 2 Axes>"
      ]
     },
     "metadata": {
      "needs_background": "light"
     },
     "output_type": "display_data"
    }
   ],
   "source": [
    "%%time\n",
    "early_stop= EarlyStopping(monitor='val_loss',patience=3,verbose=0,mode='min',restore_best_weights=False, min_delta=0.0001)\n",
    "\n",
    "## multi input\n",
    "if model_config['aux_feats']['use']:\n",
    "    print(\"multi input model\")\n",
    "    history = model.fit([train_dict['lstm_feats'], train_aux], train_dict['labels'], verbose=1, epochs=100, batch_size= model_config['batch_size'], \\\n",
    "                    validation_data=([valid_dict['lstm_feats'], valid_aux], valid_dict['labels']), callbacks=[early_stop], shuffle=model_config['shuffle'])\n",
    "else:\n",
    "    print(\"single input model\")\n",
    "    history = model.fit(train_dict['lstm_feats'], train_dict['labels'], verbose=1, epochs=100, batch_size= model_config['batch_size'], \\\n",
    "                        validation_data=(valid_dict['lstm_feats'], valid_dict['labels']), callbacks=[early_stop], shuffle=model_config['shuffle'])\n",
    "\n",
    "plot_output(history)"
   ]
  },
  {
   "cell_type": "code",
   "execution_count": 319,
   "metadata": {},
   "outputs": [
    {
     "data": {
      "text/plain": [
       "array([[   63,     3,     1, ...,    87,     3,     1],\n",
       "       [10865,     3,     1, ..., 14946,  5559,     2],\n",
       "       [    3,  4330,    78, ...,     8,   732,    89],\n",
       "       ...,\n",
       "       [    2,  1961,  2629, ...,  1913,     3,     4],\n",
       "       [  148,     9,   112, ...,     3,   861,     9],\n",
       "       [   20,  4399,  1564, ...,     5,     5,     5]])"
      ]
     },
     "execution_count": 319,
     "metadata": {},
     "output_type": "execute_result"
    }
   ],
   "source": [
    "eval1_dict['lstm_feats']"
   ]
  },
  {
   "cell_type": "code",
   "execution_count": 53,
   "metadata": {},
   "outputs": [
    {
     "name": "stdout",
     "output_type": "stream",
     "text": [
      "done\n"
     ]
    }
   ],
   "source": [
    "print('done')"
   ]
  },
  {
   "cell_type": "code",
   "execution_count": null,
   "metadata": {},
   "outputs": [],
   "source": [
    "#ls = [len(sent.split(\" \")) for sent in sentences_test]"
   ]
  },
  {
   "cell_type": "code",
   "execution_count": null,
   "metadata": {},
   "outputs": [],
   "source": [
    "#sentences_test[0]"
   ]
  },
  {
   "cell_type": "code",
   "execution_count": 66,
   "metadata": {},
   "outputs": [
    {
     "data": {
      "text/plain": [
       "(20784, 100)"
      ]
     },
     "execution_count": 66,
     "metadata": {},
     "output_type": "execute_result"
    }
   ],
   "source": [
    "test_dict['labels'].shape"
   ]
  },
  {
   "cell_type": "markdown",
   "metadata": {},
   "source": [
    "### Analysis on validation data"
   ]
  },
  {
   "cell_type": "code",
   "execution_count": 80,
   "metadata": {},
   "outputs": [
    {
     "name": "stdout",
     "output_type": "stream",
     "text": [
      "CPU times: user 8.54 s, sys: 418 ms, total: 8.95 s\n",
      "Wall time: 8.93 s\n"
     ]
    }
   ],
   "source": [
    "%%time\n",
    "#keras_model = mlflow.keras.load_model(\"s3://caps-s3-mlflow/artifacts/4/977e2cc7b36040f79dde3d6303d26952/artifacts/models\")\n",
    "if model_config['aux_feats']['use']:\n",
    "    valid_probs = model.predict([valid_dict['lstm_feats'], valid_aux])\n",
    "else:\n",
    "    valid_probs = model.predict(valid_dict['lstm_feats'])\n",
    "\n",
    "valid_probs = valid_probs.reshape(valid_probs.shape[0], valid_probs.shape[1])\n",
    "valid_preds = np.where(valid_probs > 0.5, 1, 0)\n",
    "\n",
    "valid_true_ls = [i[0:len(j.split(\" \"))].tolist() for i,j in zip(valid_dict['labels'], yvalid)]\n",
    "valid_pred_ls = [i[0:len(j.split(\" \"))].tolist() for i,j in zip(valid_preds, yvalid)]\n",
    "result_valid = evaluate(valid_true_ls, valid_pred_ls)"
   ]
  },
  {
   "cell_type": "code",
   "execution_count": 55,
   "metadata": {},
   "outputs": [
    {
     "data": {
      "text/plain": [
       "{'count': 18656,\n",
       " 'count_citations': 45547,\n",
       " 'mean_acc': 0.9996739582395737,\n",
       " 'num_mistakes_seq': 498,\n",
       " 'num_mistakes_all': 521,\n",
       " 'mistakes_per_seq': 1.0461847389558232,\n",
       " 'perc_mistakes_seq': 2.6693825042881647,\n",
       " 'mistake_per_citation': 1.1438733615825412}"
      ]
     },
     "execution_count": 55,
     "metadata": {},
     "output_type": "execute_result"
    }
   ],
   "source": [
    "result_valid"
   ]
  },
  {
   "cell_type": "code",
   "execution_count": 101,
   "metadata": {},
   "outputs": [],
   "source": [
    "valid_preds_win = []\n",
    "for ind in range(len(valid_preds)):\n",
    "    valid_preds_win.append(valid_preds[ind][0:len(xvalid[ind].split(\" \"))])"
   ]
  },
  {
   "cell_type": "code",
   "execution_count": null,
   "metadata": {},
   "outputs": [],
   "source": []
  },
  {
   "cell_type": "code",
   "execution_count": null,
   "metadata": {},
   "outputs": [],
   "source": []
  },
  {
   "cell_type": "code",
   "execution_count": null,
   "metadata": {},
   "outputs": [],
   "source": [
    "#keras_model = mlflow.keras.load_model(\"s3://caps-s3-mlflow/artifacts/4/977e2cc7b36040f79dde3d6303d26952/artifacts/models\")\n",
    "count_valid = 0\n",
    "#valid_df = pd.DataFrame([])\n",
    "valid_ls = []\n",
    "for ind in range(len(valid_preds)):\n",
    "    temp_ls = []\n",
    "    pred = valid_preds[ind]\n",
    "    true = valid_dict['labels'][ind]\n",
    "    if (true == pred).all():\n",
    "        pass\n",
    "    else:\n",
    "        count_valid += 1\n",
    "        fp_ind = np.where((pred == 1) & (true == 0))[0]\n",
    "        fn_ind = np.where((pred == 0) & (true == 1))[0]\n",
    "        if len(fp_ind) > 0:\n",
    "            for x in fp_ind:\n",
    "                valid_ls.append([ind, 'FP'] + np.array(xvalid[ind].split(\" \"))[max(0, x-3):x+4].tolist())\n",
    "                #print(ind, 'FP', np.array(xvalid[ind].split(\" \"))[max(0, x-3):x+4])\n",
    "        if len(fn_ind) > 0:\n",
    "            #print(ind, 'False negatives:', fn_ind)\n",
    "            for x in fn_ind:\n",
    "                valid_ls.append([ind, 'FN'] + np.array(xvalid[ind].split(\" \"))[max(0, x-3):x+4].tolist())\n",
    "                #print(ind, 'FN', np.array(xvalid[ind].split(\" \"))[max(0, x-3):x+4])"
   ]
  },
  {
   "cell_type": "code",
   "execution_count": null,
   "metadata": {},
   "outputs": [],
   "source": [
    "valid_mistakes_df = pd.DataFrame(valid_ls, columns=['index', 'error_type', 'x-3', 'x-2', 'x-1', 'x', 'x+1', 'x+2', 'x+3'])"
   ]
  },
  {
   "cell_type": "code",
   "execution_count": null,
   "metadata": {},
   "outputs": [],
   "source": []
  },
  {
   "cell_type": "markdown",
   "metadata": {},
   "source": [
    "### Analysis of test result"
   ]
  },
  {
   "cell_type": "code",
   "execution_count": 70,
   "metadata": {},
   "outputs": [
    {
     "name": "stdout",
     "output_type": "stream",
     "text": [
      "CPU times: user 9.87 s, sys: 620 ms, total: 10.5 s\n",
      "Wall time: 10.1 s\n"
     ]
    }
   ],
   "source": [
    "%%time\n",
    "#keras_model = mlflow.keras.load_model(\"s3://caps-s3-mlflow/artifacts/4/1d953e89279b49fdb63cd7b3cb6c8b0b/artifacts/models\")\n",
    "if model_config['aux_feats']['use']:\n",
    "    test_probs = model.predict([test_dict['lstm_feats'], test_aux])\n",
    "else:\n",
    "    test_probs = model.predict(test_dict['lstm_feats'])\n",
    "test_probs = test_probs.reshape(test_probs.shape[0], test_probs.shape[1])\n",
    "test_preds = np.where(test_probs > 0.5, 1, 0)\n",
    "# test_true_ls = [i[0:len(j.split(\" \"))].tolist() for i,j in zip(test_dict['labels'], sent_tags_test_win)]\n",
    "# test_pred_ls = [i[0:len(j.split(\" \"))].tolist() for i,j in zip(test_preds, sent_tags_test_win)]\n",
    "# result_test = evaluate(test_true_ls, test_pred_ls)"
   ]
  },
  {
   "cell_type": "code",
   "execution_count": 415,
   "metadata": {},
   "outputs": [
    {
     "data": {
      "text/plain": [
       "{'count': 1953,\n",
       " 'count_citations': 46096,\n",
       " 'mean_ser': 0.002241456410969765,\n",
       " 'mean_jer': 0.002638789754513284,\n",
       " 'mean_acc': 0.9998595911808738,\n",
       " 'num_mistakes_seq': 179,\n",
       " 'num_mistakes_all': 211,\n",
       " 'mistakes_per_seq': 1.1787709497206704,\n",
       " 'perc_mistakes_seq': 9.165386584741423,\n",
       " 'mistake_per_citation': 0.45774036792780287}"
      ]
     },
     "execution_count": 415,
     "metadata": {},
     "output_type": "execute_result"
    }
   ],
   "source": [
    "result_test"
   ]
  },
  {
   "cell_type": "code",
   "execution_count": 293,
   "metadata": {},
   "outputs": [
    {
     "name": "stdout",
     "output_type": "stream",
     "text": [
      "CPU times: user 1.48 s, sys: 0 ns, total: 1.48 s\n",
      "Wall time: 1.48 s\n"
     ]
    }
   ],
   "source": [
    "%%time\n",
    "take_mean = True\n",
    "test_probs_win = []\n",
    "for ind in range(len(test_probs)):\n",
    "    #print(ind)\n",
    "    test_probs_win.append(test_probs[ind][0:len(sentences_test_win[ind].split(\" \"))])\n",
    "\n",
    "test_probs_merged = []\n",
    "window = 100\n",
    "step = 90\n",
    "gind = 0\n",
    "for bigind in range(len(sentences_test)):\n",
    "    temp = []\n",
    "    seqlen =  len(sentences_test[bigind].split(\" \"))\n",
    "    iter = 0\n",
    "    #print(seqlen)\n",
    "    #print(bigind)\n",
    "    for smallind in range(gind, len(test_probs_win)):\n",
    "        if len(temp) < seqlen:\n",
    "            if iter ==0:\n",
    "                temp+=test_probs_win[gind].tolist()\n",
    "                iter +=1\n",
    "                gind += 1\n",
    "            else:\n",
    "                if take_mean:\n",
    "                    temp[-(window-step):] = np.mean([np.array(temp[-(window-step):]), test_probs_win[gind][0:(window-step)]], axis=0).tolist()\n",
    "                    temp += test_probs_win[gind][(window-step):].tolist()\n",
    "                    gind += 1\n",
    "                else:\n",
    "                    temp+=test_probs_win[gind][(window-step):].tolist()\n",
    "                    gind += 1\n",
    "        else:\n",
    "            break\n",
    "    test_probs_merged.append(temp)\n",
    "\n",
    "tag2index = {'B-CIT':1, 'I-CIT':0}\n",
    "test_preds_merged = [[int(t>0.5) for t in test_probs_merged[ind]] for ind in range(len(test_probs_merged))]\n",
    "test_true_merged = [[tag2index[t] for t in sent_tags_test[ind].split(\" \")] for ind in range(len(sent_tags_test))]"
   ]
  },
  {
   "cell_type": "code",
   "execution_count": null,
   "metadata": {},
   "outputs": [],
   "source": []
  },
  {
   "cell_type": "code",
   "execution_count": 398,
   "metadata": {},
   "outputs": [],
   "source": [
    "#result_test = evaluate(test_true_merged, test_preds_merged)"
   ]
  },
  {
   "cell_type": "code",
   "execution_count": 295,
   "metadata": {},
   "outputs": [
    {
     "data": {
      "text/plain": [
       "{'count': 1953,\n",
       " 'count_citations': 46096,\n",
       " 'mean_acc': 0.9998595911808738,\n",
       " 'num_mistakes_seq': 179,\n",
       " 'num_mistakes_all': 211,\n",
       " 'mistakes_per_seq': 1.1787709497206704,\n",
       " 'perc_mistakes_seq': 9.165386584741423,\n",
       " 'mistake_per_citation': 0.45774036792780287}"
      ]
     },
     "execution_count": 295,
     "metadata": {},
     "output_type": "execute_result"
    }
   ],
   "source": [
    "#result_test"
   ]
  },
  {
   "cell_type": "code",
   "execution_count": 270,
   "metadata": {},
   "outputs": [
    {
     "data": {
      "text/plain": [
       "{'count': 1953,\n",
       " 'count_citations': 46096,\n",
       " 'mean_acc': 0.999835077363325,\n",
       " 'num_mistakes_seq': 211,\n",
       " 'num_mistakes_all': 249,\n",
       " 'mistakes_per_seq': 1.180094786729858,\n",
       " 'perc_mistakes_seq': 10.80389144905274,\n",
       " 'mistake_per_citation': 0.5401770218674071}"
      ]
     },
     "execution_count": 270,
     "metadata": {},
     "output_type": "execute_result"
    }
   ],
   "source": [
    "#result_test"
   ]
  },
  {
   "cell_type": "code",
   "execution_count": null,
   "metadata": {},
   "outputs": [],
   "source": []
  },
  {
   "cell_type": "code",
   "execution_count": 416,
   "metadata": {},
   "outputs": [
    {
     "name": "stderr",
     "output_type": "stream",
     "text": [
      "2020/09/02 15:00:26 WARNING mlflow.models.model: Logging model metadata to the tracking server has failed, possibly due older server version. The model artifacts have been logged successfully under s3://caps-s3-mlflow/artifacts/4/bf735af94c3946b1b27cacbedfea408e/artifacts. In addition to exporting model artifacts, MLflow clients 1.7.0 and above attempt to record model metadata to the  tracking store. If logging to a mlflow server via REST, consider  upgrading the server version to MLflow 1.7.0 or above.\n"
     ]
    }
   ],
   "source": [
    "%%time\n",
    "tags = {'dataset':'cs_mixed_20k', 'data_split':'test', 'version':2} \n",
    "del model_config['embedding']['matrix'] \n",
    "opt = model_config['optimizer']\n",
    "model_config['optimizer'] = str(opt.get_config())\n",
    "log_mlflow_results(model, result_test, feat_config, model_config, tags)"
   ]
  },
  {
   "cell_type": "code",
   "execution_count": 400,
   "metadata": {},
   "outputs": [],
   "source": [
    "count_test = 0\n",
    "test_ls = []\n",
    "for ind in range(len(test_preds_merged)):\n",
    "    temp_ls = []\n",
    "    pred = np.array(test_preds_merged[ind])\n",
    "    true = np.array(test_true_merged[ind])\n",
    "    if (true == pred).all():\n",
    "        pass\n",
    "    else:\n",
    "        count_test += 1\n",
    "        fp_ind = np.where((pred == 1) & (true == 0))[0]\n",
    "        fn_ind = np.where((pred == 0) & (true == 1))[0]\n",
    "        if len(fp_ind) > 0:\n",
    "            #print(ind, 'fp', fp_ind)\n",
    "            for x in fp_ind:\n",
    "                ls = ['None']*7\n",
    "                if max(0, x-3)==0:\n",
    "                    ls[3-x:] = np.array(sentences_test[ind].split(\" \"))[max(0, x-3):x+4].tolist()\n",
    "                else:\n",
    "                    ls = np.array(sentences_test[ind].split(\" \"))[max(0, x-3):x+4].tolist()\n",
    "                test_ls.append([ind, x, 'FP'] + ls)\n",
    "                #print(ind, 'FP', np.array(sentences_test[ind].split(\" \"))[max(0, x-3):x+4])\n",
    "        if len(fn_ind) > 0:\n",
    "            #print(ind, 'False negatives:', fn_ind)\n",
    "            #print(ind, 'fn', fn_ind)\n",
    "            for x in fn_ind:\n",
    "                ls = ['None']*7\n",
    "                if max(0, x-3)==0:\n",
    "                    ls[3-x:] = np.array(sentences_test[ind].split(\" \"))[max(0, x-3):x+4].tolist()\n",
    "                else:\n",
    "                    ls = np.array(sentences_test[ind].split(\" \"))[max(0, x-3):x+4].tolist()\n",
    "                test_ls.append([ind, x, 'FN'] + ls)\n",
    "                #print(ind, 'FN', np.array(sentences_test[ind].split(\" \"))[max(0, x-3):x+4])"
   ]
  },
  {
   "cell_type": "code",
   "execution_count": 401,
   "metadata": {},
   "outputs": [],
   "source": [
    "test_mistakes_df = pd.DataFrame(test_ls, columns=['seq_index', 'token_index', 'error_type', 'x-3', 'x-2', 'x-1', 'x', 'x+1', 'x+2', 'x+3'])"
   ]
  },
  {
   "cell_type": "code",
   "execution_count": 402,
   "metadata": {},
   "outputs": [],
   "source": [
    "test_mistakes_df = test_mistakes_df.replace('\\n', 'newline')"
   ]
  },
  {
   "cell_type": "code",
   "execution_count": 407,
   "metadata": {},
   "outputs": [],
   "source": [
    "#test_mistakes_df"
   ]
  },
  {
   "cell_type": "code",
   "execution_count": 408,
   "metadata": {},
   "outputs": [],
   "source": [
    "test_mistakes_df.to_csv('../test_mistakes_window1.csv')"
   ]
  },
  {
   "cell_type": "code",
   "execution_count": null,
   "metadata": {},
   "outputs": [],
   "source": [
    "#test_mistakes_df[test_mistakes_df.error_type == 'FP']"
   ]
  },
  {
   "cell_type": "markdown",
   "metadata": {},
   "source": [
    "### Analysis of eval dataset"
   ]
  },
  {
   "cell_type": "code",
   "execution_count": null,
   "metadata": {},
   "outputs": [],
   "source": [
    "%%time\n",
    "#keras_model = mlflow.keras.load_model(\"s3://caps-s3-mlflow/artifacts/4/1d953e89279b49fdb63cd7b3cb6c8b0b/artifacts/models\")"
   ]
  },
  {
   "cell_type": "code",
   "execution_count": 321,
   "metadata": {},
   "outputs": [
    {
     "name": "stdout",
     "output_type": "stream",
     "text": [
      "only lstm features ...\n"
     ]
    }
   ],
   "source": [
    "if model_config['aux_feats']['use']:\n",
    "    print('auxiliary features ...')\n",
    "    eval1_probs = model.predict([eval1_dict['lstm_feats'], eval1_aux])\n",
    "else:\n",
    "    print('only lstm features ...')\n",
    "    eval1_probs = model.predict(eval1_dict['lstm_feats'])\n",
    "eval1_probs = eval1_probs.reshape(eval1_probs.shape[0], eval1_probs.shape[1])\n",
    "eval1_preds = np.where(eval1_probs > 0.5, 1, 0)\n",
    "\n",
    "\n",
    "eval1_true_ls = [i[0:len(j.split(\" \"))].tolist() for i,j in zip(eval1_dict['labels'], sent_tags_eval1_win)]\n",
    "eval1_pred_ls = [i[0:len(j.split(\" \"))].tolist() for i,j in zip(eval1_preds, sent_tags_eval1_win)]\n",
    "result_eval1 = evaluate(eval1_true_ls, eval1_pred_ls)"
   ]
  },
  {
   "cell_type": "code",
   "execution_count": 417,
   "metadata": {},
   "outputs": [
    {
     "data": {
      "text/plain": [
       "{'count': 1328,\n",
       " 'count_citations': 56850,\n",
       " 'mean_acc': 0.9998530866974515,\n",
       " 'num_mistakes_seq': 300,\n",
       " 'num_mistakes_all': 344,\n",
       " 'mistakes_per_seq': 1.1466666666666667,\n",
       " 'perc_mistakes_seq': 22.59036144578313,\n",
       " 'mistake_per_citation': 0.6051011433597185}"
      ]
     },
     "execution_count": 417,
     "metadata": {},
     "output_type": "execute_result"
    }
   ],
   "source": [
    "result_eval1"
   ]
  },
  {
   "cell_type": "code",
   "execution_count": null,
   "metadata": {},
   "outputs": [],
   "source": [
    "result_eval1"
   ]
  },
  {
   "cell_type": "code",
   "execution_count": 418,
   "metadata": {},
   "outputs": [
    {
     "name": "stdout",
     "output_type": "stream",
     "text": [
      "CPU times: user 2.15 s, sys: 6.84 ms, total: 2.15 s\n",
      "Wall time: 2.13 s\n"
     ]
    }
   ],
   "source": [
    "%%time\n",
    "take_mean = True\n",
    "eval1_probs_win = []\n",
    "for ind in range(len(eval1_probs)):\n",
    "    #print(ind)\n",
    "    eval1_probs_win.append(eval1_probs[ind][0:len(sentences_eval1_win[ind].split(\" \"))])\n",
    "\n",
    "eval1_probs_merged = []\n",
    "window = 100\n",
    "step = 90\n",
    "gind = 0\n",
    "for bigind in range(len(sentences_eval1)):\n",
    "    temp = []\n",
    "    seqlen =  len(sentences_eval1[bigind].split(\" \"))\n",
    "    iter = 0\n",
    "    #print(seqlen)\n",
    "    #print(bigind)\n",
    "    for smallind in range(gind, len(eval1_probs_win)):\n",
    "        if len(temp) < seqlen:\n",
    "            if iter ==0:\n",
    "                temp+=eval1_probs_win[gind].tolist()\n",
    "                iter +=1\n",
    "                gind += 1\n",
    "            else:\n",
    "                if take_mean:\n",
    "                    temp[-(window-step):] = np.mean([np.array(temp[-(window-step):]), eval1_probs_win[gind][0:(window-step)]], axis=0).tolist()\n",
    "                    temp += eval1_probs_win[gind][(window-step):].tolist()\n",
    "                    gind += 1\n",
    "                else:\n",
    "                    temp+=eval1_probs_win[gind][(window-step):].tolist()\n",
    "                    gind += 1\n",
    "        else:\n",
    "            break\n",
    "    eval1_probs_merged.append(temp)\n",
    "\n",
    "tag2index = {'B-CIT':1, 'I-CIT':0}\n",
    "eval1_preds_merged = [[int(t>0.5) for t in eval1_probs_merged[ind]] for ind in range(len(eval1_probs_merged))]\n",
    "eval1_true_merged = [[tag2index[t] for t in sent_tags_eval1[ind].split(\" \")] for ind in range(len(sent_tags_eval1))]"
   ]
  },
  {
   "cell_type": "code",
   "execution_count": 419,
   "metadata": {},
   "outputs": [],
   "source": [
    "result_eval1 = evaluate(eval1_true_merged, eval1_preds_merged)"
   ]
  },
  {
   "cell_type": "code",
   "execution_count": 420,
   "metadata": {},
   "outputs": [
    {
     "data": {
      "text/plain": [
       "{'count': 1328,\n",
       " 'count_citations': 56850,\n",
       " 'mean_ser': 0.0007637693631669535,\n",
       " 'mean_jer': 0.006231187644864529,\n",
       " 'mean_acc': 0.9998530866974515,\n",
       " 'num_mistakes_seq': 300,\n",
       " 'num_mistakes_all': 344,\n",
       " 'mistakes_per_seq': 1.1466666666666667,\n",
       " 'perc_mistakes_seq': 22.59036144578313,\n",
       " 'mistake_per_citation': 0.6051011433597185}"
      ]
     },
     "execution_count": 420,
     "metadata": {},
     "output_type": "execute_result"
    }
   ],
   "source": [
    "result_eval1"
   ]
  },
  {
   "cell_type": "markdown",
   "metadata": {},
   "source": [
    "### Visualize errors"
   ]
  },
  {
   "cell_type": "code",
   "execution_count": 365,
   "metadata": {},
   "outputs": [],
   "source": [
    "count_eval1 = 0\n",
    "eval1_ls = []\n",
    "for ind in range(len(eval1_preds_merged)):\n",
    "    temp_ls = []\n",
    "    pred = np.array(eval1_preds_merged[ind])\n",
    "    true = np.array(eval1_true_merged[ind])\n",
    "    if (true == pred).all():\n",
    "        pass\n",
    "    else:\n",
    "        count_eval1 += 1\n",
    "        fp_ind = np.where((pred == 1) & (true == 0))[0]\n",
    "        fn_ind = np.where((pred == 0) & (true == 1))[0]\n",
    "        if len(fp_ind) > 0:\n",
    "            #print(ind, 'fp', fp_ind)\n",
    "            for x in fp_ind:\n",
    "                ls = ['None']*7\n",
    "                if max(0, x-3)==0:\n",
    "                    ls[3-x:] = np.array(sentences_eval1[ind].split(\" \"))[max(0, x-3):x+4].tolist()\n",
    "                else:\n",
    "                    ls = np.array(sentences_eval1[ind].split(\" \"))[max(0, x-3):x+4].tolist()\n",
    "                eval1_ls.append([ind, x, 'FP'] + ls)\n",
    "                #print(ind, 'FP', np.array(sentences_eval1[ind].split(\" \"))[max(0, x-3):x+4])\n",
    "        if len(fn_ind) > 0:\n",
    "            #print(ind, 'False negatives:', fn_ind)\n",
    "            #print(ind, 'fn', fn_ind)\n",
    "            for x in fn_ind:\n",
    "                ls = ['None']*7\n",
    "                if max(0, x-3)==0:\n",
    "                    ls[3-x:] = np.array(sentences_eval1[ind].split(\" \"))[max(0, x-3):x+4].tolist()\n",
    "                else:\n",
    "                    ls = np.array(sentences_eval1[ind].split(\" \"))[max(0, x-3):x+4].tolist()\n",
    "                eval1_ls.append([ind, x, 'FN'] + ls)\n",
    "                #print(ind, 'FN', np.array(sentences_eval1[ind].split(\" \"))[max(0, x-3):x+4])"
   ]
  },
  {
   "cell_type": "code",
   "execution_count": 366,
   "metadata": {},
   "outputs": [],
   "source": [
    "#eval1_ls"
   ]
  },
  {
   "cell_type": "code",
   "execution_count": 367,
   "metadata": {},
   "outputs": [],
   "source": [
    "eval_mistakes_df = pd.DataFrame(eval1_ls, columns=['seq_index', 'token_index', 'error_type', 'x-3', 'x-2', 'x-1', 'x', 'x+1', 'x+2', 'x+3'])"
   ]
  },
  {
   "cell_type": "code",
   "execution_count": 410,
   "metadata": {},
   "outputs": [],
   "source": [
    "eval_mistakes_df = eval_mistakes_df.replace('\\n', 'newline')"
   ]
  },
  {
   "cell_type": "code",
   "execution_count": 412,
   "metadata": {},
   "outputs": [
    {
     "data": {
      "text/plain": [
       "(344, 10)"
      ]
     },
     "execution_count": 412,
     "metadata": {},
     "output_type": "execute_result"
    }
   ],
   "source": [
    "eval_mistakes_df.shape"
   ]
  },
  {
   "cell_type": "code",
   "execution_count": null,
   "metadata": {},
   "outputs": [],
   "source": [
    "sentences_eval1[180].split(\" \")[1880]"
   ]
  },
  {
   "cell_type": "code",
   "execution_count": null,
   "metadata": {},
   "outputs": [],
   "source": [
    "eval1_dict['lstm_feats'][180][1879]"
   ]
  },
  {
   "cell_type": "code",
   "execution_count": null,
   "metadata": {},
   "outputs": [],
   "source": [
    "tokenizer.word_index['.']"
   ]
  },
  {
   "cell_type": "code",
   "execution_count": null,
   "metadata": {},
   "outputs": [],
   "source": [
    "eval1_dict['spacy_num_feats'][180][1880]"
   ]
  },
  {
   "cell_type": "code",
   "execution_count": null,
   "metadata": {},
   "outputs": [],
   "source": [
    "\"IS_ALPHA\",  \"IS_ASCII\", \"IS_DIGIT\",\n",
    "            \"IS_LOWER\",  \"IS_UPPER\", \"IS_TITLE\", \n",
    "            \"IS_PUNCT\",  \"IS_SPACE\", \"IS_STOP\", \n",
    "            \"LIKE_NUM\",  \"LIKE_URL\", \"LIKE_EMAIL\", #\"LENGTH\",\n",
    "        ]"
   ]
  },
  {
   "cell_type": "code",
   "execution_count": null,
   "metadata": {},
   "outputs": [],
   "source": [
    "eval1_parscit_arr[180][1879]"
   ]
  },
  {
   "cell_type": "code",
   "execution_count": 389,
   "metadata": {},
   "outputs": [],
   "source": [
    "# for ind in range(100):\n",
    "#     print(sentences_train[ind].split(\" \")[0])"
   ]
  },
  {
   "cell_type": "code",
   "execution_count": 388,
   "metadata": {},
   "outputs": [
    {
     "data": {
      "text/plain": [
       "array([   63,     3,     1,    78,     2, 11609,   171,     2,  2422,\n",
       "         179,     2,   512,  3094,     2,     1,  3550,     3, 40789,\n",
       "       11617,     1,    10,  2244, 12023,    12, 95607,    10,  3636,\n",
       "           7,  4653,  1668,     7, 18394,    43,    10,  1626,  4392,\n",
       "         292,  8221,     3, 34022,     3,     1,     7,   135,     3,\n",
       "           4,    84,     3,     1,   201,     2,  1504,  2010,     2,\n",
       "        7020,   185,     2,     1,   212,     2,  4171,    57,     2,\n",
       "        1124,  5467,     2,     1,   253,     2, 14649,  5467,     3,\n",
       "         379,    71,     8, 11617,  5507,     1,    38,   292,     7,\n",
       "       11507, 20550,    43,  5540, 11221,  5456, 10545, 59296,     3,\n",
       "       10865,     3,     1,     7,  1199,     3,     4,    87,     3,\n",
       "           1])"
      ]
     },
     "execution_count": 388,
     "metadata": {},
     "output_type": "execute_result"
    }
   ],
   "source": [
    "eval1_dict['lstm_feats'][0]"
   ]
  },
  {
   "cell_type": "code",
   "execution_count": 390,
   "metadata": {},
   "outputs": [],
   "source": [
    "tn, fp, fn, tp = confusion_matrix(y_true=eval1_true_merged[0], y_pred=eval1_preds_merged[0]).ravel()"
   ]
  },
  {
   "cell_type": "code",
   "execution_count": null,
   "metadata": {},
   "outputs": [],
   "source": []
  },
  {
   "cell_type": "code",
   "execution_count": 413,
   "metadata": {},
   "outputs": [],
   "source": [
    "eval_mistakes_df.to_csv('../eval_mistakes_window1.csv', index=False)"
   ]
  },
  {
   "cell_type": "markdown",
   "metadata": {},
   "source": [
    "### Save eval results to file"
   ]
  },
  {
   "cell_type": "code",
   "execution_count": null,
   "metadata": {},
   "outputs": [],
   "source": [
    "ind = 0\n",
    "eval_path_dict = {}\n",
    "for fpath in os.listdir(eval_without_intra_newline_path):\n",
    "    if fpath not in ['data-gen-config.json', 'data_generation_stats.csv'] and \".csv\" in fpath:\n",
    "        eval_path_dict[ind] = fpath\n",
    "        ind += 1"
   ]
  },
  {
   "cell_type": "code",
   "execution_count": null,
   "metadata": {},
   "outputs": [],
   "source": [
    "eval_folder_path = '/nlp/eval_data_retok_predictions_f3a9cc61e30f460499b95a4c2b7957ae'\n",
    "if not os.path.exists(eval_folder_path):\n",
    "    os.makedirs(eval_folder_path)\n",
    "for ind in range(len(eval_preds1)):\n",
    "    #print(ind)\n",
    "    df = pd.DataFrame([], columns=['x', 'y'])\n",
    "    seq_len = min(len(sentences_eval1[ind].split(\" \")), maxlen)\n",
    "    df['x'] = sentences_eval1[ind].split(\" \")[0:seq_len]\n",
    "    df['y'] = eval_preds1[ind][0:seq_len]\n",
    "    df.to_csv(os.path.join(eval_folder_path, eval_path_dict[ind][0:-4] + '_pred.csv'))"
   ]
  },
  {
   "cell_type": "markdown",
   "metadata": {},
   "source": [
    "### Log Eval results to MLFlow"
   ]
  },
  {
   "cell_type": "code",
   "execution_count": 421,
   "metadata": {},
   "outputs": [
    {
     "name": "stderr",
     "output_type": "stream",
     "text": [
      "2020/09/02 15:02:25 WARNING mlflow.models.model: Logging model metadata to the tracking server has failed, possibly due older server version. The model artifacts have been logged successfully under s3://caps-s3-mlflow/artifacts/4/59e06c5ff45944f5bf56745b2e19cb05/artifacts. In addition to exporting model artifacts, MLflow clients 1.7.0 and above attempt to record model metadata to the  tracking store. If logging to a mlflow server via REST, consider  upgrading the server version to MLflow 1.7.0 or above.\n"
     ]
    }
   ],
   "source": [
    "tags = {'dataset':'cs_mixed_20k', 'data_split':'eval_with_intra_newline_path','version':2}\n",
    "#del model_config['embedding']['matrix'] \n",
    "#opt = model_config['optimizer']\n",
    "#model_config['optimizer'] = str(opt.get_config())\n",
    "log_mlflow_results(model, result_eval1, feat_config, model_config, tags)"
   ]
  },
  {
   "cell_type": "code",
   "execution_count": null,
   "metadata": {},
   "outputs": [],
   "source": []
  },
  {
   "cell_type": "markdown",
   "metadata": {},
   "source": [
    "### Saving features to file"
   ]
  },
  {
   "cell_type": "code",
   "execution_count": null,
   "metadata": {},
   "outputs": [],
   "source": [
    "# %%time\n",
    "# np.save('/nlp/temp/train_dict_labels.npy', train_dict['labels'])\n",
    "# np.save('/nlp/temp/train_dict_lstm_feats.npy', train_dict['lstm_feats'])\n",
    "# np.save('/nlp/temp/train_dict_spacy_feats.npy', train_dict['spacy_num_feats'])\n",
    "\n",
    "# np.save('/nlp/temp/valid_dict_labels.npy', valid_dict['labels'])\n",
    "# np.save('/nlp/temp/valid_dict_lstm_feats.npy', valid_dict['lstm_feats'])\n",
    "# np.save('/nlp/temp/valid_dict_spacy_feats.npy', valid_dict['spacy_num_feats'])\n",
    "\n",
    "# np.save('/nlp/temp/test_dict_labels.npy', test_dict['labels'])\n",
    "# np.save('/nlp/temp/test_dict_lstm_feats.npy', test_dict['lstm_feats'])\n",
    "# np.save('/nlp/temp/test_dict_spacy_feats.npy', test_dict['spacy_num_feats'])"
   ]
  },
  {
   "cell_type": "code",
   "execution_count": null,
   "metadata": {},
   "outputs": [],
   "source": [
    "# np.save('/nlp/temp/eval1_dict_labels.npy', eval1_dict['labels'])\n",
    "# np.save('/nlp/temp/eval1_dict_lstm_feats.npy', eval1_dict['lstm_feats'])\n",
    "# np.save('/nlp/temp/eval1_dict_spacy_feats.npy', eval1_dict['spacy_num_feats'])"
   ]
  },
  {
   "cell_type": "code",
   "execution_count": null,
   "metadata": {},
   "outputs": [],
   "source": [
    "import re"
   ]
  },
  {
   "cell_type": "code",
   "execution_count": null,
   "metadata": {},
   "outputs": [],
   "source": [
    "sentences_eval1[0]"
   ]
  },
  {
   "cell_type": "code",
   "execution_count": null,
   "metadata": {},
   "outputs": [],
   "source": [
    "bla = re.search('\\n [0-9]+ .', sentences_eval1[0]).start()"
   ]
  },
  {
   "cell_type": "code",
   "execution_count": null,
   "metadata": {},
   "outputs": [],
   "source": [
    "bla"
   ]
  },
  {
   "cell_type": "code",
   "execution_count": null,
   "metadata": {},
   "outputs": [],
   "source": [
    "for ind in range(100):\n",
    "    print(np.array(xtrain[ind].split(\" \"))[np.where(np.array(ytrain[ind].split(\" \")) == 'B-CIT')])"
   ]
  },
  {
   "cell_type": "code",
   "execution_count": null,
   "metadata": {},
   "outputs": [],
   "source": [
    "for ind in range(100):\n",
    "    print(ind, '----->', sentences_train[ind][0:500])"
   ]
  },
  {
   "cell_type": "code",
   "execution_count": null,
   "metadata": {},
   "outputs": [],
   "source": [
    "np.where(np.array(sent_tags_train[0].split(\" \")) == \"B-CIT\")"
   ]
  },
  {
   "cell_type": "code",
   "execution_count": null,
   "metadata": {},
   "outputs": [],
   "source": []
  },
  {
   "cell_type": "code",
   "execution_count": null,
   "metadata": {},
   "outputs": [],
   "source": [
    "# string = sentences_eval1[0]\n",
    "# pattern = '\\n [a-zA-Z0-9]+ .'"
   ]
  },
  {
   "cell_type": "code",
   "execution_count": null,
   "metadata": {},
   "outputs": [],
   "source": [
    "#re.findall(pattern, sentences_eval1[2])"
   ]
  },
  {
   "cell_type": "code",
   "execution_count": null,
   "metadata": {},
   "outputs": [],
   "source": [
    "# for ind in range(1000):\n",
    "#     bind = np.where(np.array(sent_tags_eval1[ind].split(\" \")) == 'B-CIT')\n",
    "#     for b in bind[0][0:3]:\n",
    "#         print(b)\n",
    "#         print(sentences_eval1[ind].split(\" \")[max(0, b-2): b+3])"
   ]
  },
  {
   "cell_type": "code",
   "execution_count": null,
   "metadata": {},
   "outputs": [],
   "source": [
    "for ind in range(1000):\n",
    "    bind = np.where(np.array(ytrain[ind].split(\" \")) == 'B-CIT')\n",
    "    for b in bind[0][0:3]:\n",
    "        print(b)\n",
    "        print(xtrain[ind].split(\" \")[max(0, b-4): b+5])"
   ]
  },
  {
   "cell_type": "code",
   "execution_count": null,
   "metadata": {},
   "outputs": [],
   "source": []
  },
  {
   "cell_type": "code",
   "execution_count": null,
   "metadata": {},
   "outputs": [],
   "source": [
    "ind = 6\n",
    "np.where(train_custom_arr[ind].reshape(1,-1)[0] == 1)"
   ]
  },
  {
   "cell_type": "code",
   "execution_count": null,
   "metadata": {},
   "outputs": [],
   "source": [
    "np.where(np.array(ytrain[ind].split(\" \")) == 'B-CIT')"
   ]
  },
  {
   "cell_type": "code",
   "execution_count": null,
   "metadata": {},
   "outputs": [],
   "source": [
    "xtrain[ind]"
   ]
  },
  {
   "cell_type": "code",
   "execution_count": null,
   "metadata": {},
   "outputs": [],
   "source": [
    "xtrain[ind].split(\" \")[246:252]"
   ]
  },
  {
   "cell_type": "code",
   "execution_count": 233,
   "metadata": {},
   "outputs": [
    {
     "data": {
      "text/plain": [
       "array([2.5, 3.5])"
      ]
     },
     "execution_count": 233,
     "metadata": {},
     "output_type": "execute_result"
    }
   ],
   "source": [
    "np.mean([np.array([1,2]), np.array([4,5])], axis=0)"
   ]
  },
  {
   "cell_type": "code",
   "execution_count": 304,
   "metadata": {},
   "outputs": [],
   "source": [
    "count = 0\n",
    "for x in range(len(sentences_eval1)):\n",
    "    if len(sentences_eval1[x].split(\" \"))> 3861:\n",
    "        count += 1"
   ]
  },
  {
   "cell_type": "code",
   "execution_count": 305,
   "metadata": {},
   "outputs": [
    {
     "data": {
      "text/plain": [
       "52"
      ]
     },
     "execution_count": 305,
     "metadata": {},
     "output_type": "execute_result"
    }
   ],
   "source": [
    "count"
   ]
  },
  {
   "cell_type": "code",
   "execution_count": null,
   "metadata": {},
   "outputs": [],
   "source": []
  }
 ],
 "metadata": {
  "kernelspec": {
   "display_name": "Python 3",
   "language": "python",
   "name": "python3"
  },
  "language_info": {
   "codemirror_mode": {
    "name": "ipython",
    "version": 3
   },
   "file_extension": ".py",
   "mimetype": "text/x-python",
   "name": "python",
   "nbconvert_exporter": "python",
   "pygments_lexer": "ipython3",
   "version": "3.7.7"
  }
 },
 "nbformat": 4,
 "nbformat_minor": 4
}
